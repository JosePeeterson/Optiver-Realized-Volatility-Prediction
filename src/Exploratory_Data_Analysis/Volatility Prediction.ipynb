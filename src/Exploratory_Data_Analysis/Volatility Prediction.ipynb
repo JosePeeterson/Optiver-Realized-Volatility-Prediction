{
 "cells": [
  {
   "cell_type": "markdown",
   "id": "add90c93",
   "metadata": {},
   "source": [
    "# Understand the Problem:"
   ]
  },
  {
   "cell_type": "markdown",
   "id": "69ae4644",
   "metadata": {},
   "source": [
    "## Project Objective:"
   ]
  },
  {
   "cell_type": "markdown",
   "id": "07fcbfd5",
   "metadata": {},
   "source": [
    "Our primary goal is to develop predictive models capable of estimating short-term volatility for a diverse range of stocks across various sectors in the financial market."
   ]
  },
  {
   "cell_type": "markdown",
   "id": "f5c10830",
   "metadata": {},
   "source": [
    "## Background:"
   ]
  },
  {
   "cell_type": "markdown",
   "id": "0e1e72ef",
   "metadata": {},
   "source": [
    "Volatility plays a pivotal role in financial markets as it directly influences the pricing of financial instruments like options. Options, which are financial contracts granting the holder the right (but not the obligation) to buy or sell an underlying asset at a predetermined price in the future, are particularly sensitive to the volatility of the underlying asset. Accurate volatility prediction is essential for making informed investment decisions and managing financial risk."
   ]
  },
  {
   "cell_type": "code",
   "execution_count": 1,
   "id": "2552536b",
   "metadata": {},
   "outputs": [],
   "source": [
    "# Importing Libraries\n",
    "\n",
    "import pandas as pd\n",
    "import numpy as np\n",
    "import matplotlib.pyplot as plt"
   ]
  },
  {
   "cell_type": "markdown",
   "id": "feab1963",
   "metadata": {},
   "source": [
    "# Data Exploration:"
   ]
  },
  {
   "cell_type": "markdown",
   "id": "61ba74b7",
   "metadata": {},
   "source": [
    "We begin by exploring the data required for this project. First, we load the training and test datasets:"
   ]
  },
  {
   "cell_type": "code",
   "execution_count": 2,
   "id": "c3a72205",
   "metadata": {},
   "outputs": [],
   "source": [
    "data_dir = \"./optiver-realized-volatility-prediction/\""
   ]
  },
  {
   "cell_type": "code",
   "execution_count": 3,
   "id": "b7f02887",
   "metadata": {},
   "outputs": [
    {
     "name": "stdout",
     "output_type": "stream",
     "text": [
      "Sample of the training data:\n",
      "   stock_id  time_id    target\n",
      "0         0        5  0.004136\n",
      "1         0       11  0.001445\n",
      "2         0       16  0.002168\n",
      "3         0       31  0.002195\n",
      "4         0       62  0.001747\n",
      "\n",
      "Sample of the test data:\n",
      "   stock_id  time_id row_id\n",
      "0         0        4    0-4\n",
      "1         0       32   0-32\n",
      "2         0       34   0-34\n"
     ]
    }
   ],
   "source": [
    "\n",
    "# Load training data\n",
    "train_data = pd.read_csv(data_dir + \"train.csv\")\n",
    "\n",
    "# Display a sample of the training data\n",
    "print(\"Sample of the training data:\")\n",
    "print(train_data.head())\n",
    "\n",
    "# Load test data\n",
    "test_data = pd.read_csv(data_dir + \"test.csv\")\n",
    "\n",
    "# Display a sample of the test data\n",
    "print(\"\\nSample of the test data:\")\n",
    "print(test_data.head())"
   ]
  },
  {
   "cell_type": "markdown",
   "id": "172b2fcd",
   "metadata": {},
   "source": [
    "#### In the test dataset, we notice that the submission file's row_id is composed of the stock_id and time_id connected by a hyphen (-)"
   ]
  },
  {
   "cell_type": "markdown",
   "id": "7e247693",
   "metadata": {},
   "source": [
    "#### Additionally, the test dataset includes book_test.parquet and trade_test.parquet. We explore these datasets as well:"
   ]
  },
  {
   "cell_type": "code",
   "execution_count": 4,
   "id": "33c237aa",
   "metadata": {},
   "outputs": [
    {
     "data": {
      "text/html": [
       "<div>\n",
       "<style scoped>\n",
       "    .dataframe tbody tr th:only-of-type {\n",
       "        vertical-align: middle;\n",
       "    }\n",
       "\n",
       "    .dataframe tbody tr th {\n",
       "        vertical-align: top;\n",
       "    }\n",
       "\n",
       "    .dataframe thead th {\n",
       "        text-align: right;\n",
       "    }\n",
       "</style>\n",
       "<table border=\"1\" class=\"dataframe\">\n",
       "  <thead>\n",
       "    <tr style=\"text-align: right;\">\n",
       "      <th></th>\n",
       "      <th>time_id</th>\n",
       "      <th>seconds_in_bucket</th>\n",
       "      <th>bid_price1</th>\n",
       "      <th>ask_price1</th>\n",
       "      <th>bid_price2</th>\n",
       "      <th>ask_price2</th>\n",
       "      <th>bid_size1</th>\n",
       "      <th>ask_size1</th>\n",
       "      <th>bid_size2</th>\n",
       "      <th>ask_size2</th>\n",
       "    </tr>\n",
       "  </thead>\n",
       "  <tbody>\n",
       "    <tr>\n",
       "      <th>0</th>\n",
       "      <td>4</td>\n",
       "      <td>0</td>\n",
       "      <td>1.000049</td>\n",
       "      <td>1.000590</td>\n",
       "      <td>0.999656</td>\n",
       "      <td>1.000639</td>\n",
       "      <td>91</td>\n",
       "      <td>100</td>\n",
       "      <td>100</td>\n",
       "      <td>24</td>\n",
       "    </tr>\n",
       "    <tr>\n",
       "      <th>1</th>\n",
       "      <td>4</td>\n",
       "      <td>1</td>\n",
       "      <td>1.000049</td>\n",
       "      <td>1.000590</td>\n",
       "      <td>0.999656</td>\n",
       "      <td>1.000639</td>\n",
       "      <td>91</td>\n",
       "      <td>100</td>\n",
       "      <td>100</td>\n",
       "      <td>20</td>\n",
       "    </tr>\n",
       "    <tr>\n",
       "      <th>2</th>\n",
       "      <td>4</td>\n",
       "      <td>5</td>\n",
       "      <td>1.000049</td>\n",
       "      <td>1.000639</td>\n",
       "      <td>0.999656</td>\n",
       "      <td>1.000885</td>\n",
       "      <td>290</td>\n",
       "      <td>20</td>\n",
       "      <td>101</td>\n",
       "      <td>15</td>\n",
       "    </tr>\n",
       "  </tbody>\n",
       "</table>\n",
       "</div>"
      ],
      "text/plain": [
       "   time_id  seconds_in_bucket  bid_price1  ask_price1  bid_price2  ask_price2  \\\n",
       "0        4                  0    1.000049    1.000590    0.999656    1.000639   \n",
       "1        4                  1    1.000049    1.000590    0.999656    1.000639   \n",
       "2        4                  5    1.000049    1.000639    0.999656    1.000885   \n",
       "\n",
       "   bid_size1  ask_size1  bid_size2  ask_size2  \n",
       "0         91        100        100         24  \n",
       "1         91        100        100         20  \n",
       "2        290         20        101         15  "
      ]
     },
     "execution_count": 4,
     "metadata": {},
     "output_type": "execute_result"
    }
   ],
   "source": [
    "# Load book_test data\n",
    "book_test_data = pd.read_parquet(data_dir + \"book_test.parquet/stock_id=0\")\n",
    "book_test_data"
   ]
  },
  {
   "cell_type": "code",
   "execution_count": 5,
   "id": "2b329226",
   "metadata": {
    "scrolled": true
   },
   "outputs": [
    {
     "data": {
      "text/html": [
       "<div>\n",
       "<style scoped>\n",
       "    .dataframe tbody tr th:only-of-type {\n",
       "        vertical-align: middle;\n",
       "    }\n",
       "\n",
       "    .dataframe tbody tr th {\n",
       "        vertical-align: top;\n",
       "    }\n",
       "\n",
       "    .dataframe thead th {\n",
       "        text-align: right;\n",
       "    }\n",
       "</style>\n",
       "<table border=\"1\" class=\"dataframe\">\n",
       "  <thead>\n",
       "    <tr style=\"text-align: right;\">\n",
       "      <th></th>\n",
       "      <th>time_id</th>\n",
       "      <th>seconds_in_bucket</th>\n",
       "      <th>price</th>\n",
       "      <th>size</th>\n",
       "      <th>order_count</th>\n",
       "    </tr>\n",
       "  </thead>\n",
       "  <tbody>\n",
       "    <tr>\n",
       "      <th>0</th>\n",
       "      <td>4</td>\n",
       "      <td>7</td>\n",
       "      <td>1.000344</td>\n",
       "      <td>1</td>\n",
       "      <td>1</td>\n",
       "    </tr>\n",
       "    <tr>\n",
       "      <th>1</th>\n",
       "      <td>4</td>\n",
       "      <td>24</td>\n",
       "      <td>1.000049</td>\n",
       "      <td>100</td>\n",
       "      <td>7</td>\n",
       "    </tr>\n",
       "    <tr>\n",
       "      <th>2</th>\n",
       "      <td>4</td>\n",
       "      <td>27</td>\n",
       "      <td>1.000059</td>\n",
       "      <td>100</td>\n",
       "      <td>3</td>\n",
       "    </tr>\n",
       "  </tbody>\n",
       "</table>\n",
       "</div>"
      ],
      "text/plain": [
       "   time_id  seconds_in_bucket     price  size  order_count\n",
       "0        4                  7  1.000344     1            1\n",
       "1        4                 24  1.000049   100            7\n",
       "2        4                 27  1.000059   100            3"
      ]
     },
     "execution_count": 5,
     "metadata": {},
     "output_type": "execute_result"
    }
   ],
   "source": [
    "# Load trade_test data\n",
    "trade_test_data = pd.read_parquet(data_dir + \"trade_test.parquet/stock_id=0\")\n",
    "trade_test_data"
   ]
  },
  {
   "cell_type": "markdown",
   "id": "4bb635b1",
   "metadata": {},
   "source": [
    "### For the training dataset, we explore data related to a specific stock (stock_id = 0) as an example:"
   ]
  },
  {
   "cell_type": "code",
   "execution_count": 6,
   "id": "a34647fe",
   "metadata": {},
   "outputs": [
    {
     "data": {
      "text/html": [
       "<div>\n",
       "<style scoped>\n",
       "    .dataframe tbody tr th:only-of-type {\n",
       "        vertical-align: middle;\n",
       "    }\n",
       "\n",
       "    .dataframe tbody tr th {\n",
       "        vertical-align: top;\n",
       "    }\n",
       "\n",
       "    .dataframe thead th {\n",
       "        text-align: right;\n",
       "    }\n",
       "</style>\n",
       "<table border=\"1\" class=\"dataframe\">\n",
       "  <thead>\n",
       "    <tr style=\"text-align: right;\">\n",
       "      <th></th>\n",
       "      <th>time_id</th>\n",
       "      <th>seconds_in_bucket</th>\n",
       "      <th>bid_price1</th>\n",
       "      <th>ask_price1</th>\n",
       "      <th>bid_price2</th>\n",
       "      <th>ask_price2</th>\n",
       "      <th>bid_size1</th>\n",
       "      <th>ask_size1</th>\n",
       "      <th>bid_size2</th>\n",
       "      <th>ask_size2</th>\n",
       "    </tr>\n",
       "  </thead>\n",
       "  <tbody>\n",
       "    <tr>\n",
       "      <th>0</th>\n",
       "      <td>5</td>\n",
       "      <td>0</td>\n",
       "      <td>1.001422</td>\n",
       "      <td>1.002301</td>\n",
       "      <td>1.00137</td>\n",
       "      <td>1.002353</td>\n",
       "      <td>3</td>\n",
       "      <td>226</td>\n",
       "      <td>2</td>\n",
       "      <td>100</td>\n",
       "    </tr>\n",
       "    <tr>\n",
       "      <th>1</th>\n",
       "      <td>5</td>\n",
       "      <td>1</td>\n",
       "      <td>1.001422</td>\n",
       "      <td>1.002301</td>\n",
       "      <td>1.00137</td>\n",
       "      <td>1.002353</td>\n",
       "      <td>3</td>\n",
       "      <td>100</td>\n",
       "      <td>2</td>\n",
       "      <td>100</td>\n",
       "    </tr>\n",
       "    <tr>\n",
       "      <th>2</th>\n",
       "      <td>5</td>\n",
       "      <td>5</td>\n",
       "      <td>1.001422</td>\n",
       "      <td>1.002301</td>\n",
       "      <td>1.00137</td>\n",
       "      <td>1.002405</td>\n",
       "      <td>3</td>\n",
       "      <td>100</td>\n",
       "      <td>2</td>\n",
       "      <td>100</td>\n",
       "    </tr>\n",
       "    <tr>\n",
       "      <th>3</th>\n",
       "      <td>5</td>\n",
       "      <td>6</td>\n",
       "      <td>1.001422</td>\n",
       "      <td>1.002301</td>\n",
       "      <td>1.00137</td>\n",
       "      <td>1.002405</td>\n",
       "      <td>3</td>\n",
       "      <td>126</td>\n",
       "      <td>2</td>\n",
       "      <td>100</td>\n",
       "    </tr>\n",
       "    <tr>\n",
       "      <th>4</th>\n",
       "      <td>5</td>\n",
       "      <td>7</td>\n",
       "      <td>1.001422</td>\n",
       "      <td>1.002301</td>\n",
       "      <td>1.00137</td>\n",
       "      <td>1.002405</td>\n",
       "      <td>3</td>\n",
       "      <td>126</td>\n",
       "      <td>2</td>\n",
       "      <td>100</td>\n",
       "    </tr>\n",
       "  </tbody>\n",
       "</table>\n",
       "</div>"
      ],
      "text/plain": [
       "   time_id  seconds_in_bucket  bid_price1  ask_price1  bid_price2  ask_price2  \\\n",
       "0        5                  0    1.001422    1.002301     1.00137    1.002353   \n",
       "1        5                  1    1.001422    1.002301     1.00137    1.002353   \n",
       "2        5                  5    1.001422    1.002301     1.00137    1.002405   \n",
       "3        5                  6    1.001422    1.002301     1.00137    1.002405   \n",
       "4        5                  7    1.001422    1.002301     1.00137    1.002405   \n",
       "\n",
       "   bid_size1  ask_size1  bid_size2  ask_size2  \n",
       "0          3        226          2        100  \n",
       "1          3        100          2        100  \n",
       "2          3        100          2        100  \n",
       "3          3        126          2        100  \n",
       "4          3        126          2        100  "
      ]
     },
     "execution_count": 6,
     "metadata": {},
     "output_type": "execute_result"
    }
   ],
   "source": [
    "# Explore training data for Stock 0 - book data\n",
    "book_train_data_0 = pd.read_parquet(data_dir + \"book_train.parquet/stock_id=0\")\n",
    "book_train_data_0.head()"
   ]
  },
  {
   "cell_type": "code",
   "execution_count": 7,
   "id": "1de0030f",
   "metadata": {},
   "outputs": [
    {
     "data": {
      "text/html": [
       "<div>\n",
       "<style scoped>\n",
       "    .dataframe tbody tr th:only-of-type {\n",
       "        vertical-align: middle;\n",
       "    }\n",
       "\n",
       "    .dataframe tbody tr th {\n",
       "        vertical-align: top;\n",
       "    }\n",
       "\n",
       "    .dataframe thead th {\n",
       "        text-align: right;\n",
       "    }\n",
       "</style>\n",
       "<table border=\"1\" class=\"dataframe\">\n",
       "  <thead>\n",
       "    <tr style=\"text-align: right;\">\n",
       "      <th></th>\n",
       "      <th>time_id</th>\n",
       "      <th>seconds_in_bucket</th>\n",
       "      <th>price</th>\n",
       "      <th>size</th>\n",
       "      <th>order_count</th>\n",
       "    </tr>\n",
       "  </thead>\n",
       "  <tbody>\n",
       "    <tr>\n",
       "      <th>0</th>\n",
       "      <td>5</td>\n",
       "      <td>21</td>\n",
       "      <td>1.002301</td>\n",
       "      <td>326</td>\n",
       "      <td>12</td>\n",
       "    </tr>\n",
       "    <tr>\n",
       "      <th>1</th>\n",
       "      <td>5</td>\n",
       "      <td>46</td>\n",
       "      <td>1.002778</td>\n",
       "      <td>128</td>\n",
       "      <td>4</td>\n",
       "    </tr>\n",
       "    <tr>\n",
       "      <th>2</th>\n",
       "      <td>5</td>\n",
       "      <td>50</td>\n",
       "      <td>1.002818</td>\n",
       "      <td>55</td>\n",
       "      <td>1</td>\n",
       "    </tr>\n",
       "    <tr>\n",
       "      <th>3</th>\n",
       "      <td>5</td>\n",
       "      <td>57</td>\n",
       "      <td>1.003155</td>\n",
       "      <td>121</td>\n",
       "      <td>5</td>\n",
       "    </tr>\n",
       "    <tr>\n",
       "      <th>4</th>\n",
       "      <td>5</td>\n",
       "      <td>68</td>\n",
       "      <td>1.003646</td>\n",
       "      <td>4</td>\n",
       "      <td>1</td>\n",
       "    </tr>\n",
       "  </tbody>\n",
       "</table>\n",
       "</div>"
      ],
      "text/plain": [
       "   time_id  seconds_in_bucket     price  size  order_count\n",
       "0        5                 21  1.002301   326           12\n",
       "1        5                 46  1.002778   128            4\n",
       "2        5                 50  1.002818    55            1\n",
       "3        5                 57  1.003155   121            5\n",
       "4        5                 68  1.003646     4            1"
      ]
     },
     "execution_count": 7,
     "metadata": {},
     "output_type": "execute_result"
    }
   ],
   "source": [
    "# Explore training data for Stock 0 - trade data\n",
    "trade_train_data_0 = pd.read_parquet(data_dir + \"trade_train.parquet/stock_id=0\")\n",
    "trade_train_data_0.head()"
   ]
  },
  {
   "cell_type": "markdown",
   "id": "baeb2fe5",
   "metadata": {},
   "source": [
    "# Initial Analysis"
   ]
  },
  {
   "cell_type": "markdown",
   "id": "1b6e5dda",
   "metadata": {},
   "source": [
    "### We calculate the Weighted Average Price (WAP) for stock 0:"
   ]
  },
  {
   "cell_type": "code",
   "execution_count": 8,
   "id": "6d66c812",
   "metadata": {},
   "outputs": [],
   "source": [
    "book_train_data_0['wap'] = (book_train_data_0['bid_price1'] * book_train_data_0['ask_size1'] +\n",
    "                                book_train_data_0['ask_price1'] * book_train_data_0['bid_size1']) / (\n",
    "                                       book_train_data_0['bid_size1']+ book_train_data_0['ask_size1'])"
   ]
  },
  {
   "cell_type": "markdown",
   "id": "1f9bf0ac",
   "metadata": {},
   "source": [
    "### The logarithm of the ratio between two consecutive WAP:"
   ]
  },
  {
   "cell_type": "code",
   "execution_count": 9,
   "id": "bcc96f38",
   "metadata": {},
   "outputs": [],
   "source": [
    "def log_return(list_stock_prices):\n",
    "    return np.log(list_stock_prices).diff() \n",
    "\n",
    "book_train_data_0.loc[:,'log_return'] = log_return(book_train_data_0['wap'])\n",
    "book_train_data_0 = book_train_data_0[~book_train_data_0['log_return'].isnull()]"
   ]
  },
  {
   "cell_type": "code",
   "execution_count": null,
   "id": "e0b258d6",
   "metadata": {},
   "outputs": [],
   "source": []
  },
  {
   "cell_type": "code",
   "execution_count": 10,
   "id": "a005e247",
   "metadata": {
    "scrolled": false
   },
   "outputs": [
    {
     "data": {
      "text/html": [
       "<div>\n",
       "<style scoped>\n",
       "    .dataframe tbody tr th:only-of-type {\n",
       "        vertical-align: middle;\n",
       "    }\n",
       "\n",
       "    .dataframe tbody tr th {\n",
       "        vertical-align: top;\n",
       "    }\n",
       "\n",
       "    .dataframe thead th {\n",
       "        text-align: right;\n",
       "    }\n",
       "</style>\n",
       "<table border=\"1\" class=\"dataframe\">\n",
       "  <thead>\n",
       "    <tr style=\"text-align: right;\">\n",
       "      <th></th>\n",
       "      <th>time_id</th>\n",
       "      <th>seconds_in_bucket</th>\n",
       "      <th>bid_price1</th>\n",
       "      <th>ask_price1</th>\n",
       "      <th>bid_price2</th>\n",
       "      <th>ask_price2</th>\n",
       "      <th>bid_size1</th>\n",
       "      <th>ask_size1</th>\n",
       "      <th>bid_size2</th>\n",
       "      <th>ask_size2</th>\n",
       "      <th>wap</th>\n",
       "      <th>log_return</th>\n",
       "    </tr>\n",
       "  </thead>\n",
       "  <tbody>\n",
       "    <tr>\n",
       "      <th>count</th>\n",
       "      <td>917552.000000</td>\n",
       "      <td>917552.000000</td>\n",
       "      <td>917552.000000</td>\n",
       "      <td>917552.000000</td>\n",
       "      <td>917552.000000</td>\n",
       "      <td>917552.000000</td>\n",
       "      <td>917552.000000</td>\n",
       "      <td>917552.000000</td>\n",
       "      <td>917552.000000</td>\n",
       "      <td>917552.000000</td>\n",
       "      <td>917552.000000</td>\n",
       "      <td>9.175520e+05</td>\n",
       "    </tr>\n",
       "    <tr>\n",
       "      <th>mean</th>\n",
       "      <td>15980.074318</td>\n",
       "      <td>293.692335</td>\n",
       "      <td>0.999495</td>\n",
       "      <td>1.000526</td>\n",
       "      <td>0.999298</td>\n",
       "      <td>1.000727</td>\n",
       "      <td>113.717223</td>\n",
       "      <td>100.825213</td>\n",
       "      <td>86.770333</td>\n",
       "      <td>83.203049</td>\n",
       "      <td>1.000043</td>\n",
       "      <td>-3.178342e-09</td>\n",
       "    </tr>\n",
       "    <tr>\n",
       "      <th>std</th>\n",
       "      <td>9381.769206</td>\n",
       "      <td>173.596264</td>\n",
       "      <td>0.003668</td>\n",
       "      <td>0.003696</td>\n",
       "      <td>0.003702</td>\n",
       "      <td>0.003743</td>\n",
       "      <td>108.657206</td>\n",
       "      <td>109.063873</td>\n",
       "      <td>90.602595</td>\n",
       "      <td>94.968438</td>\n",
       "      <td>0.003667</td>\n",
       "      <td>4.973726e-04</td>\n",
       "    </tr>\n",
       "    <tr>\n",
       "      <th>min</th>\n",
       "      <td>5.000000</td>\n",
       "      <td>0.000000</td>\n",
       "      <td>0.938241</td>\n",
       "      <td>0.944337</td>\n",
       "      <td>0.937213</td>\n",
       "      <td>0.944456</td>\n",
       "      <td>1.000000</td>\n",
       "      <td>1.000000</td>\n",
       "      <td>1.000000</td>\n",
       "      <td>1.000000</td>\n",
       "      <td>0.939348</td>\n",
       "      <td>-3.974106e-02</td>\n",
       "    </tr>\n",
       "    <tr>\n",
       "      <th>25%</th>\n",
       "      <td>7759.000000</td>\n",
       "      <td>142.000000</td>\n",
       "      <td>0.998368</td>\n",
       "      <td>0.999223</td>\n",
       "      <td>0.998184</td>\n",
       "      <td>0.999390</td>\n",
       "      <td>22.000000</td>\n",
       "      <td>14.000000</td>\n",
       "      <td>18.000000</td>\n",
       "      <td>14.000000</td>\n",
       "      <td>0.998802</td>\n",
       "      <td>-4.088737e-05</td>\n",
       "    </tr>\n",
       "    <tr>\n",
       "      <th>50%</th>\n",
       "      <td>15772.000000</td>\n",
       "      <td>292.000000</td>\n",
       "      <td>0.999632</td>\n",
       "      <td>1.000331</td>\n",
       "      <td>0.999472</td>\n",
       "      <td>1.000496</td>\n",
       "      <td>100.000000</td>\n",
       "      <td>93.000000</td>\n",
       "      <td>100.000000</td>\n",
       "      <td>90.000000</td>\n",
       "      <td>1.000003</td>\n",
       "      <td>0.000000e+00</td>\n",
       "    </tr>\n",
       "    <tr>\n",
       "      <th>75%</th>\n",
       "      <td>23834.000000</td>\n",
       "      <td>444.000000</td>\n",
       "      <td>1.000753</td>\n",
       "      <td>1.001560</td>\n",
       "      <td>1.000587</td>\n",
       "      <td>1.001745</td>\n",
       "      <td>157.000000</td>\n",
       "      <td>117.000000</td>\n",
       "      <td>102.000000</td>\n",
       "      <td>102.000000</td>\n",
       "      <td>1.001199</td>\n",
       "      <td>4.251642e-05</td>\n",
       "    </tr>\n",
       "    <tr>\n",
       "      <th>max</th>\n",
       "      <td>32767.000000</td>\n",
       "      <td>599.000000</td>\n",
       "      <td>1.045641</td>\n",
       "      <td>1.056892</td>\n",
       "      <td>1.043756</td>\n",
       "      <td>1.057676</td>\n",
       "      <td>3221.000000</td>\n",
       "      <td>16608.000000</td>\n",
       "      <td>4391.000000</td>\n",
       "      <td>16608.000000</td>\n",
       "      <td>1.053275</td>\n",
       "      <td>5.925392e-02</td>\n",
       "    </tr>\n",
       "  </tbody>\n",
       "</table>\n",
       "</div>"
      ],
      "text/plain": [
       "             time_id  seconds_in_bucket     bid_price1     ask_price1  \\\n",
       "count  917552.000000      917552.000000  917552.000000  917552.000000   \n",
       "mean    15980.074318         293.692335       0.999495       1.000526   \n",
       "std      9381.769206         173.596264       0.003668       0.003696   \n",
       "min         5.000000           0.000000       0.938241       0.944337   \n",
       "25%      7759.000000         142.000000       0.998368       0.999223   \n",
       "50%     15772.000000         292.000000       0.999632       1.000331   \n",
       "75%     23834.000000         444.000000       1.000753       1.001560   \n",
       "max     32767.000000         599.000000       1.045641       1.056892   \n",
       "\n",
       "          bid_price2     ask_price2      bid_size1      ask_size1  \\\n",
       "count  917552.000000  917552.000000  917552.000000  917552.000000   \n",
       "mean        0.999298       1.000727     113.717223     100.825213   \n",
       "std         0.003702       0.003743     108.657206     109.063873   \n",
       "min         0.937213       0.944456       1.000000       1.000000   \n",
       "25%         0.998184       0.999390      22.000000      14.000000   \n",
       "50%         0.999472       1.000496     100.000000      93.000000   \n",
       "75%         1.000587       1.001745     157.000000     117.000000   \n",
       "max         1.043756       1.057676    3221.000000   16608.000000   \n",
       "\n",
       "           bid_size2      ask_size2            wap    log_return  \n",
       "count  917552.000000  917552.000000  917552.000000  9.175520e+05  \n",
       "mean       86.770333      83.203049       1.000043 -3.178342e-09  \n",
       "std        90.602595      94.968438       0.003667  4.973726e-04  \n",
       "min         1.000000       1.000000       0.939348 -3.974106e-02  \n",
       "25%        18.000000      14.000000       0.998802 -4.088737e-05  \n",
       "50%       100.000000      90.000000       1.000003  0.000000e+00  \n",
       "75%       102.000000     102.000000       1.001199  4.251642e-05  \n",
       "max      4391.000000   16608.000000       1.053275  5.925392e-02  "
      ]
     },
     "execution_count": 10,
     "metadata": {},
     "output_type": "execute_result"
    }
   ],
   "source": [
    "book_train_data_0.describe()"
   ]
  },
  {
   "cell_type": "markdown",
   "id": "ca2737f5",
   "metadata": {},
   "source": [
    "MIN WAP for stock 0 is: 0.939348,\n",
    "Max WAP for stock 0 is: 1.053275, and\n",
    "Mean WAP for stock 0 is: 1.000043"
   ]
  },
  {
   "cell_type": "markdown",
   "id": "1052cce7",
   "metadata": {},
   "source": [
    "## Plotting Graphs:"
   ]
  },
  {
   "cell_type": "markdown",
   "id": "c50e8946",
   "metadata": {},
   "source": [
    "### We select time_id 5 for plotting:"
   ]
  },
  {
   "cell_type": "code",
   "execution_count": 32,
   "id": "c9c464fd",
   "metadata": {},
   "outputs": [
    {
     "data": {
      "text/html": [
       "<div>\n",
       "<style scoped>\n",
       "    .dataframe tbody tr th:only-of-type {\n",
       "        vertical-align: middle;\n",
       "    }\n",
       "\n",
       "    .dataframe tbody tr th {\n",
       "        vertical-align: top;\n",
       "    }\n",
       "\n",
       "    .dataframe thead th {\n",
       "        text-align: right;\n",
       "    }\n",
       "</style>\n",
       "<table border=\"1\" class=\"dataframe\">\n",
       "  <thead>\n",
       "    <tr style=\"text-align: right;\">\n",
       "      <th></th>\n",
       "      <th>time_id</th>\n",
       "      <th>seconds_in_bucket</th>\n",
       "      <th>bid_price1</th>\n",
       "      <th>ask_price1</th>\n",
       "      <th>bid_price2</th>\n",
       "      <th>ask_price2</th>\n",
       "      <th>bid_size1</th>\n",
       "      <th>ask_size1</th>\n",
       "      <th>bid_size2</th>\n",
       "      <th>ask_size2</th>\n",
       "      <th>wap</th>\n",
       "      <th>log_return</th>\n",
       "    </tr>\n",
       "  </thead>\n",
       "  <tbody>\n",
       "    <tr>\n",
       "      <th>1</th>\n",
       "      <td>5</td>\n",
       "      <td>1</td>\n",
       "      <td>1.001422</td>\n",
       "      <td>1.002301</td>\n",
       "      <td>1.00137</td>\n",
       "      <td>1.002353</td>\n",
       "      <td>3</td>\n",
       "      <td>100</td>\n",
       "      <td>2</td>\n",
       "      <td>100</td>\n",
       "      <td>1.001448</td>\n",
       "      <td>0.000014</td>\n",
       "    </tr>\n",
       "    <tr>\n",
       "      <th>2</th>\n",
       "      <td>5</td>\n",
       "      <td>5</td>\n",
       "      <td>1.001422</td>\n",
       "      <td>1.002301</td>\n",
       "      <td>1.00137</td>\n",
       "      <td>1.002405</td>\n",
       "      <td>3</td>\n",
       "      <td>100</td>\n",
       "      <td>2</td>\n",
       "      <td>100</td>\n",
       "      <td>1.001448</td>\n",
       "      <td>0.000000</td>\n",
       "    </tr>\n",
       "    <tr>\n",
       "      <th>3</th>\n",
       "      <td>5</td>\n",
       "      <td>6</td>\n",
       "      <td>1.001422</td>\n",
       "      <td>1.002301</td>\n",
       "      <td>1.00137</td>\n",
       "      <td>1.002405</td>\n",
       "      <td>3</td>\n",
       "      <td>126</td>\n",
       "      <td>2</td>\n",
       "      <td>100</td>\n",
       "      <td>1.001443</td>\n",
       "      <td>-0.000005</td>\n",
       "    </tr>\n",
       "    <tr>\n",
       "      <th>4</th>\n",
       "      <td>5</td>\n",
       "      <td>7</td>\n",
       "      <td>1.001422</td>\n",
       "      <td>1.002301</td>\n",
       "      <td>1.00137</td>\n",
       "      <td>1.002405</td>\n",
       "      <td>3</td>\n",
       "      <td>126</td>\n",
       "      <td>2</td>\n",
       "      <td>100</td>\n",
       "      <td>1.001443</td>\n",
       "      <td>0.000000</td>\n",
       "    </tr>\n",
       "    <tr>\n",
       "      <th>5</th>\n",
       "      <td>5</td>\n",
       "      <td>11</td>\n",
       "      <td>1.001422</td>\n",
       "      <td>1.002301</td>\n",
       "      <td>1.00137</td>\n",
       "      <td>1.002405</td>\n",
       "      <td>3</td>\n",
       "      <td>100</td>\n",
       "      <td>2</td>\n",
       "      <td>100</td>\n",
       "      <td>1.001448</td>\n",
       "      <td>0.000005</td>\n",
       "    </tr>\n",
       "  </tbody>\n",
       "</table>\n",
       "</div>"
      ],
      "text/plain": [
       "   time_id  seconds_in_bucket  bid_price1  ask_price1  bid_price2  ask_price2  \\\n",
       "1        5                  1    1.001422    1.002301     1.00137    1.002353   \n",
       "2        5                  5    1.001422    1.002301     1.00137    1.002405   \n",
       "3        5                  6    1.001422    1.002301     1.00137    1.002405   \n",
       "4        5                  7    1.001422    1.002301     1.00137    1.002405   \n",
       "5        5                 11    1.001422    1.002301     1.00137    1.002405   \n",
       "\n",
       "   bid_size1  ask_size1  bid_size2  ask_size2       wap  log_return  \n",
       "1          3        100          2        100  1.001448    0.000014  \n",
       "2          3        100          2        100  1.001448    0.000000  \n",
       "3          3        126          2        100  1.001443   -0.000005  \n",
       "4          3        126          2        100  1.001443    0.000000  \n",
       "5          3        100          2        100  1.001448    0.000005  "
      ]
     },
     "execution_count": 32,
     "metadata": {},
     "output_type": "execute_result"
    }
   ],
   "source": [
    "book_stock0_timeid5 = book_train_data_0[book_train_data_0['time_id'] == 5]\n",
    "book_stock0_timeid5.head()"
   ]
  },
  {
   "cell_type": "code",
   "execution_count": 12,
   "id": "bcef35c4",
   "metadata": {
    "scrolled": true
   },
   "outputs": [
    {
     "data": {
      "text/html": [
       "<div>\n",
       "<style scoped>\n",
       "    .dataframe tbody tr th:only-of-type {\n",
       "        vertical-align: middle;\n",
       "    }\n",
       "\n",
       "    .dataframe tbody tr th {\n",
       "        vertical-align: top;\n",
       "    }\n",
       "\n",
       "    .dataframe thead th {\n",
       "        text-align: right;\n",
       "    }\n",
       "</style>\n",
       "<table border=\"1\" class=\"dataframe\">\n",
       "  <thead>\n",
       "    <tr style=\"text-align: right;\">\n",
       "      <th></th>\n",
       "      <th>time_id</th>\n",
       "      <th>seconds_in_bucket</th>\n",
       "      <th>price</th>\n",
       "      <th>size</th>\n",
       "      <th>order_count</th>\n",
       "    </tr>\n",
       "  </thead>\n",
       "  <tbody>\n",
       "    <tr>\n",
       "      <th>0</th>\n",
       "      <td>5</td>\n",
       "      <td>21</td>\n",
       "      <td>1.002301</td>\n",
       "      <td>326</td>\n",
       "      <td>12</td>\n",
       "    </tr>\n",
       "    <tr>\n",
       "      <th>1</th>\n",
       "      <td>5</td>\n",
       "      <td>46</td>\n",
       "      <td>1.002778</td>\n",
       "      <td>128</td>\n",
       "      <td>4</td>\n",
       "    </tr>\n",
       "    <tr>\n",
       "      <th>2</th>\n",
       "      <td>5</td>\n",
       "      <td>50</td>\n",
       "      <td>1.002818</td>\n",
       "      <td>55</td>\n",
       "      <td>1</td>\n",
       "    </tr>\n",
       "    <tr>\n",
       "      <th>3</th>\n",
       "      <td>5</td>\n",
       "      <td>57</td>\n",
       "      <td>1.003155</td>\n",
       "      <td>121</td>\n",
       "      <td>5</td>\n",
       "    </tr>\n",
       "    <tr>\n",
       "      <th>4</th>\n",
       "      <td>5</td>\n",
       "      <td>68</td>\n",
       "      <td>1.003646</td>\n",
       "      <td>4</td>\n",
       "      <td>1</td>\n",
       "    </tr>\n",
       "  </tbody>\n",
       "</table>\n",
       "</div>"
      ],
      "text/plain": [
       "   time_id  seconds_in_bucket     price  size  order_count\n",
       "0        5                 21  1.002301   326           12\n",
       "1        5                 46  1.002778   128            4\n",
       "2        5                 50  1.002818    55            1\n",
       "3        5                 57  1.003155   121            5\n",
       "4        5                 68  1.003646     4            1"
      ]
     },
     "execution_count": 12,
     "metadata": {},
     "output_type": "execute_result"
    }
   ],
   "source": [
    "trade_stock0_timeid5 = trade_train_data_0[trade_train_data_0['time_id'] == 5]\n",
    "trade_stock0_timeid5.head()"
   ]
  },
  {
   "cell_type": "code",
   "execution_count": 17,
   "id": "b67d5098",
   "metadata": {},
   "outputs": [
    {
     "name": "stdout",
     "output_type": "stream",
     "text": [
      "<class 'pandas.core.frame.DataFrame'>\n",
      "Int64Index: 40 entries, 0 to 39\n",
      "Data columns (total 5 columns):\n",
      " #   Column             Non-Null Count  Dtype  \n",
      "---  ------             --------------  -----  \n",
      " 0   time_id            40 non-null     int16  \n",
      " 1   seconds_in_bucket  40 non-null     int16  \n",
      " 2   price              40 non-null     float32\n",
      " 3   size               40 non-null     int32  \n",
      " 4   order_count        40 non-null     int16  \n",
      "dtypes: float32(1), int16(3), int32(1)\n",
      "memory usage: 880.0 bytes\n"
     ]
    }
   ],
   "source": [
    "trade_stock0_timeid5.info()"
   ]
  },
  {
   "cell_type": "markdown",
   "id": "137af0cc",
   "metadata": {},
   "source": [
    "### Graph to visualize the relationship between Bid Price and Ask Price:"
   ]
  },
  {
   "cell_type": "code",
   "execution_count": null,
   "id": "e77bc240",
   "metadata": {},
   "outputs": [],
   "source": [
    "sample_labels = [\"bid_price1\", \"bid_price2\", \"ask_price1\", \"ask_price2\"]\n",
    "\n",
    "plt.figure(figsize=(12, 6))\n",
    "\n",
    "for label in sample_labels:\n",
    "    plt.plot(book_stock0_timeid5[\"seconds_in_bucket\"], book_stock0_timeid5[label], label=label)\n",
    "\n",
    "plt.legend(fontsize=12)\n",
    "plt.xlabel(\"Seconds in Bucket\")\n",
    "plt.ylabel(\"Price\")\n",
    "plt.title(\"Stock Price Analysis\")\n",
    "plt.grid(True)\n",
    "\n",
    "plt.xlim([book_stock0_timeid5.seconds_in_bucket.min(),book_stock0_timeid5.seconds_in_bucket.max()]) # setting limits to x-axis\n",
    "\n",
    "plt.show()"
   ]
  },
  {
   "cell_type": "markdown",
   "id": "dbad41af",
   "metadata": {},
   "source": [
    "### Graph to visualize the relationship between Stock Price and WAP:"
   ]
  },
  {
   "cell_type": "code",
   "execution_count": 14,
   "id": "3e8c7f43",
   "metadata": {},
   "outputs": [
    {
     "data": {
      "text/plain": [
       "[<matplotlib.lines.Line2D at 0x18950060450>]"
      ]
     },
     "execution_count": 14,
     "metadata": {},
     "output_type": "execute_result"
    },
    {
     "data": {
      "image/png": "[encoded data removed]",
      "text/plain": [
       "<Figure size 1200x600 with 2 Axes>"
      ]
     },
     "metadata": {},
     "output_type": "display_data"
    }
   ],
   "source": [
    "plt.figure(figsize=(12, 6))\n",
    "plt.title('Stock Price vs WAP')\n",
    "\n",
    "ax1 = plt.gca()\n",
    "ax2 = ax1.twinx()\n",
    "\n",
    "ax1.set_ylabel ('WAP', color='#E6232E')\n",
    "ax2.set_ylabel ('Stock Price', color='skyblue')\n",
    "\n",
    "ax1.set_xlim([book_stock0_timeid5.seconds_in_bucket.min(),book_stock0_timeid5.seconds_in_bucket.max()]) # setting limits to x-axis\n",
    "\n",
    "ax1.plot(book_stock0_timeid5.seconds_in_bucket, book_stock0_timeid5.wap, color='#E6232E')\n",
    "ax2.plot(trade_stock0_timeid5.seconds_in_bucket, trade_stock0_timeid5.price, color='skyblue')"
   ]
  },
  {
   "cell_type": "markdown",
   "id": "1e575509",
   "metadata": {},
   "source": [
    "### Graph to visualize the logarithm of the ratio between two consecutive WAP:"
   ]
  },
  {
   "cell_type": "code",
   "execution_count": 15,
   "id": "df581af3",
   "metadata": {},
   "outputs": [
    {
     "data": {
      "text/plain": [
       "[<matplotlib.lines.Line2D at 0x18950082b90>]"
      ]
     },
     "execution_count": 15,
     "metadata": {},
     "output_type": "execute_result"
    },
    {
     "data": {
      "image/png": "[encoded data removed]",
      "text/plain": [
       "<Figure size 1200x600 with 1 Axes>"
      ]
     },
     "metadata": {},
     "output_type": "display_data"
    }
   ],
   "source": [
    "plt.figure(figsize=(12, 6))\n",
    "plt.title('Log return of stock 0')\n",
    "\n",
    "ax1 = plt.gca()\n",
    "\n",
    "ax1.set_ylabel ('Log return')\n",
    "\n",
    "ax1.set_xlim([book_stock0_timeid5.seconds_in_bucket.min(),book_stock0_timeid5.seconds_in_bucket.max()]) # setting limits to x-axis\n",
    "\n",
    "ax1.plot(book_stock0_timeid5.seconds_in_bucket, book_stock0_timeid5.log_return, color='green')"
   ]
  },
  {
   "cell_type": "code",
   "execution_count": null,
   "id": "fca94f42",
   "metadata": {},
   "outputs": [],
   "source": []
  },
  {
   "cell_type": "code",
   "execution_count": null,
   "id": "b85a3712",
   "metadata": {},
   "outputs": [],
   "source": []
  }
 ],
 "metadata": {
  "kernelspec": {
   "display_name": "Python 3 (ipykernel)",
   "language": "python",
   "name": "python3"
  },
  "language_info": {
   "codemirror_mode": {
    "name": "ipython",
    "version": 3
   },
   "file_extension": ".py",
   "mimetype": "text/x-python",
   "name": "python",
   "nbconvert_exporter": "python",
   "pygments_lexer": "ipython3",
   "version": "3.11.3"
  }
 },
 "nbformat": 4,
 "nbformat_minor": 5
}
