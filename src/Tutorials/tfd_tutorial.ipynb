{
 "cells": [
  {
   "cell_type": "code",
   "execution_count": 1,
   "metadata": {},
   "outputs": [
    {
     "name": "stderr",
     "output_type": "stream",
     "text": [
      "c:\\Users\\josepeeterson.er\\Miniconda3\\envs\\optiver\\lib\\site-packages\\scipy\\__init__.py:146: UserWarning: A NumPy version >=1.16.5 and <1.23.0 is required for this version of SciPy (detected version 1.25.2\n",
      "  warnings.warn(f\"A NumPy version >={np_minversion} and <{np_maxversion}\"\n"
     ]
    }
   ],
   "source": [
    "import scipy.stats as stats\n",
    "import numpy as np\n",
    "\n",
    "good_chains = stats.beta.rvs(2, 5,size=(2, 2000))\n",
    "bad_chains0 = np.random.normal(np.sort(good_chains, axis=None), 0.05,\n",
    "                               size=4000).reshape(2, -1)\n",
    "\n",
    "bad_chains1 = good_chains.copy()\n",
    "for i in np.random.randint(1900, size=4):\n",
    "    bad_chains1[i%2:,i:i+100] = np.random.beta(i, 950, size=100)\n",
    "\n",
    "chains = {\"good_chains\":good_chains,\n",
    "          \"bad_chains0\":bad_chains0,\n",
    "          \"bad_chains1\":bad_chains1}"
   ]
  },
  {
   "cell_type": "code",
   "execution_count": 2,
   "metadata": {},
   "outputs": [
    {
     "data": {
      "text/plain": [
       "{'good_chains': array([[0.24929659, 0.30504016, 0.00490722, ..., 0.28842583, 0.13621393,\n",
       "         0.08038298],\n",
       "        [0.42597007, 0.5185829 , 0.33723528, ..., 0.33456952, 0.1642498 ,\n",
       "         0.28322045]]),\n",
       " 'bad_chains0': array([[7.31791688e-02, 2.99414553e-04, 5.92934945e-02, ...,\n",
       "         3.14156028e-01, 2.99068202e-01, 2.69915364e-01],\n",
       "        [2.62082781e-01, 2.23748551e-01, 2.82983878e-01, ...,\n",
       "         8.43513983e-01, 7.65782324e-01, 8.39128626e-01]]),\n",
       " 'bad_chains1': array([[0.24929659, 0.30504016, 0.00490722, ..., 0.28842583, 0.13621393,\n",
       "         0.08038298],\n",
       "        [0.42597007, 0.5185829 , 0.33723528, ..., 0.33456952, 0.1642498 ,\n",
       "         0.28322045]])}"
      ]
     },
     "execution_count": 2,
     "metadata": {},
     "output_type": "execute_result"
    }
   ],
   "source": [
    "chains"
   ]
  },
  {
   "cell_type": "code",
   "execution_count": null,
   "metadata": {},
   "outputs": [],
   "source": []
  }
 ],
 "metadata": {
  "kernelspec": {
   "display_name": "optiver",
   "language": "python",
   "name": "python3"
  },
  "language_info": {
   "codemirror_mode": {
    "name": "ipython",
    "version": 3
   },
   "file_extension": ".py",
   "mimetype": "text/x-python",
   "name": "python",
   "nbconvert_exporter": "python",
   "pygments_lexer": "ipython3",
   "version": "3.10.9"
  },
  "orig_nbformat": 4
 },
 "nbformat": 4,
 "nbformat_minor": 2
}
