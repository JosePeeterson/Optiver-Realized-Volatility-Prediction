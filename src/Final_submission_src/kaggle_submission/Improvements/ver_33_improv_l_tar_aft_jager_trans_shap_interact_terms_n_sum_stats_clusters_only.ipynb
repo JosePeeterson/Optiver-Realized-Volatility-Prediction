{
 "cells": [
  {
   "cell_type": "code",
   "execution_count": 11,
   "metadata": {},
   "outputs": [],
   "source": [
    "# from google.colab import drive\n",
    "# drive.mount('/content/drive')\n",
    "\n",
    "# import os\n",
    "# os.chdir('/content/drive/MyDrive/optiver_real_vol')\n",
    "\n",
    "# gpu_info = !nvidia-smi\n",
    "# gpu_info = '\\n'.join(gpu_info)\n",
    "# if gpu_info.find('failed') >= 0:\n",
    "#   print('Not connected to a GPU')\n",
    "# else:\n",
    "#   print(gpu_info)\n",
    "\n",
    "# from psutil import virtual_memory\n",
    "# ram_gb = virtual_memory().total / 1e9\n",
    "# print('Your runtime has {:.1f} gigabytes of available RAM\\n'.format(ram_gb))\n",
    "\n",
    "# if ram_gb < 20:\n",
    "#   print('Not using a high-RAM runtime')\n",
    "# else:\n",
    "#   print('You are using a high-RAM runtime!')\n",
    "\n",
    "\n",
    "# !pip install plotly_express\n",
    "# !pip install numba\n",
    "# !pip install optuna\n",
    "# !pip install shap\n"
   ]
  },
  {
   "cell_type": "code",
   "execution_count": 12,
   "metadata": {},
   "outputs": [],
   "source": [
    "\n",
    "import os\n",
    "import glob\n",
    "import pandas as pd\n",
    "\n",
    "import numpy as np # linear algebra\n",
    "import pandas as pd # data processing, CSV file I/O (e.g. pd.read_csv)\n",
    "\n",
    "\n",
    "import pandas as pd\n",
    "import numpy as np\n",
    "import glob\n",
    "import os\n",
    "import matplotlib.pyplot as plt\n",
    "import statsmodels.api as sm\n",
    "import plotly.subplots as sub_plots\n",
    "import plotly.graph_objects as go\n",
    "import statsmodels.api as sm\n",
    "import scipy.stats as stats\n",
    "\n",
    "\n",
    "from sklearn.cluster import KMeans\n",
    "import re\n",
    "\n",
    "import warnings\n",
    "#warnings.filterwarnings(\"ignore\")\n",
    "from sklearn.metrics import confusion_matrix\n",
    "#from sklearn.metrics import plot_confusion_matrix\n",
    "from sklearn.metrics import ConfusionMatrixDisplay\n",
    "\n",
    "\n",
    "from sklearn.utils import class_weight\n",
    "import optuna\n",
    "from optuna.trial import TrialState\n",
    "\n",
    "from xgboost import XGBRegressor\n",
    "from mlxtend.evaluate import bias_variance_decomp\n",
    "\n",
    "import glob\n",
    "import pandas as pd\n",
    "import numpy as np\n",
    "import glob\n",
    "import os\n",
    "from numba import jit, njit\n",
    "import numba as nb\n",
    "import plotly_express as px\n",
    "from itertools import combinations, permutations, product, combinations_with_replacement\n",
    "from statsmodels.graphics.tsaplots import plot_acf, plot_pacf\n",
    "from scipy.signal import find_peaks\n",
    "import pickle\n",
    "from joblib import Parallel, delayed\n",
    "import seaborn as sns\n",
    "from sklearn import model_selection\n",
    "from sklearn.metrics import r2_score\n",
    "import gc\n",
    "from sklearn.decomposition import PCA\n",
    "from sklearn.cluster import KMeans, AgglomerativeClustering\n",
    "from sklearn.mixture import GaussianMixture\n",
    "import scipy as sp\n",
    "from sklearn.metrics import silhouette_samples, silhouette_score\n",
    "from scipy.cluster.hierarchy import linkage, dendrogram, fcluster\n",
    "from sklearn.preprocessing import MinMaxScaler, StandardScaler\n",
    "from sklearn.metrics import silhouette_samples, silhouette_score\n",
    "from sklearn.cluster import SpectralClustering, MiniBatchKMeans, MeanShift, AgglomerativeClustering\n",
    "from sklearn.mixture import GaussianMixture\n",
    "from scipy.cluster.hierarchy import linkage, dendrogram, fcluster\n",
    "from scipy.spatial.distance import squareform\n",
    "from scipy.stats import skew, kurtosis\n",
    "import shap\n",
    "from datetime import datetime\n",
    "import ipywidgets as widgets\n",
    "from matplotlib.patches import Rectangle\n",
    "import xgboost as xgb\n",
    "from sklearn.preprocessing import OneHotEncoder\n",
    "from xgboost import plot_tree, plot_importance\n",
    "from sklearn.model_selection import RepeatedKFold, cross_val_score, TimeSeriesSplit\n",
    "from statsmodels.graphics.tsaplots import plot_acf, plot_pacf\n",
    "from statsmodels.genmod.generalized_linear_model import GLM\n",
    "import warnings\n",
    "from sklearn.metrics import confusion_matrix, ConfusionMatrixDisplay\n",
    "from sklearn.utils import class_weight\n",
    "import optuna\n",
    "from optuna.trial import TrialState\n",
    "from xgboost import XGBRegressor\n",
    "from mlxtend.evaluate import bias_variance_decomp\n",
    "import re\n",
    "\n",
    "from matplotlib.pyplot import cm\n",
    "\n",
    "\n",
    "from sklearn.manifold import TSNE\n",
    "from sklearn.preprocessing import minmax_scale\n",
    "\n",
    "from scipy.stats import spearmanr\n",
    "\n",
    "\n"
   ]
  },
  {
   "cell_type": "code",
   "execution_count": 13,
   "metadata": {},
   "outputs": [],
   "source": [
    "\n",
    "\n",
    "os.chdir('/home/optimusprime/Desktop/peeterson/optiver/Optiver-Realized-Volatility-Prediction/data/Final_submission_data/partial_train_n_full_test')\n",
    "#os.chdir('/content/drive/MyDrive/optiver_real_vol/Final Submission/kaggle_submission_versions')\n",
    "\n",
    "with open('train_feat_df_reordered.pkl','rb') as f:\n",
    "  train_feat_df_reordered = pickle.load(f)\n",
    "\n",
    "with open('test_feat_df.pkl','rb') as f:\n",
    "  test_feat_df = pickle.load(f)\n",
    "\n",
    "#os.chdir('/content/drive/MyDrive/optiver_real_vol/kaggle/input/optiver-realized-volatility-prediction')\n",
    "\n",
    "##### remove test from training data #####\n",
    "\n",
    "df_train_reordered = train_feat_df_reordered.copy()\n",
    "del train_feat_df_reordered\n",
    "\n",
    "df_test = test_feat_df.copy()\n",
    "del test_feat_df\n",
    "\n"
   ]
  },
  {
   "cell_type": "code",
   "execution_count": 14,
   "metadata": {},
   "outputs": [],
   "source": [
    "\n",
    "\n",
    "####################### Improvement 1 #######################\n",
    "## # drop the bottom 25 xgb features\n",
    "bottom_25_xgb_feat = ['tlog_tlog1p_eps1e4_range_bid_price1', 'bp_as_corr2', 'tlog_eps1e4_trade_price_std', 'v1liq2projt20', 'max_price1',\n",
    "                     'max_bid_price2', 'max_ask_price2', 'bs_ap_corr2', 'min_price1', 'ask_lvl2_min_lvl1_size_feat', 'tlog_1p_trade_order_count_std',\n",
    "                     'min_ask_price1', 'tlog_1p_trade_order_count_mean', 'min_bid_price2', 'lvl2_minus_lvl1_bid_n_ask_size_feat', 'bs_ap_corr1',\n",
    "                     'liqt20rf29', 'as_ap_corr1', 'bp_as_corr1', 'as_ap_corr2', 'bs_bp_corr1', 'max_bid_price1', 'min_bid_price1', 'max_ask_price1']\n",
    "df_train_reordered.drop(columns=bottom_25_xgb_feat, inplace=True)\n",
    "df_test = df_test.drop(columns=bottom_25_xgb_feat, inplace=False)\n",
    "\n",
    "\n",
    "####################### Improvement 2 #######################\n",
    "## # drop these clusterings as they are least important clustering type\n",
    "cluster_drop_cols = [    \n",
    "'tlog_target_vol_pcorr_3_clusters',\n",
    "'tlog_target_vol_pcorr_49_clusters',\n",
    "'tlog_target_vol_pcorr_90_clusters',\n",
    "'tlog_target_vol_pcorr_10_clusters',\n",
    "'tlog_target_vol_pcorr_26_clusters',\n",
    "'pear_corr_3_clusters_labels',\n",
    "'pear_corr_49_clusters_labels',\n",
    "'pear_corr_90_clusters_labels',\n",
    "'pear_corr_10_clusters_labels',\n",
    "'pear_corr_26_clusters_labels',\n",
    "'tlog_tlog1p_target_vol_robust_sum_stats_2_clusters',\n",
    "'tlog_tlog1p_target_vol_robust_sum_stats_4_clusters',\n",
    "'tlog_tlog1p_target_vol_robust_sum_stats_14_clusters',\n",
    "'tlog_tlog1p_target_vol_robust_sum_stats_20_clusters',\n",
    "'tlog_tlog1p_target_vol_robust_sum_stats_32_clusters',\n",
    "'tlog_tlog1p_target_vol_robust_sum_stats_60_clusters',\n",
    "'robust_sum_stats_2_clusters_labels',\n",
    "'robust_sum_stats_4_clusters_labels',\n",
    "'robust_sum_stats_14_clusters_labels',\n",
    "'robust_sum_stats_20_clusters_labels',\n",
    "'robust_sum_stats_32_clusters_labels',\n",
    "'robust_sum_stats_60_clusters_labels',\n",
    "]\n",
    "df_train_reordered.drop(columns=cluster_drop_cols, inplace=True)\n",
    "df_test = df_test.drop(columns=cluster_drop_cols, inplace=False)\n",
    "\n",
    "\n",
    "####################### Improvement 3 #######################\n",
    "## # Add shap. interaction terms\n",
    "interaction_terms_list = [\n",
    "('tlog_tlinear_sad_ask_size2', 'vol1_mean'),\n",
    "('tlog_tlinear_sad_ask_size2', 'log_wap1_log_price_ret_vol'),\n",
    "('tlog_tlinear_sad_size1', 'tlog_eps523_trade_price_n_wap_eqi_price0_dev'),\n",
    "('tlog_tlinear_sad_size1', 'tlog_eps523_trade_price_n_wap1_dev'),\n",
    "('tlog_eps523_trade_price_n_wap_eqi_price0_dev','log_wap1_log_price_ret_vol'),\n",
    "('tlog_eps523_trade_price_n_wap_eqi_price0_dev', 'tlog_first_10_min_vol'),\n",
    "('tlog_wap1_lprice_ret_vol_ati_*_wap1_lprice_ret_avg_ast_per_wap1_lprice_ret_vol_:20',\n",
    " 'log_wap1_log_price_ret_vol'),\n",
    "('tlog_wap1_lprice_ret_vol_ati_*_wap1_lprice_ret_avg_ast_per_wap1_lprice_ret_vol_:20',\n",
    " 'tlog_first_10_min_vol'),\n",
    "('tvpl2_rmed2v1', 'tlog_first_10_min_vol'),\n",
    "('tvpl2_rmed2v1', 'log_wap1_log_price_ret_vol'),\n",
    "('wap1_log_price_ret_normalized*mean_centered_per_wap1_lprice_ret_vol_:0',\n",
    " 'log_wap1_log_price_ret_vol'),\n",
    "('wap1_log_price_ret_normalized*mean_centered_per_wap1_lprice_ret_vol_:0',\n",
    " 'tlog_first_10_min_vol'),\n",
    "('wap1_log_price_ret_volstock_mean_from_25', 'log_wap1_log_price_ret_vol'),\n",
    "('wap1_log_price_ret_volstock_mean_from_25', 'tlog_first_10_min_vol'),\n",
    "('v1spprojt15f25_q1', 'log_wap1_log_price_ret_vol'),\n",
    "('v1spprojt15f25_q1', 'tlog_first_10_min_vol'),\n",
    "('soft_stock_mean_tvpl2_:20', 'wap1_log_price_ret_volstock_mean_from_25'),\n",
    "('soft_stock_mean_tvpl2_:20', 'wap1_log_price_ret_volstock_mean_from_20'),\n",
    "# ('tlog_target_vol_pcorr_3_clusters', 'soft_stock_mean_tvpl2_:20'),\n",
    "('v1proj_29_15_q3', 'log_wap1_log_price_ret_vol'),\n",
    "('v1proj_29_15_q3', 'tlog_first_10_min_vol'),\n",
    "('root_trade_count_smean', 'tlog_first_10_min_vol'),\n",
    "('root_trade_count_smean', 'log_wap1_log_price_ret_vol'),\n",
    "('tlog_wap1_lprice_ret_vol_ati_*_wap1_lprice_ret_vol_ast_per_wap1_lprice_ret_vol_:20',\n",
    " 'log_wap1_log_price_ret_vol'),\n",
    "('tlog_wap1_lprice_ret_vol_ati_*_wap1_lprice_ret_vol_ast_per_wap1_lprice_ret_vol_:20',\n",
    " 'tlog_first_10_min_vol'),\n",
    "('wap1_log_price_ret_volstock_mean_from_20', 'log_wap1_log_price_ret_vol'),\n",
    "('wap1_log_price_ret_volstock_mean_from_20', 'tlog_first_10_min_vol')]\n",
    "\n",
    "\n",
    "## # create and add interaction terms to train and test set\n",
    "for pair in interaction_terms_list:\n",
    "    df_train_reordered[f'{pair[0]}_XXX_{pair[1]}'] = df_train_reordered[pair[0]] * df_train_reordered[pair[1]]\n",
    "    df_test[f'{pair[0]}_XXX_{pair[1]}'] = df_test[pair[0]] * df_test[pair[1]]\n",
    "\n"
   ]
  },
  {
   "cell_type": "code",
   "execution_count": 15,
   "metadata": {},
   "outputs": [],
   "source": [
    "\n",
    "\n",
    "class train_validate_n_test(object):\n",
    "\n",
    "    def __init__(self,df_train_reordered, df_test) -> None:\n",
    "\n",
    "        #self.time_id_order = df.loc[:3829,'time_id'].values # select ordered unique time_ids\n",
    "        #self.train_time_id_ind = int(len(self.time_id_order)*0.7)\n",
    "\n",
    "        largest_num_time_id_stock = df_train_reordered.groupby('stock_id')['time_id'].apply(lambda x: x.nunique()).argmax()\n",
    "        self.time_id_order = df_train_reordered[df_train_reordered['stock_id'] == largest_num_time_id_stock]['time_id'].values # select reordered unique time_ids\n",
    "        self.n_folds = 10\n",
    "        folds = TimeSeriesSplit(n_splits=self.n_folds,)# max_train_size=None, gap=10)\n",
    "        #self.splits = folds.split( range( self.train_time_id_ind ) ) # split 70% train time_ids into n_fold splits\n",
    "        nunique_train_time_ids = df_train_reordered['time_id'].nunique()\n",
    "        self.splits = folds.split( range( nunique_train_time_ids ) )\n",
    "\n",
    "        #train_time_ids = self.time_id_order[:self.train_time_id_ind]\n",
    "        #self.train_stock_id = df[df['time_id'].isin(train_time_ids)]['stock_id']\n",
    "        #self.train_time_id = df[df['time_id'].isin(train_time_ids)]['time_id']\n",
    "        self.train_stock_id = df_train_reordered['stock_id']\n",
    "        self.train_time_id = df_train_reordered['time_id']\n",
    "\n",
    "        # test_time_ids = self.time_id_order[self.train_time_id_ind:]\n",
    "        # self.test_df = df[df['time_id'].isin(test_time_ids)]\n",
    "        self.test_time_id = df_test[df_test['stock_id'] == largest_num_time_id_stock]['time_id'].values # select reordered unique time_ids\n",
    "        self.test_df = df_test\n",
    "        self.test_stock_id = self.test_df['stock_id']\n",
    "        self.test_time_id = self.test_df['time_id']\n",
    "\n",
    "        #self.df = df\n",
    "        self.df_train_reordered = df_train_reordered\n",
    "\n",
    "        # feature_importances = pd.DataFrame()\n",
    "        cols = list(df_train_reordered.columns)\n",
    "        cols.remove('tlog_target')\n",
    "        cols.remove('target')\n",
    "        cols.remove('time_id')\n",
    "        cols.remove('stock_id')\n",
    "        self.feat_cols_list =  cols #cat_feat_labels+float32_feat_labels+float64_feat_labels # int32_feat_labels+int64_feat_labels+float32_feat_labels+float64_feat_labels\n",
    "        # feature_importances['feature'] = self.feat_cols_list\n",
    "\n",
    "        self.target_name = 'target' # _standardized' log target is easier to transform back than log_target_standardized\n",
    "\n",
    "        self.target_shift = 3\n",
    "        #del df\n",
    "        del df_train_reordered\n",
    "        gc.collect()\n",
    "\n",
    "    # def onehotencode_cat_var(self,full_set):\n",
    "    #     full_set = cat_feat_labels #full_set.astype({\"stn_id\":str,\"block_id\":str,\"ts_of_day\":str,\"hr_of_day\":str,\"day_of_wk\":str,\"day_of_mn\":str,\"wk_of_mon\":str })\n",
    "    #     full_set = pd.get_dummies(full_set, prefix_sep=\"_\",columns =cat_feat_labels,drop_first=True)\n",
    "    #     #ds_df = ds_df.drop('rem_blk_outf_'+self.stn,axis=1)\n",
    "    #     return full_set\n",
    "\n",
    "    #### RMSPE cost function\n",
    "    def rmspe(self,y_true, y_pred):\n",
    "        y_true = np.exp(y_true - self.target_shift) # inverse 'tlog_target' transform\n",
    "        y_pred = np.exp(y_pred - self.target_shift) # inverse 'tlog_target' transform\n",
    "        return np.sqrt(np.mean(np.square((y_true - y_pred) / y_true)))\n",
    "\n",
    "\n",
    "    # Custom RMSPE objective function\n",
    "    def rmspe_objective(self,preds, dtrain):\n",
    "        labels = dtrain.get_label()\n",
    "        preds = np.exp(preds - self.target_shift) # inverse 'tlog_target' transform\n",
    "        labels = np.exp(labels - self.target_shift) # inverse 'tlog_target' transform\n",
    "        errors = (preds - labels) / labels\n",
    "        gradient = 2 * errors / (1 + errors**2)\n",
    "        hessian = 2 * (1 - errors**2) / (1 + errors**2)**2\n",
    "        return gradient, hessian\n",
    "\n",
    "\n",
    "    def xgb_RMSPE(self,preds, train_data):\n",
    "        labels = train_data.get_label()\n",
    "        return 'RMSPE', round(self.rmspe(y_true = labels, y_pred = preds),5)\n",
    "\n",
    "\n",
    "    def nancorr(self,a, b):\n",
    "        v = np.isfinite(a)*np.isfinite(b) > 0\n",
    "        return np.corrcoef(a[v], b[v])[0,1]\n",
    "\n",
    "\n",
    "    def xgb_train_validate(self,params_xgb,n_rounds,esr,trial):\n",
    "        rmspe_val_score = []\n",
    "        #models= []\n",
    "        test_y_preds = np.zeros(len(self.test_df))\n",
    "        best_iterations = []\n",
    "        learning_train_rmspe = []\n",
    "        learning_val_rmspe = []\n",
    "\n",
    "        for fold_n, (train_index, valid_index) in enumerate(self.splits):\n",
    "            print('Fold:',fold_n+1)\n",
    "            # print('train_index',train_index)\n",
    "            # print('valid_index',valid_index)\n",
    "            train_time_ids = self.time_id_order[train_index]\n",
    "            val_time_ids = self.time_id_order[valid_index]\n",
    "            train_df = self.df_train_reordered[self.df_train_reordered['time_id'].isin(train_time_ids)]\n",
    "            val_df = self.df_train_reordered[self.df_train_reordered['time_id'].isin(val_time_ids)]\n",
    "\n",
    "            X_train = train_df[self.feat_cols_list]\n",
    "            y_train = train_df[self.target_name] # target\n",
    "            #train_weight = train_df['target']\n",
    "            X_valid = val_df[self.feat_cols_list]\n",
    "            y_val = val_df[self.target_name] # target\n",
    "            #val_weight = val_df['target']\n",
    "\n",
    "            v1tr = np.exp(X_train['log_wap1_log_price_ret_vol']) # double exponential to nullify the log\n",
    "            #v1tr = np.array([1]*len(X_train['log_wap1_log_price_ret_vol']))\n",
    "            v1v = np.exp(  X_valid['log_wap1_log_price_ret_vol']) # double exponential to nullify the log\n",
    "            #v1v = np.array([1]*len(X_valid['log_wap1_log_price_ret_vol']))\n",
    "\n",
    "            # v1tr = np.exp(np.exp(X_train['log_wap1_log_price_ret_vol'])) # double exponential to nullify the log\n",
    "            # v1v = np.exp(np.exp(  X_valid['log_wap1_log_price_ret_vol'])) # double exponential to nullify the log\n",
    "            #v1ts = np.exp(np.exp( self.test_df['log_wap1_log_price_ret_vol'])) # double exponential to nullify log\n",
    "\n",
    "            w_train = y_train **-2 * v1tr**2\n",
    "            w_val = y_val **-2 * v1v**2\n",
    "\n",
    "            print('Training....')\n",
    "            dtrain = xgb.DMatrix(X_train, label=(np.log(y_train/v1tr) + self.target_shift),weight=w_train,enable_categorical=True)\n",
    "            dvalid = xgb.DMatrix(X_valid,   label= (np.log( y_val/v1v) + self.target_shift),weight=w_val,enable_categorical=True)\n",
    "            watchlist  = [(dtrain,'train_loss_fold_'+str(fold_n+1)), (dvalid, 'val_loss_fold_'+str(fold_n+1))]\n",
    "            evals_result = {}\n",
    "            reg = xgb.train(params=params_xgb, dtrain=dtrain, num_boost_round=n_rounds, evals=watchlist, obj=self.rmspe_objective,custom_metric=self.xgb_RMSPE,  evals_result=evals_result,maximize=False,  early_stopping_rounds=esr,verbose_eval=False)\n",
    "            learning_train_rmspe.append(evals_result['train_loss_fold_'+str(fold_n+1)])\n",
    "            learning_val_rmspe.append(evals_result['val_loss_fold_'+str(fold_n+1)])\n",
    "\n",
    "            #models.append(reg)\n",
    "            best_iterations.append(reg.best_iteration)\n",
    "\n",
    "            p = np.exp(reg.predict(dvalid) - self.target_shift) *v1v\n",
    "            p_inv = p # inverse 'tlog_target' transform\n",
    "            y_val_inv = y_val # np.exp(y_val - self.target_shift) # inverse 'tlog_target' transform\n",
    "            val_score = np.mean( ((p_inv-y_val_inv)/y_val_inv)**2 )**0.5\n",
    "\n",
    "            # full_score += y_val.shape[0]*score**2\n",
    "\n",
    "            print(f'fold: {fold_n+1}, val rmspe score is {val_score}')\n",
    "            print('corr(p/v1v, y_val/v1v)',self.nancorr(       p_inv/v1v ,        y_val_inv/v1v ))\n",
    "            print('log(corr( ))',self.nancorr(np.log(p_inv/v1v), np.log(y_val_inv/v1v)))\n",
    "            print('corr(p, y_val)',self.nancorr(p_inv, y_val_inv))\n",
    "            print('log(corr( ))',self.nancorr(np.log(p_inv), np.log(y_val_inv)))\n",
    "\n",
    "            #test_pred = reg.predict(self.test_df[self.feat_cols_list] )*v1ts ## this method is not suitable for Timeseries cross validation because initial splits are too far from test set.\n",
    "            #test_y_preds += test_pred/self.n_folds\n",
    "\n",
    "            rmspe_val_score.append(val_score)\n",
    "\n",
    "        mean_rmspe_val_score = np.mean(rmspe_val_score)\n",
    "        print(f'mean rmspe val score over {self.n_folds} splits is',mean_rmspe_val_score)\n",
    "        #print(f'mean rmspe test score: ',  np.mean( ((test_y_preds-self.test_df[self.target_name])/self.test_df[self.target_name])**2 )**0.5  ) # target\n",
    "\n",
    "        # Plot learning curves\n",
    "        fig,ax = plt.subplots(2,1,figsize=(10,6))\n",
    "        for fold_n in range(len(rmspe_val_score)):\n",
    "            ax[0].plot(learning_train_rmspe[fold_n]['RMSPE'], label=f'Fold {fold_n+1} Train RMSPE')\n",
    "            ax[0].plot(learning_val_rmspe[fold_n]['RMSPE'],linestyle='dashed', label=f'Fold {fold_n+1} Validation RMSPE')\n",
    "        last_fold = len(rmspe_val_score) - 1\n",
    "        ax[1].plot(learning_val_rmspe[last_fold]['RMSPE'],linestyle='dashed', label=f'Fold {last_fold+1} Validation RMSPE')\n",
    "        ax[1].set_xlabel('Boosting Round')\n",
    "        ax[0].set_ylabel('RMSPE')\n",
    "        ax[1].set_ylabel('RMSPE')\n",
    "        ax[0].legend()\n",
    "        ax[1].legend()\n",
    "        ax[0].grid(True)\n",
    "        ax[1].grid(True)\n",
    "        fig.suptitle(f'Learning Curves, Trial: {trial.number}')\n",
    "        fig.show()\n",
    "\n",
    "        del self.df_train_reordered, X_train, X_valid, y_train, y_val,train_df,val_df,dtrain,dvalid, v1tr, v1v\n",
    "        gc.collect()\n",
    "        return mean_rmspe_val_score,best_iterations[-1]\n",
    "\n",
    "\n",
    "\n",
    "\n",
    "    def make_predictions(self,best_params,num_rounds ):\n",
    "        #train_time_ids = self.time_id_order[:self.train_time_id_ind]\n",
    "        #full_train_df = self.df[self.df['time_id'].isin(train_time_ids)]\n",
    "        full_train_df = self.df_train_reordered\n",
    "\n",
    "        X_train = full_train_df[self.feat_cols_list]\n",
    "        y_train = full_train_df[self.target_name] # target\n",
    "        y_train_inv = y_train  # no change\n",
    "        X_test = self.test_df[self.feat_cols_list]\n",
    "        #train_weight = full_train_df['target']\n",
    "        #y_test = self.test_df[self.target_name] # target\n",
    "        #test_weight = self.test_df['target']\n",
    "\n",
    "        v1tr = np.exp(X_train['log_wap1_log_price_ret_vol']) # double exponential to nullify log\n",
    "        #v1tr = np.array([1]*len(X_train['log_wap1_log_price_ret_vol']))\n",
    "        v1ts = np.exp( self.test_df['log_wap1_log_price_ret_vol']) # double exponential to nullify log\n",
    "        #v1ts = np.array([1]*len(X_test['log_wap1_log_price_ret_vol'])) # double exponential to nullify log\n",
    "        w_train = y_train **-2 * v1tr**2\n",
    "        #w_test = test_weight **-2 * v1ts**2\n",
    "\n",
    "        print('Final model')\n",
    "        dtrain = xgb.DMatrix(X_train, label=np.log(y_train/v1tr) + self.target_shift,weight=w_train,enable_categorical=True )\n",
    "        #dtest = xgb.DMatrix(X_test, label=y_test/v1ts,weight=w_test,enable_categorical=True )\n",
    "        dtest = xgb.DMatrix(X_test,enable_categorical=True )\n",
    "        watchlist  = [(dtrain,'train_loss')]\n",
    "        evals_result = {}\n",
    "        final_reg = xgb.train(params=best_params, dtrain=dtrain, num_boost_round=num_rounds, evals=watchlist, obj=self.rmspe_objective,custom_metric=self.xgb_RMSPE, evals_result=evals_result,maximize=False, verbose_eval=False)\n",
    "        #test_error = evals_result['test_loss']\n",
    "        train_pred = np.exp(final_reg.predict(dtrain) - self.target_shift)*v1tr\n",
    "        train_pred_inv = train_pred #np.exp(train_pred - self.target_shift) # inverse 'tlog_target' transform\n",
    "        test_pred = np.exp(final_reg.predict( dtest ) - self.target_shift)*v1ts\n",
    "        test_pred_inv = test_pred #np.exp(test_pred - self.target_shift) # inverse 'tlog_target' transform\n",
    "\n",
    "\n",
    "        del full_train_df#,X_train,X_test #,feat_names\n",
    "        gc.collect()\n",
    "\n",
    "        return final_reg,train_pred_inv,test_pred_inv,y_train_inv,X_train,X_test,v1tr,v1ts,w_train, self.target_name\n",
    "\n",
    "\n",
    "\n",
    "\n",
    "    def local_manual_shapley_additivity_check(self,model_base_value,all_stock_train_pred_df,all_stock_v1tr_df,all_stock_y_train_df,shap_values,stock_id,view_time_ids_start,view_time_ids_end,feature_name):\n",
    "\n",
    "        y_train_true = all_stock_y_train_df[stock_id].values[view_time_ids_start:view_time_ids_end]\n",
    "        model_pred = all_stock_train_pred_df[stock_id].values[view_time_ids_start:view_time_ids_end]\n",
    "                #### ONLY for Explainer\n",
    "        shap_pred = ( shap_values.base_values + shap_values.values.sum(axis=1) )* all_stock_v1tr_df[stock_id].values[view_time_ids_start:view_time_ids_end]\n",
    "\n",
    "                #### ONLY for TreeExplainer\n",
    "        #shap_pred = ( model_base_value + shap_values.sum(axis=1) )* all_stock_v1tr_df[stock_id].values[view_time_ids_start:view_time_ids_end]\n",
    "\n",
    "        #print('shap_values.sum(axis=1)',shap_values.sum(axis=1))\n",
    "        # print('shap_values.base_values',shap_values.base_values[0])\n",
    "        # print('shap_values.values',shap_values.values[0].sum())\n",
    "        #print('len(shap_values.values.sum(axis=1))',len(shap_values.values.sum(axis=1)))\n",
    "\n",
    "        model_shap_rmspe = self.rmspe(model_pred, shap_pred)\n",
    "\n",
    "        fig, ax = plt.subplots(2,1,figsize=(30,10))\n",
    "        ax[0].plot(np.arange(0,len(y_train_true)),y_train_true,label='true rvol.',linestyle='dashed',c='g',marker='*',alpha=0.2)\n",
    "        ax[0].plot(np.arange(0,len(model_pred)),model_pred,label='model prediction',linestyle='dashed',c='b',marker='*',alpha=0.6)\n",
    "        ax[0].set_title(f'True Rvol. Vs. model predicted Rvol.' )\n",
    "        ax[0].text(0,0.01,f\"stock_id: {stock_id}, view_time_ids_start: {view_time_ids_start}, view_time_ids_end:{view_time_ids_end}\")\n",
    "        ax[0].set_ylabel('rvol.')\n",
    "        ax[0].legend()\n",
    "        ax[0].grid(True)\n",
    "\n",
    "        ax[1].plot(np.arange(0,len(model_pred)),model_pred,label='model prediction',linestyle='dashed',c='b',marker='*',alpha=0.4)\n",
    "        ax[1].plot(np.arange(0,len(shap_pred)),shap_pred,label='summed shap values prediction',linestyle='dashed',c='r',marker='*',alpha=0.4)\n",
    "        ax[1].set_title(f'Check additivity of shap values, RMSPE:{model_shap_rmspe} between model and shap values prediction' )\n",
    "        ax[1].text(0,0.01,f\"stock_id: {stock_id}, view_time_ids_start: {view_time_ids_start}, view_time_ids_end:{view_time_ids_end}\")\n",
    "        ax[1].set_ylabel('rvol.')\n",
    "        ax[1].legend()\n",
    "        ax[1].grid(True)\n",
    "        fig.tight_layout()\n",
    "        fig.show()\n",
    "\n",
    "\n",
    "        del all_stock_train_pred_df,all_stock_v1tr_df,all_stock_y_train_df,shap_values\n",
    "        gc.collect()\n",
    "        return\n",
    "\n",
    "\n",
    "    def compute_shapley_PDP_n_Scatter(self,feature_name,shap_values,groundtruth,prediction,stock_id,view_time_ids_start,view_time_ids_end,set_name):\n",
    "        ####### compute partial dependence plot of most important features\n",
    "\n",
    "        ###### Partial dependence plot\n",
    "        #fig,ax = plt.subplots()\n",
    "        #shap.plots.partial_dependence(feature_name, model.predict, xgb.DMatrix(X_train,enable_categorical=True), model_expected_value=True, feature_expected_value=True)\n",
    "        #fig.show()\n",
    "\n",
    "        ##### scatter plot\n",
    "        print(f'\\n scatter plot of {feature_name} vs. shap values')\n",
    "        print(f'stock id: {stock_id}, view_time_ids_start:  {view_time_ids_start}, view_time_ids_end: {view_time_ids_end}')\n",
    "\n",
    "        fig, ax = plt.subplots(2, 2, figsize=(20, 20))\n",
    "        inds = shap.utils.potential_interactions(shap_values[:, feature_name], shap_values)\n",
    "        shap.plots.scatter(shap_values[:, feature_name], color=shap_values[:, inds[0]], title=f'scatter plot of {feature_name} Vs. Shap values on {set_name} set', ax=ax[0, 0])\n",
    "        shap.plots.scatter(shap_values[:, feature_name], color=shap_values[:, inds[1]], ax=ax[0, 1])\n",
    "        shap.plots.scatter(shap_values[:, feature_name], color=shap_values[:, inds[2]], ax=ax[1, 0])\n",
    "        plt.show()\n",
    "\n",
    "        error = groundtruth['tlog_target'] - prediction['tlog_target']\n",
    "        ##### scatter plot of feature shap values vs. error\n",
    "        fig, ax = plt.subplots(figsize=(5, 5))\n",
    "        print(f'\\n scatter plot of {feature_name} shap values vs. error')\n",
    "        print(f'stock id: {stock_id}, view_time_ids_start:  {view_time_ids_start}, view_time_ids_end: {view_time_ids_end}')\n",
    "        ax.scatter(error.values,shap_values[:, feature_name].values, alpha=0.4 )\n",
    "        ax.set_xlabel('error')\n",
    "        ax.set_ylabel(f'{feature_name} shap values')\n",
    "        ax.grid()\n",
    "        ax.set_title(f'scatter plot of {feature_name} shap values Vs. error on {set_name} set')\n",
    "        plt.tight_layout()\n",
    "        plt.show()\n",
    "\n",
    "\n",
    "        ##### scatter plot of feature vs. True target rvol. on trianing set\n",
    "        # fig,ax = plt.subplots()\n",
    "        # yval = all_stock_y_train_df[stock_id].values[view_time_ids_start:view_time_ids_end]\n",
    "        # xval = X[feature_name]\n",
    "        # ax.scatter(xval,yval)\n",
    "        # ax.plot([min(xval), max(xval)], [min(yval),max(yval)], color = 'red', linewidth = 1)\n",
    "        # ax.set_xlabel(feature_name)\n",
    "        # ax.set_ylabel('True target rvol.')\n",
    "        # ax.grid\n",
    "        # ax.set_title(f'scatter plot of {feature_name} Vs. True Rvol. for stock_id: {stock_id}, from {view_time_ids_start} to {view_time_ids_end}')\n",
    "        # fig.show()\n",
    "\n",
    "\n",
    "        ##### scatter plot of feature vs. predicted target rvol.on trianing set\n",
    "        # fig,ax = plt.subplots()\n",
    "        # yval1 = all_stock_train_pred_df[stock_id].values[view_time_ids_start:view_time_ids_end]\n",
    "        # ax.scatter(xval,yval1)\n",
    "        # ax.plot([min(xval), max(xval)], [min(yval1),max(yval1)], color = 'red', linewidth = 1)\n",
    "        # ax.set_xlabel(feature_name)\n",
    "        # ax.set_ylabel('Predicted target rvol.')\n",
    "        # ax.grid\n",
    "        # ax.set_title(f'scatter plot of {feature_name} Vs. Predicted Rvol. for stock_id: {stock_id}, from {view_time_ids_start} to {view_time_ids_end}')\n",
    "        # fig.show()\n",
    "\n",
    "\n",
    "        del shap_values\n",
    "        gc.collect()\n",
    "        return\n",
    "\n",
    "\n",
    "\n",
    "    def compute_shapley_beeswarm(self,shap_values,top_n_feat,stock_id,view_time_ids_start,view_time_ids_end,set_name):\n",
    "\n",
    "        #### ONLY for TreeExplainer\n",
    "        # plt.figure()\n",
    "        # stock_v1tr_df = all_stock_v1tr_df[stock_id].values[view_time_ids_start:view_time_ids_end]\n",
    "        # shap_values = np.multiply(shap_values.T ,stock_v1tr_df).T\n",
    "        # shap.summary_plot(shap_values)\n",
    "        # plt.title(f'stock id: {stock_id}, view_time_ids_start:  {view_time_ids_start}, view_time_ids_end: {view_time_ids_end}')\n",
    "        # plt.show()\n",
    "\n",
    "        #### ONLY for Explainer\n",
    "        print(f'\\n stock id: {stock_id}, view_time_ids_start:  {view_time_ids_start}, view_time_ids_end: {view_time_ids_end}')\n",
    "        fig,ax = plt.subplots()\n",
    "        ax.set_title(f'Beeswarm plot for {set_name} set showing top {top_n_feat} features')\n",
    "        shap.plots.beeswarm(shap_values, max_display=top_n_feat)\n",
    "        #ax.set_title(f' stock id: {stock_id}, view_time_ids_start:  {view_time_ids_start}, view_time_ids_end: {view_time_ids_end}')\n",
    "        plt.show()\n",
    "\n",
    "        del shap_values\n",
    "        gc.collect()\n",
    "        return\n",
    "\n",
    "\n",
    "\n",
    "    def compute_shapley_barplot(self,shap_values,top_n_feats,X,Y,stock_id,view_time_ids_start,view_time_ids_end,set_name):\n",
    "\n",
    "        #### ONLY for TreeExplainer\n",
    "        # plt.figure()\n",
    "        # stock_v1tr_df = all_stock_v1tr_df[stock_id].values[view_time_ids_start:view_time_ids_end]\n",
    "        # shap_values = np.multiply(shap_values.T ,stock_v1tr_df).T\n",
    "        # plt.bar(shap_values.abs().sum(axis=1))\n",
    "        # plt.title(f'stock id: {stock_id}, view_time_ids_start:  {view_time_ids_start}, view_time_ids_end: {view_time_ids_end}')\n",
    "        # plt.show()\n",
    "\n",
    "        #### ONLY for Explainer\n",
    "        print(f'\\nMEAN ABSOLUTE of feature bar plot \\n stock id: {stock_id}, view_time_ids_start:  {view_time_ids_start}, view_time_ids_end: {view_time_ids_end}')\n",
    "        fig,ax = plt.subplots()\n",
    "        ax.set_title(f'MEAN ABSOLUTE of feature bar plot on {set_name} set showing top {top_n_feats} features')\n",
    "        #clustering = shap.utils.hclust(X,Y)\n",
    "        shap.plots.bar(shap_values, max_display=top_n_feats)#,clustering=clustering,clustering_cutoff=0.9)\n",
    "        #ax.title(f'MEAN ABSOLUTE of feature bar plot \\n stock id: {stock_id}, view_time_ids_start:  {view_time_ids_start}, view_time_ids_end: {view_time_ids_end}')\n",
    "        fig.show()\n",
    "\n",
    "\n",
    "        #### ONLY for Explainer\n",
    "        print(f'\\nMAXIMUM ABSOLUTE of feature bar plot \\n stock id: {stock_id}, view_time_ids_start:  {view_time_ids_start}, view_time_ids_end: {view_time_ids_end}')\n",
    "        fig,ax = plt.subplots()\n",
    "        #clustering = shap.utils.hclust(X,Y)\n",
    "        ax.set_title(f'MAXIMUM ABSOLUTE of feature bar plot on {set_name} set showing top {top_n_feats} features')\n",
    "        shap.plots.bar(shap_values.abs.max(0), max_display=top_n_feats)#,clustering=clustering,clustering_cutoff=0.9)\n",
    "        #ax.title(f'nMAXIMUM ABSOLUTE of feature bar plot \\n stock id: {stock_id}, view_time_ids_start:  {view_time_ids_start}, view_time_ids_end: {view_time_ids_end}')\n",
    "        fig.show()\n",
    "\n",
    "        del shap_values, X,Y,stock_id,view_time_ids_start,view_time_ids_end,set_name,fig,ax,top_n_feats\n",
    "        gc.collect()\n",
    "        return\n",
    "\n",
    "\n",
    "    def compute_individual_stock_SHAP_values(self,final_reg,X_train,all_stock_train_pred_df,all_stock_v1tr_df,all_stock_y_train_df,feature_name,stock_id,view_time_ids_start,view_time_ids_end):\n",
    "\n",
    "        # plot shapley feature importances for all samples\n",
    "        final_reg.set_param({\"device\": \"cuda\"})\n",
    "        shap.initjs()\n",
    "\n",
    "        stock_id = stock_id\n",
    "        view_time_ids_start = view_time_ids_start\n",
    "        view_time_ids_end = view_time_ids_end\n",
    "        X = X_train[X_train['stock_id'].isin([stock_id])].iloc[view_time_ids_start:view_time_ids_end]\n",
    "\n",
    "        ###### Explainer #######\n",
    "        #explainer = shap.Explainer(final_reg,X)\n",
    "        explainer = shap.TreeExplainer(final_reg, feature_perturbation=\"tree_path_dependent\")\n",
    "        shap_values = explainer(np.array(X),check_additivity=False)\n",
    "        shap_values.feature_names = final_reg.feature_names\n",
    "\n",
    "        ###### TreeExplainer #######\n",
    "        # explainer = shap.TreeExplainer(final_reg,feature_perturbation='interventional')\n",
    "        # shap_values = explainer.shap_values(np.array(X),check_additivity=False)\n",
    "        # shap_values.feature_names = final_reg.feature_names\n",
    "\n",
    "        model_base_value = explainer.expected_value\n",
    "        # print(f'Model base value: {model_base_value} before scaling by v1tr')\n",
    "\n",
    "        ####### GLOBAL ALL feature contributions ##############################\n",
    "        ###### Do manual additivity check because it fails\n",
    "        self.local_manual_shapley_additivity_check(model_base_value,all_stock_train_pred_df,all_stock_v1tr_df,all_stock_y_train_df,shap_values,stock_id,view_time_ids_start,view_time_ids_end,feature_name )\n",
    "\n",
    "        ####### Manually correct the shap values to accomodate v1tr scaling\n",
    "        shap_values.base_values = shap_values.base_values * all_stock_v1tr_df[stock_id].values[view_time_ids_start:view_time_ids_end] # all_stock_v1tr_df.iloc[view_time_ids_start:view_time_ids_end,stock_id].values\n",
    "        stock_v1tr_df = all_stock_v1tr_df[stock_id].values[view_time_ids_start:view_time_ids_end] # all_stock_v1tr_df.iloc[view_time_ids_start:view_time_ids_end,stock_id].values\n",
    "        shap_values.values = np.multiply(shap_values.values.T ,stock_v1tr_df).T\n",
    "        ###### check correctness of shap_values\n",
    "        # sp = shap_values.base_values + shap_values.values.sum(axis=1)\n",
    "        # plt.figure(figsize=(30,5))\n",
    "        # plt.plot(range(len(sp)),sp)\n",
    "        # model_pred = all_stock_train_pred_df[stock_id].values[view_time_ids_start:view_time_ids_end]\n",
    "        # plt.plot(range(len(sp)), model_pred )\n",
    "        # plt.show()\n",
    "\n",
    "        self.compute_shapley_beeswarm(X,shap_values,all_stock_v1tr_df,stock_id,view_time_ids_start,view_time_ids_end)\n",
    "\n",
    "        #shap_values = final_reg.predict(dtrain, pred_contribs=True)\n",
    "        ### Calculate SHAP values for a specific instance (e.g., the first test instance)\n",
    "        ### shap_values = explainer.shap_values(X_test.iloc[0])\n",
    "\n",
    "        self.compute_shapley_barplot(shap_values,all_stock_v1tr_df,stock_id,view_time_ids_start,view_time_ids_end)\n",
    "\n",
    "        self.compute_shapley_heatmap(shap_values,stock_id,view_time_ids_start,view_time_ids_end,all_stock_train_pred_df)\n",
    "\n",
    "        ####### INDIVIDUAL feature contributions ##############################\n",
    "        ####### compute partial dependence plot of most important features\n",
    "        self.compute_shapley_PDP_n_Scatter(feature_name,shap_values,stock_id,view_time_ids_start,view_time_ids_end,X,all_stock_y_train_df,all_stock_train_pred_df)\n",
    "\n",
    "        #self.compute_shapley_decision(model_base_value,shap_values.data,shap_values.feature_names,stock_id,view_time_ids_start,view_time_ids_end)\n",
    "\n",
    "        ##### force plot has some error\n",
    "        #self.compute_shapley_force(model_base_value,shap_values.data,X,shap_values.feature_names,stock_id,view_time_ids_start,view_time_ids_end)\n",
    "\n",
    "\n",
    "        del final_reg,X_train\n",
    "        gc.collect()\n",
    "        return\n",
    "\n",
    "\n",
    "\n",
    "    def identiy_largest_overall_n_under_n_over_prediction_errors(self,groundtruth,prediction,set_name):\n",
    "\n",
    "        # overall error\n",
    "        oveall_error = groundtruth['target'] - prediction['target']\n",
    "        # overall squared percentage error\n",
    "        ovearll_SPE = pd.DataFrame()\n",
    "        ovearll_SPE['target_spe'] = (oveall_error / groundtruth['target'] )**2\n",
    "        ovearll_SPE['stock_id'] = groundtruth['stock_id']\n",
    "        ovearll_SPE['time_id'] = groundtruth['time_id']\n",
    "\n",
    "        # sort the overall_SPE by descending order\n",
    "        top_n_instances = 50\n",
    "        sorted_ovearll_SPE = ovearll_SPE.sort_values('target_spe',ascending=False)[:top_n_instances].reset_index(drop=True)\n",
    "        # Plot the sorted_ovearll_SPE as a bar plot with dual x-axis for stock_id and time_id\n",
    "        fig, ax1 = plt.subplots(figsize=(15, 8))\n",
    "        # Plotting the bar graph for 'target_spe'\n",
    "        ax1.bar(sorted_ovearll_SPE.index, sorted_ovearll_SPE['target_spe'], color='b', alpha=0.6)\n",
    "        ax1.set_xlabel('Instance Index')\n",
    "        ax1.set_ylabel('Target Squared Percentage Error', color='b')\n",
    "        ax1.tick_params(axis='y', labelcolor='b')\n",
    "        # Creating a twin Axes sharing the x-axis\n",
    "        ax2 = ax1.twiny()\n",
    "        # Setting the x-ticks and labels for stock_id and time_id\n",
    "        ax2.set_xticks(sorted_ovearll_SPE.index)\n",
    "        ax2.set_xticklabels(sorted_ovearll_SPE['stock_id'], rotation=90, ha='center')\n",
    "        ax2.set_xlabel('Stock ID')\n",
    "        # Creating another twin Axes sharing the x-axis\n",
    "        ax3 = ax1.twiny()\n",
    "        # Offset the twin axis below the original x-axis\n",
    "        ax3.spines['top'].set_position(('outward', 40))\n",
    "        ax3.set_xticks(sorted_ovearll_SPE.index)\n",
    "        ax3.set_xticklabels(sorted_ovearll_SPE['time_id'], rotation=90, ha='center')\n",
    "        ax3.set_xlabel('Time ID')\n",
    "        plt.title(f'{top_n_instances} Largest Target SPE instances with Stock ID and Time ID on ' + set_name + ' Set')\n",
    "        plt.show()\n",
    "\n",
    "        overall_RMSPE = np.sqrt(np.mean(ovearll_SPE['target_spe']))\n",
    "        corrected_overall_SPE = ovearll_SPE.sort_values('target_spe',ascending=False)[top_n_instances:].reset_index(drop=True)\n",
    "        corrected_overall_RMSPE = np.sqrt(np.mean(corrected_overall_SPE['target_spe']))\n",
    "        print(f'\\nOverall RMSPE: {overall_RMSPE} on {set_name} set')\n",
    "        print(f'Corrected RMSPE: {corrected_overall_RMSPE} on {set_name} set')\n",
    "        print(f'Percentage improvment in RMSPE of ovearall error on {set_name} set after correcting the top {top_n_instances} instances:')\n",
    "        print(f'{(overall_RMSPE - corrected_overall_RMSPE )/overall_RMSPE*100}%')\n",
    "\n",
    "\n",
    "        # underprediction squared percentage error\n",
    "        up_SPE = ovearll_SPE[oveall_error > 0].reset_index(drop=True)\n",
    "        # sort the up_SPE by descending order\n",
    "        sorted_up_SPE = up_SPE.sort_values('target_spe',ascending=False)[:top_n_instances].reset_index(drop=True)\n",
    "        # Plot the sorted_up_SPE as a bar plot with dual x-axis for stock_id and time_id\n",
    "        fig, ax1 = plt.subplots(figsize=(15, 8))\n",
    "        # Plotting the bar graph for 'target_spe'\n",
    "        ax1.bar(sorted_up_SPE.index, sorted_up_SPE['target_spe'], color='b', alpha=0.6)\n",
    "        ax1.set_xlabel('Instance Index')\n",
    "        ax1.set_ylabel('Target Squared Percentage Error', color='b')\n",
    "        ax1.tick_params(axis='y', labelcolor='b')\n",
    "        # Creating a twin Axes sharing the x-axis\n",
    "        ax2 = ax1.twiny()\n",
    "        # Setting the x-ticks and labels for stock_id and time_id\n",
    "        ax2.set_xticks(sorted_up_SPE.index)\n",
    "        ax2.set_xticklabels(sorted_up_SPE['stock_id'], rotation=90, ha='center')\n",
    "        ax2.set_xlabel('Stock ID')\n",
    "        # Creating another twin Axes sharing the x-axis\n",
    "        ax3 = ax1.twiny()\n",
    "        # Offset the twin axis below the original x-axis\n",
    "        ax3.spines['top'].set_position(('outward', 40))\n",
    "        ax3.set_xticks(sorted_up_SPE.index)\n",
    "        ax3.set_xticklabels(sorted_up_SPE['time_id'], rotation=90, ha='center')\n",
    "        ax3.set_xlabel('Time ID')\n",
    "        plt.title(f'{top_n_instances} Largest target SPE Underprediction instances with Stock ID and Time ID on ' + set_name + ' Set')\n",
    "        plt.show()\n",
    "\n",
    "        up_RMSPE = np.sqrt(np.mean(up_SPE['target_spe']))\n",
    "        corrected_up_SPE = up_SPE.sort_values('target_spe',ascending=False)[top_n_instances:].reset_index(drop=True)\n",
    "        corrected_up_RMSPE = np.sqrt(np.mean(corrected_up_SPE['target_spe']))\n",
    "        print(f'\\nUnderprediction RMSPE: {up_RMSPE} on {set_name} set')\n",
    "        print(f'Corrected Underprediction RMSPE: {corrected_up_RMSPE} on {set_name} set')\n",
    "        print(f'Percentage improvment in RMSPE of underprediction error on {set_name} set after correcting the top {top_n_instances} instances:')\n",
    "        print(f'{(up_RMSPE - corrected_up_RMSPE )/up_RMSPE*100}%')\n",
    "\n",
    "\n",
    "        # overprediction squared percentage error\n",
    "        op_SPE = ovearll_SPE[oveall_error < 0].reset_index(drop=True)\n",
    "        # sort the op_SPE by descending order\n",
    "        sorted_op_SPE = op_SPE.sort_values('target_spe',ascending=False)[:top_n_instances].reset_index(drop=True)\n",
    "        # Plot the sorted_op_SPE as a bar plot with dual x-axis for stock_id and time_id\n",
    "        fig, ax1 = plt.subplots(figsize=(15, 8))\n",
    "        # Plotting the bar graph for 'target_spe'\n",
    "        ax1.bar(sorted_op_SPE.index, sorted_op_SPE['target_spe'], color='b', alpha=0.6)\n",
    "        ax1.set_xlabel('Instance Index')\n",
    "        ax1.set_ylabel('Target Squared Percentage Error', color='b')\n",
    "        ax1.tick_params(axis='y', labelcolor='b')\n",
    "        # Creating a twin Axes sharing the x-axis\n",
    "        ax2 = ax1.twiny()\n",
    "        # Setting the x-ticks and labels for stock_id and time_id\n",
    "        ax2.set_xticks(sorted_op_SPE.index)\n",
    "        ax2.set_xticklabels(sorted_op_SPE['stock_id'], rotation=90, ha='center')\n",
    "        ax2.set_xlabel('Stock ID')\n",
    "        # Creating another twin Axes sharing the x-axis\n",
    "        ax3 = ax1.twiny()\n",
    "        # Offset the twin axis below the original x-axis\n",
    "        ax3.spines['top'].set_position(('outward', 40))\n",
    "        ax3.set_xticks(sorted_op_SPE.index)\n",
    "        ax3.set_xticklabels(sorted_op_SPE['time_id'], rotation=90, ha='center')\n",
    "        ax3.set_xlabel('Time ID')\n",
    "        plt.title(f'{top_n_instances} Largest target SPE Overprediction instances with Stock ID and Time ID on ' + set_name + ' Set')\n",
    "        plt.show()\n",
    "\n",
    "        op_RMSPE = np.sqrt(np.mean(op_SPE['target_spe']))\n",
    "        corrected_op_SPE = op_SPE.sort_values('target_spe',ascending=False)[top_n_instances:].reset_index(drop=True)\n",
    "        corrected_op_RMSPE = np.sqrt(np.mean(corrected_op_SPE['target_spe']))\n",
    "        print(f'\\nOverprediction RMSPE: {op_RMSPE} on {set_name} set')\n",
    "        print(f'Corrected Overprediction RMSPE: {corrected_op_RMSPE} on {set_name} set')\n",
    "        print(f'Percentage improvment in RMSPE of overprediction error on {set_name} set after correcting the top {top_n_instances} instances:')\n",
    "        print(f'{(op_RMSPE - corrected_op_RMSPE )/op_RMSPE*100}%')\n",
    "\n",
    "\n",
    "        ovearll_error_idxs = []\n",
    "        up_error_idxs = []\n",
    "        op_error_idxs = []\n",
    "        for i in range(top_n_instances):\n",
    "            ovearll_error_idxs.append(groundtruth[(groundtruth['stock_id'] == sorted_ovearll_SPE['stock_id'][i]) & (groundtruth['time_id'] == sorted_ovearll_SPE['time_id'][i])].index[0])\n",
    "            up_error_idxs.append(groundtruth[(groundtruth['stock_id'] == sorted_up_SPE['stock_id'][i]) & (groundtruth['time_id'] == sorted_up_SPE['time_id'][i])].index[0])\n",
    "            op_error_idxs.append(groundtruth[(groundtruth['stock_id'] == sorted_op_SPE['stock_id'][i]) & (groundtruth['time_id'] == sorted_op_SPE['time_id'][i])].index[0])\n",
    "\n",
    "        return ovearll_error_idxs, up_error_idxs, op_error_idxs\n",
    "\n",
    "\n",
    "\n",
    "    def shapley_analysis_of_large_error_instances(self,ovearll_error_idxs, up_error_idxs, op_error_idxs,shap_values_all,set_name):\n",
    "\n",
    "        print('shap_values_all.feature_names',len(shap_values_all.feature_names))\n",
    "\n",
    "        # decision plot of the largest overall error instances\n",
    "        display_n_features = 40\n",
    "        fig, ax = plt.subplots(figsize=(50,10))\n",
    "        shap.decision_plot(np.mean(shap_values_all.base_values[ovearll_error_idxs]), shap_values_all.values[ovearll_error_idxs,:], \\\n",
    "                           feature_names=shap_values_all.feature_names, feature_order='importance', feature_display_range= slice(-1,-display_n_features,-1),\\\n",
    "                           title=f'Decision plot of the {display_n_features} largest overall error instances on {set_name} set \\n (ignore the WRONG expected value shown)')\n",
    "        plt.show()\n",
    "\n",
    "        # decision plot of the largest overprediction error instances\n",
    "        fig, ax = plt.subplots(figsize=(50,10))\n",
    "        shap.decision_plot(np.mean(shap_values_all.base_values[op_error_idxs]), shap_values_all.values[op_error_idxs,:], \\\n",
    "                            feature_names=shap_values_all.feature_names, feature_order='importance', feature_display_range= slice(-1,-30,-1),\\\n",
    "                            title=f'Decision plot of the {display_n_features} largest overprediction error instances on {set_name} set \\n (ignore the WRONG expected value shown)')\n",
    "        plt.show()\n",
    "\n",
    "        # decision plot of the largest underprediction error instances\n",
    "        fig, ax = plt.subplots(figsize=(50,10))\n",
    "        shap.decision_plot(np.mean(shap_values_all.base_values[up_error_idxs]), shap_values_all.values[up_error_idxs,:], \\\n",
    "                            feature_names=shap_values_all.feature_names, feature_order='importance', feature_display_range= slice(-1,-30,-1),\\\n",
    "                            title=f'Decision plot of the {display_n_features} largest underprediction error instances on {set_name} set \\n (ignore the WRONG expected value shown)')\n",
    "        plt.show()\n",
    "\n",
    "        del shap_values_all,ovearll_error_idxs, up_error_idxs, op_error_idxs,set_name\n",
    "        return\n",
    "\n",
    "\n",
    "\n",
    "    def compute_global_SHAP_values(self,final_reg,X_train,y_train,train_pred,v1tr,set_name):\n",
    "\n",
    "        print(f'\\nGround-Truth Rvol. grand average on {set_name} set: {y_train[\"target\"].values.mean()}')\n",
    "        print(f'\\nModel Prediction Rvol. grand average on {set_name} set: {train_pred[\"target\"].values.mean()}')\n",
    "\n",
    "        # plot shapley feature importances for all samples\n",
    "        final_reg.set_param({\"device\": \"cuda\"})\n",
    "        shap.initjs()\n",
    "\n",
    "        X = X_train\n",
    "\n",
    "        ###### Explainer #######\n",
    "        #explainer = shap.Explainer(final_reg,X)\n",
    "        explainer = shap.TreeExplainer(final_reg, feature_perturbation=\"tree_path_dependent\")\n",
    "        shap_values_all = explainer(np.array(X),check_additivity=False)\n",
    "        shap_values_all.feature_names = final_reg.feature_names\n",
    "\n",
    "        model_base_value = explainer.expected_value\n",
    "\n",
    "        ####### GLOBAL ALL feature contributions ##############################\n",
    "        ###### Do manual additivity check because it fails\n",
    "        print(f'\\n -------------------- WARNING ------------------------')\n",
    "        print(f'shapley values are those of log transformed and shifted target so they will not add up to original target')\n",
    "        print(f'shapley values are those of log transformed and shifted target so they will not add up to original target')\n",
    "        print(f'\\n -------------------- WARNING ------------------------')\n",
    "        #self.global_manual_shapley_additivity_check(train_pred,v1tr,shap_values_all,set_name)\n",
    "\n",
    "        ####### Manually correct the shap values to accomodate v1tr scaling\n",
    "        # shap_values_all.base_values = np.exp(shap_values_all.base_values - self.target_shift) * v1tr['wap1_log_price_ret_vol'].values  # all_stock_v1tr_df.iloc[view_time_ids_start:view_time_ids_end,stock_id].values\n",
    "        # shap_values_all.values = np.multiply(np.exp(shap_values_all.values.T - self.target_shift),v1tr['wap1_log_price_ret_vol'].values).T\n",
    "\n",
    "        ###### Beeswarm plot\n",
    "        #### ONLY for Explainer\n",
    "        print(f'\\n Global Beeswarm plot for all stock ids and time ids')\n",
    "        top_n_feat = 25\n",
    "        self.compute_shapley_beeswarm(shap_values_all,top_n_feat,stock_id=None,view_time_ids_start=None,view_time_ids_end=None,set_name=set_name)\n",
    "\n",
    "        ###### Bar plot MEAN Absolute value of features\n",
    "        #### ONLY for Explainer\n",
    "        print(f'\\nMEAN ABSOLUTE of feature bar plot for all stock ids and time ids')\n",
    "        #clustering = shap.util.hclust(X,y)\n",
    "        shap.plots.bar(shap_values_all)# clustering=clustering)\n",
    "        #ax.title(f'MEAN ABSOLUTE of feature bar plot for all stock ids and time ids')\n",
    "\n",
    "        ###### Bar plot MAXIMUM Absolute value of features\n",
    "        #### ONLY for Explainer\n",
    "        print(f'\\nMAXIMUM ABSOLUTE of feature bar plot for all stock ids and time ids')\n",
    "        #clustering = shap.util.hclust(X,y)\n",
    "        shap.plots.bar(shap_values_all.abs.max(0), )#clustering=clustering)\n",
    "        #ax.title(f'nMAXIMUM ABSOLUTE of feature bar plot for all stock ids and time ids')\n",
    "\n",
    "        del final_reg,X_train,y_train,train_pred,v1tr\n",
    "        gc.collect()\n",
    "        return shap_values_all\n",
    "\n",
    "\n",
    "    def global_manual_shapley_additivity_check(self,train_pred,v1tr,shap_values_all, set_name):\n",
    "        #### ONLY for Explainer\n",
    "        shap_pred_all = ( shap_values_all.base_values + shap_values_all.values.sum(axis=1) ) * v1tr['wap1_log_price_ret_vol'] #pd.DataFrame(all_stock_v1tr_df.values.ravel() , columns=['v1tr_all'])['v1tr_all'].values\n",
    "        model_shap_rmspe_all = self.rmspe(train_pred['target'], shap_pred_all)\n",
    "\n",
    "        # # line plot of model prediction vs. shap values prediction\n",
    "        # fig, ax = plt.subplots(figsize=(30,10))\n",
    "        # ax.plot(np.arange(0,len(train_pred['target'])),train_pred['target'],label='prediction',linestyle='dashed',c='g',marker='*',alpha=0.2)\n",
    "        # ax.plot(np.arange(0,len(shap_pred_all)),shap_pred_all,label='shap_value',linestyle='dashed',c='b',marker='*',alpha=0.6)\n",
    "        # ax.set_title(f'Model prediction Vs. Shap_values for additivity check on {set_name} set' )\n",
    "        # ax.set_ylabel('rvol.')\n",
    "        # ax.legend()\n",
    "        # ax.grid(True)\n",
    "        # plt.show()\n",
    "        # plt.close()\n",
    "\n",
    "        # scatter plot of model prediction vs. shap values prediction\n",
    "        fig, ax = plt.subplots(figsize=(30,10))\n",
    "        ax.scatter(train_pred['target'],shap_pred_all)\n",
    "        ax.plot([min(train_pred['target']), max(train_pred['target'])], [min(shap_pred_all),max(shap_pred_all)], color = 'red', linewidth = 1)\n",
    "        ax.set_xlabel('model prediction')\n",
    "        ax.set_ylabel('shap prediction')\n",
    "        ax.grid\n",
    "        ax.set_title(f'scatter plot of model prediction Vs. shap prediction on {set_name} set')\n",
    "        plt.show()\n",
    "        plt.close()\n",
    "\n",
    "        print(f'\\n Check Additivity of shap values in all stock and time ids, model_shap_rmspe_all: {model_shap_rmspe_all} on {set_name} set')\n",
    "        del train_pred,v1tr,shap_values_all\n",
    "        gc.collect()\n",
    "        return\n",
    "\n",
    "\n",
    "\n",
    "\n",
    "    def analyze_global_SHAP_values(self,shap_values_all,groundtruth, prediction,set_name):\n",
    "\n",
    "        ###################################### All Error vs. feature Shapley values Analysis #######################################\n",
    "        ## filter out features that have high negative and positively shapley values and see if they are correlated with the error\n",
    "\n",
    "        top_largest_shap_val_feat = 100\n",
    "        error = groundtruth['target'] - prediction['target']\n",
    "        # select only the features that have high shapley values over all instances/samples\n",
    "        abs_summed_shap = np.abs(shap_values_all.values).sum(axis=0)\n",
    "        sorted_summed_shap = np.sort(abs_summed_shap)[::-1]\n",
    "        labels = np.array(shap_values_all.feature_names)[np.argsort(abs_summed_shap)[::-1]]\n",
    "        top_n_feat = 50\n",
    "        print(f'\\nTop {top_n_feat} features based on summed absolute SHAP values over ALL instances/samples on {set_name} set')\n",
    "        print(list(labels[:top_n_feat]))\n",
    "\n",
    "        # from the features that have high shapley values over all instances/samples\n",
    "        # find out feature shapley values that are negatively correlated with the error\n",
    "        feat_error_corr_dict = {}\n",
    "        for feat in labels[:top_largest_shap_val_feat]:\n",
    "            # if self.nancorr(shap_values_all.values[:,shap_values_all.feature_names.index(feat)], error) < 0:\n",
    "            #     feat_error_corr_dict[feat] = self.nancorr(shap_values_all.values[:,shap_values_all.feature_names.index(feat)], error)\n",
    "            corr, _ = spearmanr(shap_values_all.values[:, shap_values_all.feature_names.index(feat)], error)\n",
    "            if corr < 0:\n",
    "                feat_error_corr_dict[feat] = corr\n",
    "\n",
    "        # sort the features based on the most negative correlation with the error first\n",
    "        sorted_feat_error_corr_dict = dict(sorted(feat_error_corr_dict.items(), key=lambda item: item[1]))\n",
    "\n",
    "        # scatter plot of features shapley values vs. error over all instances/samples for the top_n_feat features that have high negative correlation with the error\n",
    "        top_n_feat = 28\n",
    "        fig, ax = plt.subplots(int(top_n_feat/4), 4, figsize=(30, 30))\n",
    "        fig.suptitle(f\"{set_name} set\", fontsize=16)\n",
    "        for feat in list(sorted_feat_error_corr_dict.keys())[:top_n_feat]:\n",
    "            ax.flatten()[list(sorted_feat_error_corr_dict.keys()).index(feat)].scatter(shap_values_all.values[:,shap_values_all.feature_names.index(feat)], error, alpha=0.1)\n",
    "            ax.flatten()[list(sorted_feat_error_corr_dict.keys()).index(feat)].set_title(f\"{feat} shap values vs. error \\n, spear. corr: {sorted_feat_error_corr_dict[feat]}\")\n",
    "            ax.flatten()[list(sorted_feat_error_corr_dict.keys()).index(feat)].set_xlabel('error')\n",
    "        fig.tight_layout()\n",
    "        plt.show()\n",
    "\n",
    "        print(f'\\nTop {top_n_feat} features that have high negative correlation with the error on {set_name} set')\n",
    "        print(list(sorted_feat_error_corr_dict.keys())[:top_n_feat])\n",
    "\n",
    "\n",
    "        ###################################### Underprediction Error Shapley Analysis #######################################\n",
    "        ## filter out instance where underpreidction is happening, then identfy the features that are causing the underprediction\n",
    "        ## do not identfiy the features on the entire dataset.\n",
    "\n",
    "        top_n_feat = 50\n",
    "        underprediction = prediction['target'] < groundtruth['target']\n",
    "\n",
    "        abs_summed_shap = np.abs(shap_values_all.values[underprediction]).sum(axis=0)\n",
    "        sorted_summed_shap = np.sort(abs_summed_shap)[::-1]\n",
    "        labels = np.array(shap_values_all.feature_names)[np.argsort(abs_summed_shap)[::-1]]\n",
    "        fig = px.bar(x=sorted_summed_shap[:top_n_feat], y=labels[:top_n_feat], orientation='h', title=f\"{set_name} set's UNDERprediction instances, Feature importance based on summed absolute SHAP values\", height=800)\n",
    "        fig.update_layout(yaxis=dict(tickfont=dict(size=10)))  # Reduce the font size of the labels\n",
    "        fig.show()\n",
    "        print(f'\\nTop {top_n_feat} features that have high absolute shapley values over all instances/samples on {set_name} set for UNDERprediction instances')\n",
    "        print(list(labels[:top_n_feat]))\n",
    "\n",
    "        simple_summed_shap = shap_values_all.values[underprediction].sum(axis=0)\n",
    "        sorted_summed_shap = np.sort(simple_summed_shap)\n",
    "        labels = np.array(shap_values_all.feature_names)[np.argsort(simple_summed_shap)]\n",
    "        fig = px.bar(x=sorted_summed_shap[:top_n_feat], y=labels[:top_n_feat], orientation='h', title=f\"{set_name} set's UNDERprediction instances, Feature importance based on simply summed SHAP values, Asc. order\", height=800)\n",
    "        fig.update_layout(yaxis=dict(tickfont=dict(size=10)))  # Reduce the font size of the labels\n",
    "        fig.show()\n",
    "        print(f'\\nTop {top_n_feat} features that have high simply summed shapley values over all instances/samples on {set_name} set for UNDERprediction instances, Asc. order')\n",
    "        print(list(labels[:top_n_feat]))\n",
    "\n",
    "        simple_summed_shap = shap_values_all.values[underprediction].sum(axis=0)\n",
    "        sorted_summed_shap = np.sort(simple_summed_shap)[::-1]\n",
    "        labels = np.array(shap_values_all.feature_names)[np.argsort(simple_summed_shap)[::-1]]\n",
    "        fig = px.bar(x=sorted_summed_shap[:top_n_feat], y=labels[:top_n_feat], orientation='h', title=f\"{set_name} set's UNDERprediction instances, Feature importance based on simply summed SHAP values, Desc. order\", height=800)\n",
    "        fig.update_layout(yaxis=dict(tickfont=dict(size=10)))  # Reduce the font size of the labels\n",
    "        fig.show()\n",
    "        print(f'\\nTop {top_n_feat} features that have high simply summed shapley values over all instances/samples on {set_name} set for UNDERprediction instances, Desc. order')\n",
    "        print(list(labels[:top_n_feat]))\n",
    "\n",
    "\n",
    "        min_shap_values = shap_values_all.values[underprediction].min(axis=0)\n",
    "        sorted_min_shap = np.sort(min_shap_values)\n",
    "        labels = np.array(shap_values_all.feature_names)[np.argsort(min_shap_values)]\n",
    "        fig = px.bar(x=sorted_min_shap[:top_n_feat], y=labels[:top_n_feat], orientation='h', title=f\"{set_name} set's UNDERprediction instances, Feature importance based on min SHAP values\", height=800)\n",
    "        fig.update_layout(yaxis=dict(tickfont=dict(size=10)))  # Reduce the font size of the labels\n",
    "        fig.show()\n",
    "        print(f'\\nTop {top_n_feat} features that have high min shapley values over all instances/samples on {set_name} set for UNDERprediction instances')\n",
    "        print(list(labels[:top_n_feat]))\n",
    "\n",
    "\n",
    "        #Examine Individual Feature that lead to most negative shap values Contributions using shap dependence plot\n",
    "        #self.compute_shapley_PDP_n_Scatter(feature_name,shap_values,stock_id,view_time_ids_start,view_time_ids_end,X,all_stock_y_train_df,all_stock_train_pred_df)\n",
    "\n",
    "\n",
    "\n",
    "\n",
    "        ###################################### Overprediction Error Shapley Analysis #######################################\n",
    "\n",
    "        ## filter out instance where underpreidction is happening, then identfy the features that are causing the overprediction\n",
    "        ## do not identfiy the features on the entire dataset.\n",
    "        top_n_feat = 50\n",
    "        overprediction = prediction['target'] > groundtruth['target']\n",
    "\n",
    "        abs_summed_shap = np.abs(shap_values_all.values[overprediction]).sum(axis=0)\n",
    "        sorted_summed_shap = np.sort(abs_summed_shap)[::-1]\n",
    "        labels = np.array(shap_values_all.feature_names)[np.argsort(abs_summed_shap)[::-1]]\n",
    "        fig = px.bar(x=sorted_summed_shap[:top_n_feat], y=labels[:top_n_feat], orientation='h', title=f\"{set_name} set's OVERprediction instances, Feature importance based on summed absolute SHAP values\", height=800)\n",
    "        fig.update_layout(yaxis=dict(tickfont=dict(size=10)))  # Reduce the font size of the labels\n",
    "        fig.show()\n",
    "        print(f'\\nTop {top_n_feat} features that have high absolute shapley values over all instances/samples on {set_name} set for OVERprediction instances')\n",
    "        print(list(labels[:top_n_feat]))\n",
    "\n",
    "        simple_summed_shap = shap_values_all.values[overprediction].sum(axis=0)\n",
    "        sorted_summed_shap = np.sort(simple_summed_shap)\n",
    "        labels = np.array(shap_values_all.feature_names)[np.argsort(simple_summed_shap)]\n",
    "        fig = px.bar(x=sorted_summed_shap[:top_n_feat], y=labels[:top_n_feat], orientation='h', title=f\"{set_name} set's OVERprediction instances, Feature importance based on simply summed SHAP values, Asc. order\", height=800)\n",
    "        fig.update_layout(yaxis=dict(tickfont=dict(size=10)))  # Reduce the font size of the labels\n",
    "        fig.show()\n",
    "        print(f'\\nTop {top_n_feat} features that have high simply summed shapley values over all instances/samples on {set_name} set for OVERprediction instances, Asc. order')\n",
    "        print(list(labels[:top_n_feat]))\n",
    "\n",
    "        simple_summed_shap = shap_values_all.values[overprediction].sum(axis=0)\n",
    "        sorted_summed_shap = np.sort(simple_summed_shap)[::-1]\n",
    "        labels = np.array(shap_values_all.feature_names)[np.argsort(simple_summed_shap)[::-1]]\n",
    "        fig = px.bar(x=sorted_summed_shap[:top_n_feat], y=labels[:top_n_feat], orientation='h', title=f\"{set_name} set's OVERprediction instances, Feature importance based on simply summed SHAP values,  Desc. order\", height=800)\n",
    "        fig.update_layout(yaxis=dict(tickfont=dict(size=10)))  # Reduce the font size of the labels\n",
    "        fig.show()\n",
    "        print(f'\\nTop {top_n_feat} features that have high simply summed shapley values over all instances/samples on {set_name} set for OVERprediction instances, Desc. order')\n",
    "        print(list(labels[:top_n_feat]))\n",
    "\n",
    "        max_shap_values = shap_values_all.values[overprediction].max(axis=0)\n",
    "        sorted_max_shap = np.sort(max_shap_values)[::-1]\n",
    "        labels = np.array(shap_values_all.feature_names)[np.argsort(max_shap_values)[::-1]]\n",
    "        fig = px.bar(x=sorted_max_shap[:top_n_feat], y=labels[:top_n_feat], orientation='h', title=f\"{set_name} set's OVERprediction instances, Feature importance based on max SHAP values\", height=800)\n",
    "        fig.update_layout(yaxis=dict(tickfont=dict(size=10)))  # Reduce the font size of the labels\n",
    "        fig.show()\n",
    "        print(f'\\nTop {top_n_feat} features that have high max shapley values over all instances/samples on {set_name} set for OVERprediction instances')\n",
    "        print(list(labels[:top_n_feat]))\n",
    "\n",
    "        #Examine Individual Feature that lead to most negative shap values Contributions using shap dependence plot\n",
    "        #self.compute_shapley_PDP_n_Scatter(feature_name,shap_values,stock_id,view_time_ids_start,view_time_ids_end,X,all_stock_y_train_df,all_stock_train_pred_df)\n",
    "\n",
    "        print(f\"\\n\\nFraction of underprediction instances: {sum(underprediction) / len(prediction)} on {set_name} set\")\n",
    "        print(f\"Underprediction RMSPE: {self.rmspe(groundtruth['target'][underprediction], prediction['target'][underprediction])} on {set_name} set\")\n",
    "        print(f\"Fraction of overprediction instances: {sum(overprediction) / len(prediction)} on {set_name} set\")\n",
    "        print(f\"Overprediction RMSPE: {self.rmspe(groundtruth['target'][overprediction], prediction['target'][overprediction])} on {set_name} set\")\n",
    "        print(f\"OVERALL RMSPE: {self.rmspe(groundtruth['target'], prediction['target'])} on {set_name} set\")\n",
    "\n",
    "\n",
    "\n",
    "        del shap_values_all,groundtruth, prediction, error, underprediction, overprediction, abs_summed_shap, sorted_summed_shap,\\\n",
    "            labels, feat_error_corr_dict, sorted_feat_error_corr_dict, min_shap_values, max_shap_values, sorted_min_shap, sorted_max_shap\n",
    "        return\n",
    "\n",
    "\n",
    "\n",
    "\n",
    "    def compute_shapley_heatmap(self,shap_values,stock_id,view_time_ids_start,view_time_ids_end,all_stock_train_pred_df):\n",
    "\n",
    "        #### ONLY for Explainer\n",
    "        print(f'\\nHEAT MAP \\n stock id: {stock_id}, view_time_ids_start:  {view_time_ids_start}, view_time_ids_end: {view_time_ids_end}')\n",
    "        #print(' NOTE: Heatmap is sorted with f(X) from smallest values to biggest value !! (picture is wrong)')\n",
    "        # fig,ax = plt.subplots(figsize=(13.5,2))\n",
    "        # y_asc = np.sort( all_stock_train_pred_df.iloc[ view_time_ids_start : view_time_ids_end ,stock_id].values )\n",
    "        # ax.plot( range(len(y_asc)), y_asc, color='g')\n",
    "        # ax.axhline(y_asc.mean(),color='r', linestyle='dashed')\n",
    "        # ax.set_ylabel('Correct f(x) in Asc. order')\n",
    "        # ax.set_yticks(np.arange(0,max(y_asc),0.002))\n",
    "        # fig.show()\n",
    "\n",
    "        fig,ax = plt.subplots()\n",
    "        # order = np.argsort(all_stock_train_pred_df.iloc[ view_time_ids_start : view_time_ids_end ,stock_id].values)\n",
    "        shap.plots.heatmap(shap_values,instance_order=shap_values.sum(1))\n",
    "        #ax.title(f'\\nHEAT MAP \\n stock id: {stock_id}, view_time_ids_start:  {view_time_ids_start}, view_time_ids_end: {view_time_ids_end}')\n",
    "        fig.show()\n",
    "\n",
    "        del shap_values,all_stock_train_pred_df\n",
    "        gc.collect()\n",
    "        return\n",
    "\n",
    "\n",
    "    def compute_shapley_decision(self,model_base_value,shap_values,feature_names,stock_id,view_time_ids_start,view_time_ids_end,set_name):\n",
    "\n",
    "\n",
    "\n",
    "        # Create decision plot\n",
    "        shap.decision_plot(model_base_value, shap_values, X_test, feature_names=feature_names)\n",
    "\n",
    "\n",
    "        #### ONLY for Explainer\n",
    "        print(f'\\nDECISION PLOT (IGNORE Magnitude, only see relative magnitude) \\n stock id: {stock_id}, view_time_ids_start:  {view_time_ids_start}, view_time_ids_end: {view_time_ids_end}')\n",
    "        fig,ax = plt.subplots()\n",
    "        shap.plots.decision(model_base_value,shap_values=shap_values.values,features=shap_values.data,feature_names=feature_names, show=True) #matplotlib=True,\n",
    "        ax.set_title(f'\\n DECISION PLOT (IGNORE Magnitude, only see relative magnitude) \\n stock id: {stock_id}, view_time_ids_start:  {view_time_ids_start}, view_time_ids_end: {view_time_ids_end}')\n",
    "        fig.show()\n",
    "\n",
    "        del shap_values\n",
    "        gc.collect()\n",
    "        return\n",
    "\n",
    "\n",
    "    def compute_shapley_force(self,model_base_value,shap_values,X,feature_names,stock_id,view_time_ids_start,view_time_ids_end):\n",
    "\n",
    "        # ### ONLY for Explainer\n",
    "        # print(f'\\n FORCE PLOT (IGNORE Magnitude, only see relative magnitude) \\n stock id: {stock_id}, view_time_ids_start:  {view_time_ids_start}, view_time_ids_end: {view_time_ids_end}')\n",
    "        # fig,ax = plt.subplots()\n",
    "        # shap.plots.force(model_base_value,shap_values=shap_values[0],features=X[0],feature_names=feature_names, show=True) #matplotlib=True,\n",
    "        # ax.title(f'\\n FORCE PLOT (IGNORE Magnitude, only see relative magnitude) \\n stock id: {stock_id}, view_time_ids_start:  {view_time_ids_start}, view_time_ids_end: {view_time_ids_end}')\n",
    "        # fig.show()\n",
    "\n",
    "        # example_index = 0  # You can change this index to any other example\n",
    "        # example = X[example_index]\n",
    "        # # Explain the prediction of the example\n",
    "        # shap.force_plot(explainer.expected_value, shap_values[example_index], example, feature_names=data.feature_names)\n",
    "\n",
    "        del shap_values\n",
    "        gc.collect()\n",
    "        return\n",
    "\n",
    "\n",
    "\n",
    "    # def compute_train_avg_target_rvol(self, unique_stock_ids, y_train):\n",
    "    #     # unique_train_time_ids = self.time_id_order[:self.train_time_id_ind]\n",
    "    #     unique_train_time_ids = self.time_id_order #[:self.train_time_id_ind]\n",
    "    #     train_target_df = pd.DataFrame(index=unique_train_time_ids, columns=unique_stock_ids)\n",
    "    #     for s in unique_stock_ids:\n",
    "    #         st_index = self.train_stock_id == s\n",
    "    #         t_index = self.train_time_id[st_index]\n",
    "    #         train_target_df.loc[t_index, s] = y_train[st_index].values\n",
    "    #     train_avg_target_rvol = train_target_df.ffill().bfill().mean(axis=1)\n",
    "    #     return train_avg_target_rvol\n",
    "\n",
    "    # def compute_test_avg_target_rvol(self, unique_stock_ids, y_test):\n",
    "    #     #unique_test_time_ids = self.time_id_order[self.train_time_id_ind:]\n",
    "    #     unique_test_time_ids = self.test_time_id\n",
    "    #     test_target_df = pd.DataFrame(index=unique_test_time_ids, columns=unique_stock_ids)\n",
    "    #     for s in unique_stock_ids:\n",
    "    #         st_index = self.test_stock_id == s\n",
    "    #         t_index = self.test_time_id[st_index]\n",
    "    #         test_target_df.loc[t_index, s] = y_test[st_index].values\n",
    "    #     test_avg_target_rvol = test_target_df.ffill().bfill().mean(axis=1)\n",
    "    #     return test_avg_target_rvol\n",
    "\n",
    "\n",
    "    def fraction_above_average(self,signal1, avg):\n",
    "        # Count the fraction of times when signal1 is above signal2\n",
    "        fraction_above_avg = (signal1 > avg).mean()\n",
    "        return fraction_above_avg\n",
    "\n",
    "\n",
    "    def compute_all_stock_v1tr_df(self, unique_stock_ids, v1tr):\n",
    "        #unique_train_time_ids = self.time_id_order[:self.train_time_id_ind]\n",
    "        unique_train_time_ids = self.time_id_order #[:self.train_time_id_ind]\n",
    "        all_stock_v1tr_df = pd.DataFrame(index=unique_train_time_ids, columns=unique_stock_ids)\n",
    "        for s in unique_stock_ids:\n",
    "            st_index = self.train_stock_id == s\n",
    "            t_index = self.train_time_id[st_index]\n",
    "            all_stock_v1tr_df.loc[t_index, s] = v1tr[st_index].values\n",
    "        all_stock_v1tr_df = all_stock_v1tr_df.ffill().bfill()\n",
    "        return all_stock_v1tr_df\n",
    "\n",
    "    def compute_all_stock_train_pred_df(self, unique_stock_ids, train_pred):\n",
    "        #unique_train_time_ids = self.time_id_order[:self.train_time_id_ind]\n",
    "        unique_train_time_ids = self.time_id_order #[:self.train_time_id_ind]\n",
    "        all_stock_train_pred_df = pd.DataFrame(index=unique_train_time_ids, columns=unique_stock_ids)\n",
    "        for s in unique_stock_ids:\n",
    "            st_index = self.train_stock_id == s\n",
    "            t_index = self.train_time_id[st_index]\n",
    "            all_stock_train_pred_df.loc[t_index, s] = train_pred[st_index].values\n",
    "        all_stock_train_pred_df = all_stock_train_pred_df.ffill().bfill()\n",
    "        return all_stock_train_pred_df\n",
    "\n",
    "    def compute_all_stock_test_pred_df(self, unique_stock_ids, test_pred):\n",
    "        # unique_test_time_ids = self.time_id_order[self.train_time_id_ind:]\n",
    "        unique_test_time_ids = self.test_time_id\n",
    "        all_stock_test_pred_df = pd.DataFrame(index=unique_test_time_ids, columns=unique_stock_ids)\n",
    "        for s in unique_stock_ids:\n",
    "            st_index = self.test_stock_id == s\n",
    "            t_index = self.test_time_id[st_index]\n",
    "            all_stock_test_pred_df.loc[t_index, s] = test_pred[st_index].values\n",
    "        all_stock_test_pred_df = all_stock_test_pred_df.ffill().bfill()\n",
    "        return all_stock_test_pred_df\n",
    "\n",
    "\n",
    "    def compute_all_stock_y_train_df(self, unique_stock_ids, y_train):\n",
    "        #unique_train_time_ids = self.time_id_order[:self.train_time_id_ind]\n",
    "        unique_train_time_ids = self.time_id_order #[:self.train_time_id_ind]\n",
    "        all_stock_y_train_df = pd.DataFrame(index=unique_train_time_ids, columns=unique_stock_ids)\n",
    "        for s in unique_stock_ids:\n",
    "            st_index = self.train_stock_id == s\n",
    "            t_index = self.train_time_id[st_index]\n",
    "            all_stock_y_train_df.loc[t_index, s] = y_train[st_index].values\n",
    "        all_stock_y_train_df = all_stock_y_train_df.ffill().bfill()\n",
    "        return all_stock_y_train_df\n",
    "\n",
    "    def compute_all_stock_y_test_df(self, unique_stock_ids, y_test):\n",
    "        #unique_test_time_ids = self.time_id_order[self.train_time_id_ind:]\n",
    "        unique_test_time_ids = self.test_time_id\n",
    "        all_stock_y_test_df = pd.DataFrame(index=unique_test_time_ids, columns=unique_stock_ids)\n",
    "        for s in unique_stock_ids:\n",
    "            st_index = self.test_stock_id == s\n",
    "            t_index = self.test_time_id[st_index]\n",
    "            all_stock_y_test_df.loc[t_index, s] = y_test[st_index].values\n",
    "        all_stock_y_test_df = all_stock_y_test_df.ffill().bfill()\n",
    "        return all_stock_y_test_df\n",
    "\n",
    "\n",
    "\n",
    "    ######## Identify stocks belonging to clusters based on clusterings in dataset\n",
    "    ######## find stock ids of clusters having same feature values\n",
    "    ######## This is reverse-engineering cluster labels of already clustered stocks\n",
    "    def calculate_cluster_fraction(self, column, n_clusters, stock_list):\n",
    "        \"\"\" This function computes the fraction of stock ids in stock_list inside a cluster in the clustering feature.\n",
    "        The fraction is between 0 - 1. 1 indicates all the stock ids in stock_list are in a particular cluster.\n",
    "        \"\"\"\n",
    "\n",
    "        # self.train_stock_id = df[df['time_id'].isin(train_time_ids)]['stock_id']\n",
    "        # self.train_time_id = df[df['time_id'].isin(train_time_ids)]['time_id']\n",
    "\n",
    "        # unique_stock_ids = self.train_stock_id.unique()\n",
    "        # time_id_order = df2.loc[:3829,'time_id'].values\n",
    "        # train_time_id_ind = int(len(time_id_order)*0.7)\n",
    "\n",
    "        # train_time_ids = time_id_order[:train_time_id_ind]\n",
    "        # train_stock_id = df2[df2['time_id'].isin(train_time_ids)]['stock_id']\n",
    "        # train_time_id = df2[df2['time_id'].isin(train_time_ids)]['time_id']\n",
    "\n",
    "        unique_stock_ids = self.train_stock_id.unique()\n",
    "        #train_time_ids = self.time_id_order[:self.train_time_id_ind]\n",
    "        train_time_ids = self.time_id_order #[:self.train_time_id_ind]\n",
    "\n",
    "        train_col_df = self.df[self.df['time_id'].isin(train_time_ids)][column]\n",
    "\n",
    "        ## reshape the dataframe\n",
    "        #unique_train_time_ids = self.time_id_order[:self.train_time_id_ind]\n",
    "        unique_train_time_ids = self.time_id_order #[:self.train_time_id_ind]\n",
    "        all_stock_column_df = pd.DataFrame(index=unique_train_time_ids, columns=unique_stock_ids)\n",
    "        for s in unique_stock_ids:\n",
    "            st_index = self.train_stock_id == s\n",
    "            t_index = self.train_time_id[st_index]\n",
    "            all_stock_column_df.loc[t_index, s] = train_col_df[st_index].values\n",
    "        all_stock_column_df = all_stock_column_df.ffill().bfill()\n",
    "\n",
    "        features = all_stock_column_df.T.to_numpy()\n",
    "\n",
    "        ## kmeans\n",
    "        kmeans = KMeans(n_clusters=n_clusters,n_init=10)\n",
    "        kmeans.fit(features)\n",
    "        cluster_labels = kmeans.labels_\n",
    "        cluster_labels\n",
    "\n",
    "        clusters_dict = {}\n",
    "        unique_labels = np.unique(cluster_labels)\n",
    "        for label in unique_labels:\n",
    "            indices = np.where(cluster_labels == label)[0]\n",
    "            stocks_in_cluster = unique_stock_ids[indices]\n",
    "            clusters_dict[label] = stocks_in_cluster.tolist()\n",
    "\n",
    "        for c in clusters_dict.keys():\n",
    "            cnt=0\n",
    "            for s in stock_list:\n",
    "                if s in clusters_dict[c]:\n",
    "                    cnt+=1\n",
    "            print(f'cluster: {c}, # stock ids in cluster: {cnt}, clustering fraction: {cnt/len(clusters_dict[c])}')\n",
    "\n",
    "        return\n",
    "\n",
    "\n",
    "\n",
    "    def check_stock_list_in_all_clustering_features(self, stock_list):\n",
    "\n",
    "        clustering_features_list = [    \"log_target_vol_corr_32_clusters_stnd\",\n",
    "                                        \"log_target_vol_sum_stats_16_clusters_stnd\",\n",
    "                                        \"sum_stats_4_clusters_labels\",\n",
    "                                        \"sum_stats_10_clusters_labels\",\n",
    "                                        \"sum_stats_16_clusters_labels\",\n",
    "                                        \"sum_stats_30_clusters_labels\",\n",
    "                                        \"pear_corr_32_clusters_labels\",\n",
    "                                        \"pear_corr_4_clusters_labels\",\n",
    "                                        \"pear_corr_49_clusters_labels\",\n",
    "                                        \"pear_corr_90_clusters_labels\",]\n",
    "\n",
    "        print('stock_list: ' , stock_list)\n",
    "        for feature in clustering_features_list:\n",
    "            n_clusters = int(re.findall(r'\\d+', feature)[0])\n",
    "            print('Feature: ', feature)\n",
    "            print('Cluster Fractions: ')\n",
    "            print(self.calculate_cluster_fraction( feature, n_clusters, stock_list))\n",
    "\n",
    "        return\n",
    "\n",
    "\n",
    "    def compute_acf_pacf(self,unique_stock_ids,all_stock_train_pred_df,all_stock_y_train_df):\n",
    "        ##### Autocorrelation and Partial Autocorrelation Plot EVERY individual stock\n",
    "        plt.close('all')\n",
    "        for s in unique_stock_ids[0:1]:#[0:40]:\n",
    "            fig,ax = plt.subplots(2,1,figsize=(30,6))\n",
    "            stock_residual = all_stock_train_pred_df[s]-all_stock_y_train_df[s]\n",
    "            plot_acf(stock_residual, lags=200,ax=ax[0])\n",
    "            plot_pacf(stock_residual, lags=200,ax=ax[1])\n",
    "            ax[0].set_title(f'Autocorrelation of stock {s} Residuals on train set')\n",
    "            ax[1].set_title(f'Partial Autocorrelation of stock {s} Residuals on train set')\n",
    "            ax[0].set_xticks(range(0,200,5))\n",
    "            ax[1].set_xticks(range(0,200,5))\n",
    "            ax[0].set_yticks(np.arange(-1, 1, 0.1))\n",
    "            ax[1].set_yticks(np.arange(-1, 1, 0.1))\n",
    "            ax[1].set_xlabel('lags')\n",
    "            ax[0].set_ylabel('ACF')\n",
    "            ax[1].set_ylabel('PACF')\n",
    "            ax[0].grid(True)\n",
    "            ax[1].grid(True)\n",
    "            fig.show()\n",
    "        return\n",
    "\n",
    "\n",
    "\n",
    "    def compute_IFFT(self,unique_stock_ids,all_stock_train_pred_df,all_stock_y_train_df):\n",
    "\n",
    "        ##### FAST FOURIER TRANSFORM plot of EVERY individual stock\n",
    "        ##### IFFT plot of reconstructed time series ######\n",
    "        plt.close('all')\n",
    "        for s in unique_stock_ids[100:]:#[40:112]:\n",
    "            stock_residual = all_stock_train_pred_df[s]-all_stock_y_train_df[s]\n",
    "            x = stock_residual.values\n",
    "            limit = 0.00001\n",
    "\n",
    "            n=len(x)\n",
    "            fhat = np.fft.fft(x,n)\n",
    "            PSD = fhat*np.conj(fhat) / n\n",
    "            freq = (1/n)*np.arange(n)\n",
    "            start=1 #ignore dc component\n",
    "            L = np.arange(start,np.floor(n/2),dtype='int')\n",
    "            # fig,ax = plt.subplots(figsize=(30,6))\n",
    "            # #ax.plot(freq[L],np.array([15]*len(freq[L]))) # line at 15\n",
    "            # ax.axhline(limit,  color='k', linestyle='-')\n",
    "            # ax.plot(freq[L],PSD[L])\n",
    "            # ax.set_xlabel('freq')\n",
    "            # ax.set_ylabel('mag')\n",
    "            # ax.set_title(f'mag plot of stock: {s} residual')\n",
    "            # fig.show()\n",
    "\n",
    "            indices = PSD > limit\n",
    "            num_freqs = len(np.where(indices>0)[0])\n",
    "            print('# of frequencies in residual = ',num_freqs)\n",
    "\n",
    "            fhat = fhat*indices\n",
    "            fig,ax = plt.subplots(2,1,figsize=(30,6))\n",
    "            ffilt = np.fft.ifft(fhat)\n",
    "            ax[0].plot(np.arange(0,len(x)),ffilt.real,label='top '+str(num_freqs)+' frequencies in residual (train set)',c='g',alpha=1)\n",
    "            ax[0].plot(np.arange(0,len(x)),x,label='original residual',c='r',alpha=0.2)\n",
    "            ax[0].legend()\n",
    "            ax[0].grid()\n",
    "            ax[0].set_xlabel('time id')\n",
    "            ax[0].set_ylabel('residual')\n",
    "            ax[0].set_title(f'IFFT of stock: {s} residual')\n",
    "\n",
    "\n",
    "            x1 = all_stock_y_train_df[s].values\n",
    "            limit1 = 0.00001\n",
    "            n1=len(x1)\n",
    "            fhat1 = np.fft.fft(x1,n1)\n",
    "            PSD1 = fhat1*np.conj(fhat1) / n1\n",
    "            freq1 = (1/n1)*np.arange(n1)\n",
    "            start1=1 #ignore dc component\n",
    "            L1 = np.arange(start1,np.floor(n1/2),dtype='int')\n",
    "            fig1,ax1 = plt.subplots(figsize=(30,6))\n",
    "            #ax.plot(freq[L],np.array([15]*len(freq[L]))) # line at 15\n",
    "            ax1.axhline(limit1,  color='k', linestyle='-')\n",
    "            ax1.plot(freq1[L],PSD1[L])\n",
    "            ax1.set_xlabel('freq')\n",
    "            ax1.set_ylabel('mag')\n",
    "            ax1.set_title(f'mag plot of stock: {s} rvol.')\n",
    "            fig1.show()\n",
    "\n",
    "            indices1 = PSD1 > limit1\n",
    "            num_freqs1 = len(np.where(indices1>0)[0])\n",
    "            print('# of frequencies in rvol. = ',num_freqs1)\n",
    "            fhat1 = fhat1*indices1\n",
    "            ffilt1 = np.fft.ifft(fhat1)\n",
    "            ax[1].plot(np.arange(0,len(x1)),ffilt1.real,label='top '+str(num_freqs1)+' frequencies in true rvol. (train set)',c='g',alpha=1)\n",
    "            ax[1].plot(np.arange(0,len(x1)),x1,label='original true rvol.',c='r',alpha=0.2)\n",
    "            ax[1].legend()\n",
    "            ax[1].grid()\n",
    "            ax[1].set_xlabel('time id')\n",
    "            ax[1].set_ylabel('rvol.')\n",
    "            ax[1].set_title(f'IFFT of stock: {s} rvol.')\n",
    "            fig.show()\n",
    "        return\n",
    "\n",
    "\n",
    "\n",
    "\n",
    "    def calculate_total_gap(self,data):\n",
    "        # 1. Order the ground truth in ascending order\n",
    "        sorted_data = np.sort(data)\n",
    "\n",
    "        # 2. Take up to the 75th percentile (remove upper outliers)\n",
    "        percentile_75 = np.percentile(sorted_data, 75)\n",
    "        filtered_data = sorted_data[sorted_data <= percentile_75]\n",
    "\n",
    "        # 3. Take first differences\n",
    "        first_differences = np.diff(filtered_data)\n",
    "\n",
    "        # 4. Order the first differences in descending order\n",
    "        sorted_differences = np.sort(first_differences)[::-1]  # Sort in descending order\n",
    "\n",
    "        # 5. Take the sum of the first differences up to the 50th percentile\n",
    "        length = len(sorted_differences)\n",
    "        cutoff_index = int(0.5 * length)  # 50th percentile index\n",
    "        total_gap = np.sum(sorted_differences[:cutoff_index])\n",
    "\n",
    "        return total_gap\n",
    "\n",
    "\n",
    "\n",
    "\n",
    "    def overall_stock_id_analysis(self,unique_stock_ids,all_stock_pred_df,all_stock_y_GroundTruth_df,residuals,train_flag):\n",
    "\n",
    "        if train_flag:\n",
    "            set_name = 'train'\n",
    "        else:\n",
    "            set_name = 'test'\n",
    "\n",
    "        all_stock_pred_pivot = all_stock_pred_df.pivot(index='time_id', columns='stock_id', values='target')\n",
    "        if train_flag:\n",
    "            all_stock_pred_pivot = all_stock_pred_pivot.reindex(self.time_id_order)\n",
    "\n",
    "        all_stock_y_GroundTruth_pivot = all_stock_y_GroundTruth_df.pivot(index='time_id', columns='stock_id', values='target')\n",
    "        if train_flag:\n",
    "            all_stock_y_GroundTruth_pivot = all_stock_y_GroundTruth_pivot.reindex(self.time_id_order)\n",
    "\n",
    "\n",
    "        rmspe_per_stock = []\n",
    "        total_gap_per_stock = []\n",
    "        for s in unique_stock_ids:\n",
    "            rmspe_per_stock.append( np.nanmean( ((all_stock_pred_pivot[s]-all_stock_y_GroundTruth_pivot[s])/all_stock_y_GroundTruth_pivot[s])**2 )**0.5  )\n",
    "            total_gap_per_stock.append( self.calculate_total_gap(all_stock_y_GroundTruth_pivot[s].values) )\n",
    "\n",
    "\n",
    "        ###### Bar plot of RMSPE for all stocks in the training set\n",
    "        all_stock_rmspe = pd.Series(rmspe_per_stock,index=unique_stock_ids)\n",
    "        smallest_10_rmspe_stocks = all_stock_rmspe.sort_values(ascending=True).index.values[:10]\n",
    "        largest_10_rmspe_stocks = all_stock_rmspe.sort_values(ascending=True).index[::-1].values[:10]\n",
    "        fig, ax = plt.subplots(figsize=(40,10))\n",
    "        ax.text(0,0.52,f'10 largest RMSPE stocks: {largest_10_rmspe_stocks}')\n",
    "        ax.text(0,0.62,f'10 smallest RMSPE stocks: {smallest_10_rmspe_stocks}')\n",
    "        ax.bar(unique_stock_ids, rmspe_per_stock)\n",
    "        ax.set_xticks(unique_stock_ids)\n",
    "        ax.tick_params(axis='x', rotation=45)\n",
    "        ax.set_yticks(np.arange(0, max(rmspe_per_stock) + 0.01, 0.04))\n",
    "        ax.grid()\n",
    "        ax.set_title(f'RMSPE of Real. Vol. for each stock on {set_name} set')\n",
    "        ax.set_xlabel('Stock ID')\n",
    "        ax.set_ylabel('RMSPE')\n",
    "        plt.show()\n",
    "        plt.close()\n",
    "        ## check if the largest and smallest fall into a cluster of a clustering feature\n",
    "        print('\\n 10_largest_rmspe_stocks in clustering feature')\n",
    "        #self.check_stock_list_in_all_clustering_features(stock_list = largest_10_rmspe_stocks)\n",
    "        print('\\n 10_smallest_rmspe_stocks in clustering feature')\n",
    "        #self.check_stock_list_in_all_clustering_features(stock_list = smallest_10_rmspe_stocks)\n",
    "        print(f'30_largest_rmspe_stocks in {set_name} set: ',all_stock_rmspe.sort_values(ascending=True).index[::-1].values[:30])\n",
    "\n",
    "\n",
    "        ####### plot total_gap in descending order for all stocks  ######\n",
    "        all_stock_total_gap = pd.Series(total_gap_per_stock,index=unique_stock_ids)\n",
    "        smallest_10_total_gap_stocks = all_stock_total_gap.sort_values(ascending=True).index.values[:10]\n",
    "        largest_10_total_gap_stocks = all_stock_total_gap.sort_values(ascending=True).index[::-1].values[:10]\n",
    "        fig, ax = plt.subplots(figsize=(40,10))\n",
    "        ax.text(4, max(total_gap_per_stock),f'10 largest total gap stocks: {largest_10_total_gap_stocks}')\n",
    "        ax.text(4, max(total_gap_per_stock)-0.003,f'10 smallest total gap stocks: {smallest_10_total_gap_stocks}')\n",
    "        sorted_indices = np.argsort(total_gap_per_stock)[::-1]\n",
    "        sorted_unique_stock_ids = unique_stock_ids[sorted_indices]\n",
    "        sorted_total_gap_per_stock = np.array(total_gap_per_stock)[sorted_indices]\n",
    "        ax.bar(range(len(sorted_unique_stock_ids)), sorted_total_gap_per_stock,tick_label=sorted_unique_stock_ids)\n",
    "        ax.tick_params(axis='x', rotation=45)\n",
    "        ax.set_yticks(np.arange(0, max(sorted_total_gap_per_stock) + 0.001, 0.001))\n",
    "        ax.grid()\n",
    "        ax.set_title(f'Total Gap of Real. Vol. for each stock on GroundTruth {set_name} set')\n",
    "        ax.set_xlabel('Stock ID')\n",
    "        ax.set_ylabel('Total Gap')\n",
    "        plt.show()\n",
    "        plt.close()\n",
    "        print(f'30_largest_total_gap_stocks in {set_name} set: ',all_stock_total_gap.sort_values(ascending=True).index[::-1].values[:30])\n",
    "\n",
    "\n",
    "        groundtruth = all_stock_y_GroundTruth_df['target'].values\n",
    "        prediction = all_stock_pred_df['target'].values\n",
    "        residuals = residuals['target'].values # copy is made, its not modified inplace\n",
    "\n",
    "        ####### scatter plot of True Real. Vol. vs. Pred Real. Vol.\n",
    "        fig, ax = plt.subplots(figsize=(30,10))\n",
    "        ax.scatter(groundtruth, prediction, c='b', alpha=0.1)\n",
    "        ax.plot(groundtruth, groundtruth, c='r',linestyle='solid' )\n",
    "        ax.set_title(f'Scatter Plot of True vs Predicted Values on {set_name} set')\n",
    "        ax.set_xlabel(f'True {set_name} rvol. Values')\n",
    "        ax.set_ylabel(f'Predicted {set_name} rvol. Values')\n",
    "        plt.show()\n",
    "        plt.close()\n",
    "\n",
    "        ## y_train and train_pred Distributions Histogram:\n",
    "        fig, ax = plt.subplots(figsize=(30,10))\n",
    "        plt.hist( groundtruth,bins=1000, color='green', alpha=0.9, histtype='bar', rwidth=0.8, label='GroundTruth')\n",
    "        plt.hist( prediction,bins=1000, color='red', alpha=0.3, ec='r', label='Prediction')\n",
    "        ax.set_title(f'Distribution of GroundTruth (skew: {stats.skew(groundtruth)} , kurt:{stats.kurtosis(groundtruth)}) and Prediction (skew: {stats.skew(prediction)} , kurt:{stats.kurtosis(prediction)}) on {set_name} set')\n",
    "        ax.set_xlabel(f' GroundTruth and Prediction on {set_name} set')\n",
    "        ax.set_ylabel('frequency')\n",
    "        plt.legend(loc=\"upper left\")\n",
    "        plt.show()\n",
    "        plt.close()\n",
    "\n",
    "        ####### scatter plot of True rvol. Values Plot Vs. Train Residuals\n",
    "        fig, ax = plt.subplots(figsize=(30,10))\n",
    "        ax.scatter(groundtruth, residuals, c='c',alpha=0.1 )\n",
    "        ax.axhline(y=0, color='g', linestyle='-')\n",
    "        #ax.axhline(y=np.mean(groundtruth), color='r', linestyle='-')\n",
    "        ax.set_title(f' True R.V. Vs. Residuals Values Plot on {set_name} set')\n",
    "        ax.set_xlabel(f'True {set_name} Values')\n",
    "        ax.set_ylabel(f'{set_name} residuals')\n",
    "        plt.show()\n",
    "        plt.close()\n",
    "\n",
    "\n",
    "        ####### scatter plot of Fitted rvol. Values Vs. train residuals Plot:\n",
    "        fig, ax = plt.subplots(figsize=(30,10))\n",
    "        ax.scatter(prediction, residuals, c='m',alpha=0.1 )\n",
    "        ax.axhline(y=0, color='g', linestyle='-')\n",
    "        #ax.axhline(y=np.mean(groundtruth), color='r', linestyle='-')\n",
    "        ax.set_title(f' fitted R.V. Vs. Residuals Values Plot on {set_name} set')\n",
    "        ax.set_xlabel(f'fitted {set_name} Values')\n",
    "        ax.set_ylabel(f'{set_name} residuals')\n",
    "        plt.show()\n",
    "        plt.close()\n",
    "\n",
    "        ## Normal Q-Q Plot:\n",
    "        fig, ax = plt.subplots(figsize=(30,10))\n",
    "        sm.qqplot(residuals, line='q', ax=ax)\n",
    "        ax.set_title(f'QQ Plot of Residuals on {set_name} set')\n",
    "        ax.set_xlabel('Theoretical Quantiles')\n",
    "        ax.set_ylabel('Sample Quantiles')\n",
    "        plt.show()\n",
    "        plt.close()\n",
    "\n",
    "        ## Residuals Distribution Histogram:\n",
    "        fig, ax = plt.subplots(figsize=(30,10))\n",
    "        plt.hist( residuals,bins=1000)\n",
    "        ax.set_title(f'Distribution of Residuals on {set_name} set')\n",
    "        ax.set_xlabel(f'{set_name} Residuals')\n",
    "        ax.set_ylabel('frequency')\n",
    "        plt.show()\n",
    "        plt.close()\n",
    "\n",
    "        del all_stock_pred_df,all_stock_y_GroundTruth_df,residuals,all_stock_y_GroundTruth_pivot,all_stock_pred_pivot,groundtruth,prediction\n",
    "        gc.collect()\n",
    "        return pd.DataFrame({f'{set_name}_rmspe_per_stock':rmspe_per_stock}, index=unique_stock_ids)\n",
    "\n",
    "\n",
    "\n",
    "\n",
    "    def individual_stock_id_analysis(self,picked_stock_id,unique_stock_ids,all_stock_y_GroundTruth_df,all_stock_pred_df,residuals,avg_target_rvol,train_flag):\n",
    "\n",
    "        if train_flag:\n",
    "            set_name = 'train'\n",
    "        else:\n",
    "            set_name = 'test'\n",
    "\n",
    "        all_stock_pred_pivot = all_stock_pred_df.pivot(index='time_id', columns='stock_id', values='target')\n",
    "        if train_flag:\n",
    "            all_stock_pred_pivot = all_stock_pred_pivot.reindex(self.time_id_order)\n",
    "\n",
    "        all_stock_y_GroundTruth_pivot = all_stock_y_GroundTruth_df.pivot(index='time_id', columns='stock_id', values='target')\n",
    "        if train_flag:\n",
    "            all_stock_y_GroundTruth_pivot = all_stock_y_GroundTruth_pivot.reindex(self.time_id_order)\n",
    "\n",
    "        groundtruth = all_stock_y_GroundTruth_pivot[picked_stock_id].values\n",
    "        prediction = all_stock_pred_pivot[picked_stock_id].values\n",
    "        picked_st_residuals = groundtruth - prediction\n",
    "\n",
    "        ## 1. scatter plot\n",
    "        plt.figure(figsize=(10,10))\n",
    "        plt.scatter(all_stock_y_GroundTruth_pivot[picked_stock_id],all_stock_pred_pivot[picked_stock_id], c='blue',label=picked_stock_id, alpha=0.4)\n",
    "        plt.plot(all_stock_y_GroundTruth_pivot[picked_stock_id],all_stock_y_GroundTruth_pivot[picked_stock_id],linestyle='solid', c='red',label=picked_stock_id, alpha=1 )\n",
    "        plt.grid()\n",
    "        plt.xlabel(f'GroundTruth')\n",
    "        plt.ylabel(f'Prediction')\n",
    "        plt.legend()\n",
    "        plt.title(f\"stock {picked_stock_id}'s scatter plot of y_{set_name} vs. {set_name}_pred on {set_name} set\")\n",
    "        plt.show()\n",
    "        plt.close()\n",
    "\n",
    "        ## 2. Line plot of true vs average real. vol.\n",
    "        fraction_above_avg = self.fraction_above_average(all_stock_y_GroundTruth_pivot[picked_stock_id], avg_target_rvol)\n",
    "        plt.figure(figsize=(30,5))\n",
    "        plt.text(1,all_stock_y_GroundTruth_pivot[picked_stock_id].max(),f\"fraction of times this stock's values are above all stocks' avg_target_rvol = {fraction_above_avg}\")\n",
    "        plt.plot(range(len(all_stock_y_GroundTruth_pivot[picked_stock_id])),all_stock_y_GroundTruth_pivot[picked_stock_id],linestyle='solid', c='green',label='True stock id: '+str(picked_stock_id), alpha=0.4 )\n",
    "        #plt.plot(range(len(all_stock_y_GroundTruth_pivot[picked_stock_id])),[avg_target_rvol]*len(all_stock_y_GroundTruth_pivot[picked_stock_id]),linestyle='solid', c='blue',label=f'{set_name}_avg_target_rvol', alpha=0.4 )\n",
    "        plt.plot(range(len(avg_target_rvol)),avg_target_rvol,linestyle='solid', c='blue',label=f'{set_name}_avg_target_rvol', alpha=0.4 )\n",
    "        plt.grid()\n",
    "        plt.xlabel('index')\n",
    "        plt.ylabel('train rvol.')\n",
    "        plt.legend()\n",
    "        plt.title(f\"stock {picked_stock_id}'s line plot of True y_{set_name} vs. {set_name}_avg_target_rvol on {set_name} set\")\n",
    "        plt.show()\n",
    "        plt.close()\n",
    "\n",
    "        # ## 3. Line plot of pred vs true real. vol.\n",
    "        # plt.figure(figsize=(30,5))\n",
    "        # plt.plot(range(len(all_stock_y_GroundTruth_pivot[picked_stock_id])),all_stock_y_GroundTruth_pivot[picked_stock_id],linestyle='solid', c='green',label='True stock id: '+str(picked_stock_id), alpha=0.7 )\n",
    "        # plt.plot(range(len(all_stock_pred_pivot[picked_stock_id])),all_stock_pred_pivot[picked_stock_id],linestyle='solid', c='red',label='Pred stock id: '+str(picked_stock_id), alpha=0.4 )\n",
    "        # plt.grid()\n",
    "        # plt.xlabel('index')\n",
    "        # plt.ylabel(f'{set_name} rvol.')\n",
    "        # plt.legend()\n",
    "        # plt.title(f\"stock {picked_stock_id}'s line plot of True y_{set_name} vs {set_name}_pred on {set_name} set\")\n",
    "        # plt.show()\n",
    "        # plt.close()\n",
    "\n",
    "        ## y_train and train_pred Distributions Histogram:\n",
    "        fig, ax = plt.subplots(2, 1, figsize=(30, 10))\n",
    "        max_val = max(groundtruth.max(), prediction.max())\n",
    "        ax[0].hist(groundtruth, bins=1000, color='green', alpha=1, histtype='bar', rwidth=0.8, label='GroundTruth')\n",
    "        ax[0].set_xlim(-0.001, max_val)\n",
    "        ax[0].set_title(f\"stock {picked_stock_id}'s Distribution of GroundTruth (skew: {stats.skew(groundtruth)} , kurt:{stats.kurtosis(groundtruth)}) and Prediction (skew: {stats.skew(prediction)} , kurt:{stats.kurtosis(prediction)}) on {set_name} set\")\n",
    "        ax[0].set_xlabel(f' GroundTruth on {set_name} set')\n",
    "        ax[0].set_ylabel('frequency')\n",
    "        ax[1].hist(prediction, bins=1000, color='red', alpha=1, ec='r', label='Prediction')\n",
    "        ax[1].set_xlim(-0.001, max_val)\n",
    "        ax[1].set_xlabel(f' Prediction on {set_name} set')\n",
    "        ax[1].set_ylabel('frequency')\n",
    "        plt.legend(loc=\"upper left\")\n",
    "        plt.show()\n",
    "        plt.close()\n",
    "\n",
    "        ####### scatter plot of True rvol. Values Plot Vs. Train Residuals\n",
    "        fig, ax = plt.subplots(2,1,figsize=(30,10))\n",
    "        max_val = max(groundtruth.max(), prediction.max())\n",
    "        ax[0].scatter(groundtruth, picked_st_residuals, c='c',alpha=0.1 )\n",
    "        ax[0].set_xlim(-0.001, max_val)\n",
    "        ax[0].axhline(y=0, color='g', linestyle='-')\n",
    "        #ax.axhline(y=np.mean(groundtruth), color='r', linestyle='-')\n",
    "        ax[0].set_title(f\"stock {picked_stock_id}'s True R.V. Vs. Residuals Values Plot on {set_name} set\")\n",
    "        ax[0].set_xlabel(f'True {set_name} Values')\n",
    "        ax[0].set_ylabel(f'{set_name} picked_st_residuals')\n",
    "        ax[1].scatter(prediction, picked_st_residuals, c='m',alpha=0.1 )\n",
    "        ax[1].set_xlim(-0.001, max_val)\n",
    "        ax[1].axhline(y=0, color='g', linestyle='-')\n",
    "        ax[1].set_title(f\"stock {picked_stock_id}'s fitted R.V. Vs. Residuals Values Plot on {set_name} set\")\n",
    "        ax[1].set_xlabel(f'fitted {set_name} Values')\n",
    "        ax[1].set_ylabel(f'{set_name} picked_st_residuals')\n",
    "        plt.legend(loc=\"upper left\")\n",
    "        plt.show()\n",
    "        plt.close()\n",
    "\n",
    "        ## Normal Q-Q Plot:\n",
    "        fig, ax = plt.subplots(figsize=(30,10))\n",
    "        sm.qqplot(picked_st_residuals, line='q', ax=ax)\n",
    "        ax.set_title(f\"stock {picked_stock_id}'s QQ Plot of Residuals on {set_name} set\")\n",
    "        ax.set_xlabel('Theoretical Quantiles')\n",
    "        ax.set_ylabel('Sample Quantiles')\n",
    "        plt.show()\n",
    "        plt.close()\n",
    "\n",
    "        ## Residuals Distribution Histogram:\n",
    "        fig, ax = plt.subplots(figsize=(30,10))\n",
    "        plt.hist( picked_st_residuals,bins=1000)\n",
    "        ax.set_title(f\"stock {picked_stock_id}'s Distribution of Residuals on {set_name} set\")\n",
    "        ax.set_xlabel(f'{set_name} Residuals')\n",
    "        ax.set_ylabel('frequency')\n",
    "        plt.show()\n",
    "        plt.close()\n",
    "\n",
    "        ## box plot of residuals, groundtruth and prediction\n",
    "        fig, ax = plt.subplots(figsize=(5,5))\n",
    "        ax.boxplot([picked_st_residuals,groundtruth,prediction],labels=['residuals','groundtruth','prediction'])\n",
    "        ax.set_title(f\" stock {picked_stock_id}'s Box Plot of Residuals, GroundTruth and Prediction on {set_name} set\")\n",
    "        ax.set_ylabel('value')\n",
    "        #ax.set_yticks(np.arange(-0.01, 0.025, 0.001))\n",
    "        ax.grid()\n",
    "        plt.show()\n",
    "        plt.close()\n",
    "\n",
    "        # ###### Autocorrelation Plot\n",
    "        # fig, ax = plt.subplots(figsize=(10,3))\n",
    "        # plot_acf(residuals, lags=20, ax=ax)  # You can adjust the number of lags as needed\n",
    "        # ax.set_xlabel('Lag')\n",
    "        # ax.set_ylabel('Autocorrelation')\n",
    "        # ax.set_yticks(np.arange(-1, 1, 0.1))\n",
    "        # ax.grid()\n",
    "        # ax.set_title(f'Autocorrelation of {set_name} Residuals')\n",
    "        # fig.show()\n",
    "\n",
    "        # ###### Partial Autocorrelation Plot\n",
    "        # fig, ax = plt.subplots(figsize=(10,3))\n",
    "        # plot_pacf(residuals, lags=20, ax=ax)  # You can adjust the number of lags as needed\n",
    "        # ax.set_xlabel('Lag')\n",
    "        # ax.set_ylabel('Partial Autocorrelation')\n",
    "        # ax.set_yticks(np.arange(-1, 1, 0.1))\n",
    "        # ax.grid()\n",
    "        # plt.title(f'Partial Autocorrelation of {set_name} Residuals')\n",
    "        # plt.show()\n",
    "\n",
    "        ##### Autocorrelation and Partial Autocorrelation Plot EVERY individual stock\n",
    "        #self.compute_acf_pacf(unique_stock_ids,all_stock_pred_df,all_stock_y_GroundTruth_df)\n",
    "\n",
    "\n",
    "        # #### FAST FOURIER TRANSFORM plot of EVERY individual stock\n",
    "        # #### IFFT plot of reconstructed time series ######\n",
    "        # self.compute_IFFT(unique_stock_ids,all_stock_train_pred_df,all_stock_y_train_df)\n",
    "\n",
    "        del picked_stock_id,unique_stock_ids,all_stock_y_GroundTruth_df,all_stock_pred_df,residuals\n",
    "        gc.collect()\n",
    "        return groundtruth\n",
    "\n",
    "\n",
    "\n",
    "    def overall_time_id_analysis(self, all_stock_y_GroundTruth_df,all_stock_pred_df,avg_target_rvol,train_flag):\n",
    "\n",
    "        # Precompute variables\n",
    "        set_name = 'train' if train_flag else 'test'\n",
    "\n",
    "        # Pivot with 'stock_id' as index and 'time_id' as columns\n",
    "        if train_flag:\n",
    "            all_stock_pred_pivot = all_stock_pred_df.pivot(index='stock_id', columns='time_id', values='target').reindex(columns=self.time_id_order)\n",
    "            all_stock_y_GroundTruth_pivot = all_stock_y_GroundTruth_df.pivot(index='stock_id', columns='time_id', values='target').reindex(columns=self.time_id_order)\n",
    "        else:\n",
    "            all_stock_pred_pivot = all_stock_pred_df.pivot(index='stock_id', columns='time_id', values='target')\n",
    "            all_stock_y_GroundTruth_pivot = all_stock_y_GroundTruth_df.pivot(index='stock_id', columns='time_id', values='target')\n",
    "\n",
    "        unique_time_ids = all_stock_y_GroundTruth_pivot.columns.values\n",
    "        # Vectorized RMSPE calculation along the 'stock_id' axis\n",
    "        rmspe_per_time_id = np.sqrt(\n",
    "            np.mean(\n",
    "                ((all_stock_pred_pivot - all_stock_y_GroundTruth_pivot) / all_stock_y_GroundTruth_pivot) ** 2, axis=0\n",
    "            )\n",
    "        )\n",
    "\n",
    "        # print('all_stock_pred_pivot.index',all_stock_pred_pivot)\n",
    "        # display_n_time_ids = 10\n",
    "        # sorted_rmspe_per_time_id = rmspe_per_time_id.sort_values(ascending=False).head(display_n_time_ids)\n",
    "        # for t in sorted_rmspe_per_time_id.index:\n",
    "        #     plt.figure(figsize=(30,5))\n",
    "        #     plt.plot(all_stock_pred_pivot.index,all_stock_pred_pivot[t],linestyle='solid', c='red',label='pred', alpha=0.4 )\n",
    "        #     plt.plot(all_stock_pred_pivot.index,all_stock_y_GroundTruth_pivot[t],linestyle='solid', c='green',label='true', alpha=0.4 )\n",
    "        #     plt.title(f'time index {t}, rmspe {np.sqrt(np.mean(((all_stock_pred_pivot[t]-all_stock_y_GroundTruth_pivot[t])/all_stock_y_GroundTruth_pivot[t])**2))}')\n",
    "        #     plt.xticks(all_stock_pred_pivot.index,rotation=90)\n",
    "        #     plt.grid()\n",
    "        #     plt.show()\n",
    "        #     plt.close()\n",
    "\n",
    "        # plot the RMSPE for all time ids\n",
    "        display_n_time_ids = 200\n",
    "        sorted_rmspe_per_time_id = rmspe_per_time_id.sort_values(ascending=False).head(display_n_time_ids)\n",
    "        fig, ax = plt.subplots(figsize=(40, 10))\n",
    "        ax.bar(range(len(sorted_rmspe_per_time_id)), sorted_rmspe_per_time_id, tick_label=sorted_rmspe_per_time_id.index)\n",
    "        ax.set_xticks(range(len(sorted_rmspe_per_time_id)))\n",
    "        ax.tick_params(axis='x', rotation=90)\n",
    "        ax.set_yticks(np.arange(0, max(sorted_rmspe_per_time_id) + 0.01, 0.04))\n",
    "        ax.grid()\n",
    "        ax.set_title(f'RMSPE of Real. Vol. for each time id on {set_name} set')\n",
    "        ax.set_xlabel('Time ID')\n",
    "        plt.show()\n",
    "        plt.close()\n",
    "\n",
    "        all_time_id_rmspe = rmspe_per_time_id\n",
    "\n",
    "        fig, ax = plt.subplots(figsize=(40, 10))\n",
    "        largest_20_rmspe_time_ids = all_time_id_rmspe.nlargest(20).index.values\n",
    "        # Precompute the maximum RMSPE value for the largest 20 time IDs\n",
    "        max_large_val = all_time_id_rmspe.loc[largest_20_rmspe_time_ids].max()\n",
    "        # Create the second bar plot for the largest 20 RMSPE time IDs\n",
    "        ax.text(5, max_large_val + 0.001, f'20 largest RMSPE time ids: {largest_20_rmspe_time_ids}', fontsize=12)\n",
    "        # Convert time ids to string once and plot the data\n",
    "        ax.bar(largest_20_rmspe_time_ids.astype(str), all_time_id_rmspe.loc[largest_20_rmspe_time_ids])\n",
    "        # Set y-ticks efficiently, using the precomputed max value\n",
    "        ax.set_yticks(np.arange(0, max_large_val + 0.001, 0.08))\n",
    "        ax.set_ylabel('RMSPE')\n",
    "        ax.set_title(f'20 largest RMSPE time ids on {set_name} set')\n",
    "        ax.grid()\n",
    "        plt.show()\n",
    "        plt.close()\n",
    "\n",
    "\n",
    "        all_time_id_rmspe = rmspe_per_time_id\n",
    "        # Use `nsmallest` and `nlargest` to directly get the top 10 smallest and largest RMSPE values without full sorting\n",
    "        smallest_10_rmspe_time_ids = all_time_id_rmspe.nsmallest(10).index.values\n",
    "        # Precompute max value for y-ticks range in a single operation\n",
    "        max_small_val = all_time_id_rmspe.loc[smallest_10_rmspe_time_ids].max()\n",
    "        # Create the bar plot for RMSPE with precomputed values\n",
    "        fig, ax = plt.subplots(figsize=(40, 10))\n",
    "        # Set text once, and avoid converting indices to strings multiple times\n",
    "        ax.text(5, max_small_val + 0.001, f'10 smallest RMSPE time ids: {smallest_10_rmspe_time_ids}', fontsize=12)\n",
    "        # Convert time ids to string once and avoid recalculating max_small_val in yticks\n",
    "        ax.bar(smallest_10_rmspe_time_ids.astype(str), all_time_id_rmspe.loc[smallest_10_rmspe_time_ids])\n",
    "        # Set y-ticks with precomputed values (adjusting the range once)\n",
    "        ax.set_yticks(np.arange(0, max_small_val + 0.001, 0.04))\n",
    "        ax.set_ylabel('RMSPE')\n",
    "        ax.set_title(f'10 smallest RMSPE time ids on {set_name} set')\n",
    "        ax.grid()\n",
    "        plt.show()\n",
    "        plt.close()\n",
    "\n",
    "\n",
    "        ###### visualize the time ids with largest and smallest RMSPE on the average rvol. plot on training set\n",
    "        plt.figure(figsize=(30,5))\n",
    "        plt.plot(range(len(avg_target_rvol)),avg_target_rvol,linestyle='solid', c='blue',label=f'{set_name}_avg_target_rvol', alpha=0.4 )\n",
    "        large_idx = np.where(np.isin(unique_time_ids,largest_20_rmspe_time_ids))[0]\n",
    "        red_colors = colors = ['black', 'maroon', 'darkred', 'firebrick', 'crimson', 'indianred', \\\n",
    "          'tomato', 'lightcoral', 'salmon', 'hotpink', 'palevioletred', \\\n",
    "          'mediumvioletred', 'orchid', 'fuchsia', 'magenta', 'violet', \\\n",
    "          'plum', 'mediumorchid', 'lavender', 'thistle']\n",
    "        for i,s in enumerate(large_idx):\n",
    "            plt.axvline(x=s, ymin=0, ymax=1,color=red_colors[i],linestyle='-',label=str(i))\n",
    "        small_idx = np.where(np.isin(unique_time_ids,smallest_10_rmspe_time_ids))[0]\n",
    "        green_colors = ['gold', 'yellow', 'lightyellow', 'khaki', 'greenyellow', \\\n",
    "                'chartreuse', 'lime', 'lawngreen', 'darkgreen', 'forestgreen', \\\n",
    "                'seagreen', 'mediumseagreen', 'springgreen', 'aquamarine', \\\n",
    "                'turquoise', 'lightgreen', 'mediumspringgreen', 'cyan', 'skyblue', 'deepskyblue']\n",
    "        for j,l in enumerate(small_idx):\n",
    "            plt.axvline(x=l, ymin=0, ymax=1,color=green_colors[j],linestyle='-',label=str(j))\n",
    "        plt.grid()\n",
    "        plt.yticks(np.arange(0, 0.04, 0.01))\n",
    "        plt.xlabel('sequential time id index')\n",
    "        plt.ylabel(f'{set_name} rvol.')\n",
    "        plt.title(f'Average {set_name} rvol. Darker reddish lines for 20 largest RMSPE time ids and greenish lines for 10 smallest RMSPE time ids')\n",
    "        plt.legend()\n",
    "        plt.show()\n",
    "\n",
    "        del all_stock_y_GroundTruth_df,all_stock_pred_df,avg_target_rvol\n",
    "        gc.collect()\n",
    "        return all_stock_y_GroundTruth_pivot[largest_20_rmspe_time_ids],  all_stock_pred_pivot[largest_20_rmspe_time_ids]\n",
    "\n",
    "\n",
    "\n",
    "    def compute_model_bias_variance(self,y_test,y_train,X_train,best_mlxtend_xgb_params):\n",
    "\n",
    "        ## model bias and variance measurement\n",
    "        # estimate bias and variance\n",
    "        #train_time_ids = self.time_id_order[:self.train_time_id_ind]\n",
    "        train_time_ids = self.time_id_order #[:self.train_time_id_ind]\n",
    "\n",
    "        #full_train_df = self.df[self.df['time_id'].isin(train_time_ids)]\n",
    "\n",
    "        #X_train = full_train_df[self.feat_cols_list]\n",
    "        X_train = X_train[self.feat_cols_list]\n",
    "        #y_train = full_train_df[self.target_name] #target\n",
    "        y_train = y_train[self.target_name]\n",
    "        #train_weight = y_train['target']\n",
    "        X_test = self.test_df[self.feat_cols_list]\n",
    "        #y_test = self.test_df[self.target_name] #target\n",
    "\n",
    "\n",
    "        # Assuming best_mlxtend_xgb_params contains the hyperparameters\n",
    "        max_depth, eta, subsample, colsample_bytree, gamma, reg_alpha, reg_lambda, min_child_weight, num_rounds = best_mlxtend_xgb_params\n",
    "\n",
    "        # Create XGBRegressor model\n",
    "        xgb_model = XGBRegressor(\n",
    "            max_depth=max_depth,\n",
    "            learning_rate=eta,\n",
    "            subsample=subsample,\n",
    "            colsample_bytree=colsample_bytree,\n",
    "            gamma=gamma,\n",
    "            reg_alpha=reg_alpha,\n",
    "            reg_lambda=reg_lambda,\n",
    "            min_child_weight=min_child_weight,\n",
    "            n_estimators=num_rounds,\n",
    "            objective='reg:squarederror',\n",
    "            tree_method = \"hist\",\n",
    "            device = \"cuda\"\n",
    "        )\n",
    "\n",
    "        #v1tr = np.exp(X_train['log_wap1_log_price_ret_vol']) # double exponential to nullify log\n",
    "        v1tr = np.array([1]*len(self.train_df['log_wap1_log_price_ret_vol'])) # remove\n",
    "        #v1ts = np.exp( self.test_df['log_wap1_log_price_ret_vol']) # double exponential to nullify log\n",
    "        v1ts = np.array([1]*len( self.test_df['log_wap1_log_price_ret_vol'])) # remove\n",
    "\n",
    "        w_train = y_train **-2 * v1tr**2\n",
    "        #w_test = y_test **-2 * v1ts**2\n",
    "\n",
    "        # Train XGBRegressor model\n",
    "        xgb_model.fit(X_train.values, (np.log(y_train.values/v1tr.values) + self.target_shift), sample_weight=w_train)\n",
    "\n",
    "        # Now you can use bias_variance_decomp\n",
    "        mse, bias, var = bias_variance_decomp(xgb_model, X_train.values, (np.log(y_train.values/v1tr.values) + self.target_shift), X_test.values, (np.log(y_test['target'].values/v1ts.values) + self.target_shift), loss='mse', num_rounds=30, random_seed=1)\n",
    "        print('\\nMSE: %.3f' % mse)\n",
    "        print('Bias: %.3f' % bias)\n",
    "        print('Variance: %.3f' % var)\n",
    "\n",
    "        return\n",
    "\n",
    "\n",
    "\n",
    "    ############################################################################################################\n",
    "    \"\"\"  TRAINING and TESTING SET COMPARISON functions START\"\"\"\n",
    "    ############################################################################################################\n",
    "\n",
    "    def train_n_test_set_st_RMSPE_comparison(self,train_rmspe_per_stock,test_rmspe_per_stock):\n",
    "        # Combine train and test RMSPE into a single DataFrame for easier plotting\n",
    "        rmspe_df = pd.DataFrame({\n",
    "            'Stock ID': train_rmspe_per_stock.index,\n",
    "            'Train RMSPE': train_rmspe_per_stock['train_rmspe_per_stock'],\n",
    "            'Test RMSPE': test_rmspe_per_stock['test_rmspe_per_stock']\n",
    "        })\n",
    "        fig = px.line(rmspe_df, x='Stock ID', y=['Train RMSPE', 'Test RMSPE'], \\\n",
    "                      title=f'Train vs Test RMSPE per Stock,\\n Corrrelation between train and test RMSPE: {rmspe_df[\"Train RMSPE\"].corr(rmspe_df[\"Test RMSPE\"])}')\n",
    "        fig.update_layout(xaxis=dict(tickvals=rmspe_df['Stock ID'], tickangle=90), yaxis_title='RMSPE', xaxis_title='Stock ID')\n",
    "        fig.show()\n",
    "        return\n",
    "\n",
    "\n",
    "\n",
    "    def train_n_test_set_picked_st_distribution_comparison(self,train_groundtruth, test_groundtruth , picked_stock_id):\n",
    "\n",
    "        # perform Kolmogorov-Smirnov test\n",
    "        ks_stat, ks_pval = stats.ks_2samp(train_groundtruth, test_groundtruth)\n",
    "        print(f\"Kolmogorov-Smirnov test: KS Statistic: {ks_stat}, P-Value: {ks_pval}\")\n",
    "        # Check if the distributions are the same\n",
    "        alpha = 0.05  # Significance level\n",
    "        if ks_pval < alpha:\n",
    "            print(\"The null hypothesis is rejected. The test set does not come from the same distribution as the train set.\")\n",
    "            ks_test_stats = f\"K-S TEST: Train and Test sets are DIFFERENT\"\n",
    "        else:\n",
    "            print(\"The null hypothesis is accepted. The test set may come from the same distribution as the train set.\")\n",
    "            ks_test_stats = f\"K-S TEST: Train and Test sets are SAME\"\n",
    "\n",
    "        # violin plot train_groundtruth and test_groundtruth on the same plot\n",
    "        fig = go.Figure()\n",
    "        fig.add_trace(go.Violin(x=['Train']*len(train_groundtruth), y=train_groundtruth, name='Train', box_visible=True, meanline_visible=True))\n",
    "        fig.add_trace(go.Violin(x=['Test']*len(test_groundtruth), y=test_groundtruth, name='Test', box_visible=True, meanline_visible=True))\n",
    "        train_stats = f\"Train - Mean: {np.mean(train_groundtruth):.4f}, Median: {np.median(train_groundtruth):.4f}, Std: {np.std(train_groundtruth):.4f}, Skew: {stats.skew(train_groundtruth):.4f}, Kurtosis: {stats.kurtosis(train_groundtruth):.4f}, 75th Percentile: {np.percentile(train_groundtruth, 75):.4f}\"\n",
    "        test_stats = f\"Test - Mean: {np.mean(test_groundtruth):.4f}, Median: {np.median(test_groundtruth):.4f}, Std: {np.std(test_groundtruth):.4f}, Skew: {stats.skew(test_groundtruth):.4f}, Kurtosis: {stats.kurtosis(test_groundtruth):.4f}, 75th Percentile: {np.percentile(test_groundtruth, 75):.4f}\"\n",
    "        fig.update_layout(\n",
    "            title=f\"Stock {picked_stock_id}'s Train vs Test GroundTruth Distribution<br>{train_stats}<br>{test_stats}<br>   {ks_test_stats}\",\n",
    "            yaxis=dict(tickmode='linear', tick0=0, dtick=0.002)  # Increase y tick resolution\n",
    "        )\n",
    "        fig.show()\n",
    "        return\n",
    "\n",
    "\n",
    "\n",
    "    def each_time_id_RMSPE_across_stocks_comparison(self,gt_time_id_df, pred_time_id_df,set_name,y_train_df):\n",
    "\n",
    "        y_train_pivot = y_train_df.pivot(index='time_id', columns='stock_id', values='target')\n",
    "\n",
    "        for time_id in gt_time_id_df.columns.values:\n",
    "            gt_df = pd.DataFrame({'gt':gt_time_id_df[time_id],'pred':pred_time_id_df[time_id]}, index=gt_time_id_df.index)\n",
    "            plt.figure(figsize=(40, 10))\n",
    "            plt.title(f'Time ID {time_id} GroundTruth vs Prediction on {set_name} set')\n",
    "            plt.plot(gt_df.index, gt_df['gt'].values, label='GroundTruth', color='blue')\n",
    "            plt.plot(gt_df.index, gt_df['pred'].values, label='Prediction', color='red')\n",
    "            # ## Add box plot of y_train_pivot for each stock\n",
    "            plt.boxplot([y_train_pivot[stock_id].dropna().values for stock_id in gt_df.index], positions=gt_df.index)\n",
    "            plt.xticks(ticks=gt_df.index, labels=gt_df.index, rotation=90)\n",
    "            plt.yticks(np.arange(0, 0.04, 0.002))\n",
    "            plt.ylim(0, 0.04)\n",
    "            plt.grid()\n",
    "            plt.legend()\n",
    "            plt.xlabel('Stock ID')\n",
    "            plt.ylabel('Real. Vol.')\n",
    "            plt.show()\n",
    "\n",
    "        del gt_time_id_df, pred_time_id_df, y_train_df,y_train_pivot\n",
    "        return\n",
    "\n",
    "\n",
    "    def val_set_n_test_set_representation_plot(self,mean_val_set_rmspe_error, test_set_rmspe_error, train_set_rmspe_error):\n",
    "        ## check if average walk-forward validation set error and test set error are positively correlated.\n",
    "        val_test_corr = np.corrcoef(mean_val_set_rmspe_error,test_set_rmspe_error)[0,1]\n",
    "        fig, ax1 = plt.subplots()\n",
    "        # Original scatter plot\n",
    "        ax1.scatter(test_set_rmspe_error, mean_val_set_rmspe_error, alpha=0.4, color='blue', label='Mean Validation RMSPE')\n",
    "        ax1.set_xlabel('Test Set RMSPE Error')\n",
    "        ax1.set_ylabel('Mean Validation Set RMSPE Error', color='blue')\n",
    "        ax1.tick_params(axis='y', labelcolor='blue')\n",
    "        # Create twin axis\n",
    "        ax2 = ax1.twinx()\n",
    "        # Add train_set_rmspe_error to the twin axis\n",
    "        ax2.scatter(test_set_rmspe_error, train_set_rmspe_error, alpha=0.4, color='red', label='Train RMSPE')\n",
    "        ax2.set_ylabel('Train Set RMSPE Error', color='red')\n",
    "        ax2.tick_params(axis='y', labelcolor='red')\n",
    "        # Add correlation to the title\n",
    "        train_test_corr = np.corrcoef(test_set_rmspe_error, train_set_rmspe_error)[0, 1]\n",
    "        plt.title(f'Test Set RMSPE Error vs. Mean Validation/Train Set RMSPE Error \\n : val_test_corr: {val_test_corr:.3f} \\n train_test_corr {train_test_corr:.3f}')\n",
    "        # Add legend\n",
    "        plt.legend(loc='upper left')\n",
    "        plt.show()\n",
    "\n",
    "        return\n",
    "\n",
    "\n",
    "    ############################################################################################################\n",
    "    \"\"\"  TRAINING and TESTING SET COMPARISON functions END\"\"\"\n",
    "    ############################################################################################################\n",
    "\n",
    "\n",
    "\n",
    "    def evaluate_predictions(self,final_reg,test_pred, y_test,train_pred,y_train,X_train,X_test,v1tr,v1ts,w_train,w_test,best_mlxtend_xgb_params,mean_val_set_rmspe_error):\n",
    "\n",
    "        y_true = y_test\n",
    "        y_pred = test_pred\n",
    "        test_residuals = pd.DataFrame(y_true['target'] - y_pred['target'])\n",
    "        test_residuals[['stock_id','time_id']] = y_true[['stock_id','time_id']]\n",
    "        train_residuals = pd.DataFrame(y_train['target'] - train_pred['target'])\n",
    "        train_residuals[['stock_id','time_id']] = y_train[['stock_id','time_id']]\n",
    "        unique_stock_ids = self.train_stock_id.unique()\n",
    "\n",
    "        #all_stock_train_pred_df = self.compute_all_stock_train_pred_df(unique_stock_ids, train_pred)\n",
    "        all_stock_train_pred_df = train_pred\n",
    "        #all_stock_v1tr_df = self.compute_all_stock_v1tr_df(unique_stock_ids, v1tr)\n",
    "        all_stock_v1tr_df = v1tr\n",
    "        #all_stock_y_train_df = self.compute_all_stock_y_train_df(unique_stock_ids, y_train)\n",
    "        all_stock_y_train_df = y_train\n",
    "        #train_avg_target_rvol = self.compute_train_avg_target_rvol(unique_stock_ids, y_train)\n",
    "        train_avg_target_rvol = y_train.groupby('time_id')['target'].mean().reindex(self.time_id_order)\n",
    "        test_avg_target_rvol = y_test.groupby('time_id')['target'].mean() #.reindex(self.time_id_order)\n",
    "        # train_avg_target_rvol = y_train.groupby('time_id')['target'].median().reindex(self.time_id_order) ## median\n",
    "        # test_avg_target_rvol = y_test.groupby('time_id')['target'].median() #.reindex(self.time_id_order) ## median\n",
    "\n",
    "        #all_stock_test_pred_df = self.compute_all_stock_test_pred_df( unique_stock_ids, test_pred)\n",
    "        all_stock_test_pred_df = test_pred\n",
    "        #all_stock_y_test_df = self.compute_all_stock_y_test_df( unique_stock_ids, y_test)\n",
    "        all_stock_y_test_df = y_test\n",
    "        all_stock_v1ts_df = v1ts\n",
    "\n",
    "        train_set_rmspe_error = [0.190656,0.190647,0.195972,0.192530]\n",
    "        test_set_rmspe_error = [0.230367,0.227526,0.232057,0.266616]\n",
    "\n",
    "        print('\\n####################################### PREDICTION #################################################')\n",
    "\n",
    "        #v1ts = np.exp(np.exp( self.test_df['log_wap1_log_price_ret_vol'])) # double exponential to nullify log\n",
    "        #v1ts = np.exp( self.test_df['log_wap1_log_price_ret_vol']) # double exponential to nullify log\n",
    "        print('corr(y_pred/v1ts, y_true/v1ts)',self.nancorr(       y_pred['target'].values/v1ts['wap1_log_price_ret_vol'] ,        y_true['target'].values/v1ts['wap1_log_price_ret_vol'] ))\n",
    "        print('log(corr( ))',self.nancorr(np.log(y_pred['target'].values/v1ts['wap1_log_price_ret_vol']), np.log(y_true['target'].values/v1ts['wap1_log_price_ret_vol'])))\n",
    "        print('corr(y_pred, y_true)',self.nancorr(y_pred['target'].values, y_true['target'].values))\n",
    "        print('log(corr( ))',self.nancorr(np.log(y_pred['target'].values), np.log(y_true['target'].values)))\n",
    "        train_score = np.mean( ((train_pred['target'].values-y_train['target'].values)/y_train['target'].values)**2 )**0.5\n",
    "        print(f'RMSPE train score: ',  train_score)\n",
    "        train_set_rmspe_error.append(train_score)\n",
    "        test_score = np.mean( ((y_pred['target'].values-y_true['target'].values)/y_true['target'].values)**2 )**0.5\n",
    "        print(f'RMSPE test score: ',  test_score  )\n",
    "        test_set_rmspe_error.append(test_score)\n",
    "\n",
    "        ############################ SET PARAMETERS HERE ##############################\n",
    "        ##### individual stock id analysis parameters START #####\n",
    "        high_rmspe_stocks = ['31','37', '18','33', '112', '88','60','110','27', '9','16','30',  '103',  '5', '58', '89', '66', '40',  '0', '4', '75',  '90', '98']\n",
    "        start_index = 9\n",
    "        end_index = 10\n",
    "        good_pdp_feature_name = ['tlog_target_vol_pcorr_3_clusters', 'v1proj_29', 'vol1_mean', 'wap1_log_price_ret_volstock_mean_from_25'][3]\n",
    "        bad_up_pdp_feature_name = ['wap1_log_price_ret_volstock_mean_from_10',\n",
    "                                'v1spprojt10f29','pear_corr_90_clusters_labels',\\\n",
    "                                'robust_sum_stats_60_clusters_labels','pear_corr_3_clusters_labels',\\\n",
    "                                'tlog_tlog1p_target_vol_robust_sum_stats_2_clusters',][2]\n",
    "        bad_op_pdp_feature_name = ['root_book_delta_count',\\\n",
    "                                'soft_stock_mean_tvpl2_:10','soft_stock_mean_tvpl2_:20' ,\\\n",
    "                                'root_trade_count_smean'][0]\n",
    "        decision_plot_feature_names = ['wap1_log_price_ret_volstock_mean_from_25', 'v1spprojt15f25', 'v1spprojt15f25_q1', 'soft_stock_mean_tvpl2_:20', 'tlog_target_vol_pcorr_3_clusters', 'pear_corr_90_clusters_labels', 'root_trade_count_smean', 'robust_sum_stats_60_clusters_labels', 'tlog_wap1_lprice_ret_vol_ati_*_wap1_lprice_ret_vol_ast_per_wap1_lprice_ret_vol_:20', 'v1proj_29_15_q3', 'log_liq2_ret_*_wap_eqi_price1_ret_vol_15_ratio_median_stock', 'wap1_log_price_ret_volstock_mean_from_20', 'tlog_wap1_lprice_ret_vol_ati_*_wap1_lprice_ret_avg_ast_per_wap1_lprice_ret_vol_:0', 'vol1_mean', 'texp_wap1_log_price_ret_vol_from_20', 'v1spprojt15f29_q3', 'liqvol1_smean', 'soft_stock_mean_tvpl2_liqf_volf20', 'tvpl2', 'v1proj_29_q3', 'v1spprojt15f29', 'tvpl2_rmed2v1', 'tlog_eps523_trade_price_n_wap_eqi_price0_dev', 'root_trade_count', 'tvpl2_smean_vol', 'tlog_wap1_lprice_ret_vol_ati_*_wap1_lprice_ret_avg_ast_per_wap1_lprice_ret_vol_:10', 'v1liq2sprojt5f25', 'wap1_log_price_ret_vol_from_25', 'tlog_target_vol_pcorr_10_clusters', 'v1proj_25_15_std', 'v1proj_29', 'tlog_wap1_log_price_ret_normalized*mean_centered_per_wap1_lprice_ret_vol_:20', 'tlog_tlog1p_target_vol_robust_sum_stats_2_clusters', 'pear_corr_3_clusters_labels', 'tlog_wap1_lprice_ret_vol_ati_*_wap1_lprice_ret_avg_ast_per_wap1_lprice_ret_vol_:20', 'v1liq2sprojt10f25', 'root_book_delta_count', 'wap1_log_price_ret_volstock_mean_from_10', 'wap1_log_price_ret_per_spread_sqr_vol_15_ratio_median_stock', 'pear_corr_10_clusters_labels', 'wap1_log_price_ret_volstock_mean_from_0', 'texp_wap1_log_price_ret_vol_from_10', 'v1spprojt10f29', 'wap1_log_price_ret_per_liq2_vol_15_ratio', 'log_wap1_log_price_ret_vol', 'v1proj_25', 'v1proj_25_std', 'tvpl2_rmed2v1lf25', 'tlog_tlog1p_target_vol_robust_sum_stats_4_clusters', 'tlog_eps523_trade_price_n_wap1_dev']\n",
    "        ##### individual stock id analysis parameters END #####\n",
    "\n",
    "        ############################ SET PARAMETERS HERE ##############################\n",
    "\n",
    "        \"\"\" TRAINING SET PREDICTIONS START \"\"\"\n",
    "\n",
    "        ###################################################################################################################\n",
    "        ############################################ TRAINING SET #########################################################\n",
    "        print('\\n########################################################################################################################')\n",
    "        print('\\n####################################### TRAINING SET predictions START #################################################')\n",
    "        print('\\n########################################################################################################################')\n",
    "        ###################################################################################################################\n",
    "\n",
    "        ################################################################################################\n",
    "        ############################## OVERALL STOCK ANALYSIS START ######################################\n",
    "        print('\\n####################################### OVERALL STOCK ANALYSIS START ######################################')\n",
    "        # train_rmspe_per_stock = self.overall_stock_id_analysis(unique_stock_ids,all_stock_train_pred_df,all_stock_y_train_df,train_residuals,train_flag=True)\n",
    "        print('\\n####################################### OVERALL STOCK ANALYSIS END ######################################')\n",
    "        ############################## OVERALL STOCK ANALYSIS END ######################################\n",
    "        ################################################################################################\n",
    "\n",
    "\n",
    "        ################################################################################################\n",
    "        ############################## INDIVIDUAL STOCK ANALYSIS START #################################\n",
    "        print('\\n############################## INDIVIDUAL STOCK ANALYSIS START #################################')\n",
    "        #### Analyze Single/ INDIVIDUAL stocks with high RMSPE in train set\n",
    "        # for picked_stock_id in high_rmspe_stocks[start_index:end_index]:\n",
    "        #     train_groundtruth = self.individual_stock_id_analysis(int(picked_stock_id),unique_stock_ids,all_stock_y_train_df,all_stock_train_pred_df,train_residuals,train_avg_target_rvol,train_flag=True)\n",
    "        print('\\n############################## INDIVIDUAL STOCK ANALYSIS END #################################')\n",
    "        ############################## INDIVIDUAL STOCK ANALYSIS END #################################\n",
    "        ################################################################################################\n",
    "\n",
    "\n",
    "\n",
    "\n",
    "        ################################################################################################\n",
    "        ############################## OVERALL TIME ID ANALYSIS START ##################################\n",
    "        ################################################################################################\n",
    "        print('\\n############################## OVERALL TIME ANALYSIS START #################################')\n",
    "        #train_gt_time_id_df, train_pred_time_id_df = self.overall_time_id_analysis(all_stock_y_train_df,all_stock_train_pred_df,train_avg_target_rvol, train_flag=True)\n",
    "        print('\\n############################## OVERALL TIME ANALYSIS END #################################')\n",
    "        ################################################################################################\n",
    "        ############################## OVERALL TIME ID ANALYSIS END #################################\n",
    "        ################################################################################################\n",
    "\n",
    "\n",
    "\n",
    "\n",
    "        ###################################################################################################################\n",
    "        ###################################### Feature importance & SHAPLEY START #########################################\n",
    "        ###################################################################################################################\n",
    "        print('\\n###################################### Feature importance & SHAPLEY START #########################################')\n",
    "        print('\\n#---------------------------------------------compute_global_SHAP_values----------------------------------------------------------------#')\n",
    "        #train_shap_values_all = self.compute_global_SHAP_values(final_reg,X_train,y_train,train_pred,v1tr,set_name='train')\n",
    "        #os.chdir('/home/optimusprime/Desktop/peeterson/optiver/Optiver-Realized-Volatility-Prediction/data/Final_submission_data/Final_submission_data/shapley_values')\n",
    "        #os.chdir('/content/drive/MyDrive/optiver_real_vol/Final Submission/kaggle_submission_versions')\n",
    "        #with open('train_shap_values_all_log_target_after_jager_transform_improv_shap_interact.pkl', 'wb') as file:\n",
    "        #    pickle.dump(train_shap_values_all, file)\n",
    "        print('\\n#-----------------------------------------------------------------------------------------------------------------#')\n",
    "\n",
    "        print('\\n#---------------------------------------------analyze_global_SHAP_values----------------------------------------------------------------#')\n",
    "        #os.chdir('/home/optimusprime/Desktop/peeterson/optiver/Optiver-Realized-Volatility-Prediction/data/Final_submission_data/Final_submission_data/shapley_values')\n",
    "        # os.chdir('/content/drive/MyDrive/optiver_real_vol/Final Submission/kaggle_submission_versions')\n",
    "        # with open('train_shap_values_all_log_target_after_jager_transform_improv.pkl', 'rb') as file:\n",
    "        #     train_shap_values_all = pickle.load( file)\n",
    "        #self.analyze_global_SHAP_values(train_shap_values_all,all_stock_y_train_df,all_stock_train_pred_df,set_name='train')\n",
    "        #top_n_feats = 50\n",
    "        #self.compute_shapley_barplot(train_shap_values_all,top_n_feats,X_train,y_train['target'],stock_id=None,view_time_ids_start=None,view_time_ids_end=None,set_name='train')\n",
    "        #self.compute_shapley_PDP_n_Scatter(bad_op_pdp_feature_name,train_shap_values_all,all_stock_y_train_df,all_stock_train_pred_df,stock_id=None,view_time_ids_start=None,view_time_ids_end=None,set_name='train')\n",
    "        #self.compute_shapley_decision(train_shap_values_all.base_values,train_shap_values_all,decision_plot_feature_names,stock_id=None,view_time_ids_start=None,view_time_ids_end=None,set_name='train')\n",
    "        print('\\n#-----------------------------------------------------------------------------------------------------------------#')\n",
    "\n",
    "        print('\\n#---------------------------------------------compute_individual_stock_SHAP_values----------------------------------------------------------------#')\n",
    "        feature_name = \"log_first_10_min_vol_stnd\" ## see impact of a feature in more detail\n",
    "        stock_id = 0\n",
    "        view_time_ids_start = 0\n",
    "        view_time_ids_end = 500\n",
    "        #self.compute_individual_stock_SHAP_values(final_reg,X_train,all_stock_train_pred_df,all_stock_v1tr_df,all_stock_y_train_df,feature_name,stock_id,view_time_ids_start,view_time_ids_end)\n",
    "        print('\\n#-----------------------------------------------------------------------------------------------------------------#')\n",
    "\n",
    "        print('\\n#---------------------------------------------compute_individual_instance_SHAP_values----------------------------------------------------------------#')\n",
    "        #ovearll_error_idxs, up_error_idxs, op_error_idxs = self.identiy_largest_overall_n_under_n_over_prediction_errors(all_stock_y_train_df,all_stock_train_pred_df,set_name='train')\n",
    "        #self.shapley_analysis_of_large_error_instances(ovearll_error_idxs, up_error_idxs, op_error_idxs,train_shap_values_all,set_name='train')\n",
    "        print('\\n#-----------------------------------------------------------------------------------------------------------------#')\n",
    "        print('\\n###################################### Feature importance & SHAPLEY END #########################################')\n",
    "        ###################################################################################################################\n",
    "        ###################################### Feature importance & SHAPLEY END ###########################################\n",
    "        ###################################################################################################################\n",
    "\n",
    "\n",
    "\n",
    "\n",
    "\n",
    "        ###################################################################################################################\n",
    "        ###################################### MODEL BIAS VARINANCE START ################################################\n",
    "        ###################################################################################################################\n",
    "\n",
    "         #### Plot top 30 feature importances\n",
    "        # fig, ax = plt.subplots(figsize=(10, 10))\n",
    "        # xgb.plot_importance(final_reg, importance_type='gain', max_num_features=30, height=0.8, show_values=False)\n",
    "        # self.compute_model_bias_variance(y_test,y_train,X_train,best_mlxtend_xgb_params)\n",
    "\n",
    "\n",
    "        ###################################################################################################################\n",
    "        ###################################### MODEL BIAS VARINANCE END #################################################\n",
    "        ##################################################################################################################\n",
    "\n",
    "        ###################################################################################################################\n",
    "        ############################################ TRAINING SET PREDICTIONS END ##########################################\n",
    "        ###################################################################################################################\n",
    "        print('\\n####################################### TRAINING SET predictions END #################################################\\n')\n",
    "        print('\\n######################################################################################################################\\n')\n",
    "\n",
    "\n",
    "\n",
    "        \"\"\" TESTING SET PREDICTIONS START \"\"\"\n",
    "\n",
    "        ###################################################################################################################\n",
    "        ############################################ TESTING SET PREDICTIONS START ########################################\n",
    "        print('\\n#######################################################################################################################')\n",
    "        print('\\n####################################### TESTING SET predictions START #################################################')\n",
    "        print('\\n#######################################################################################################################')\n",
    "        ###################################################################################################################\n",
    "\n",
    "        ################################################################################################\n",
    "        ############################## OVERALL STOCK ANALYSIS START ######################################\n",
    "        print('\\n####################################### OVERALL STOCK ANALYSIS START ######################################')\n",
    "        # test_rmspe_per_stock = self.overall_stock_id_analysis(unique_stock_ids,all_stock_test_pred_df,all_stock_y_test_df,test_residuals,train_flag=False)\n",
    "        print('\\n####################################### OVERALL STOCK ANALYSIS END ######################################')\n",
    "        ############################## OVERALL STOCK ANALYSIS END ######################################\n",
    "        ################################################################################################\n",
    "\n",
    "\n",
    "\n",
    "        ################################################################################################\n",
    "        ############################## INDIVIDUAL STOCK ANALYSIS START #################################\n",
    "        print('\\n############################## INDIVIDUAL STOCK ANALYSIS START #################################')\n",
    "        ##### Analyze Single/ INDIVIDUAL stocks with high RMSPE in train set\n",
    "        # for picked_stock_id in high_rmspe_stocks[start_index:end_index]:\n",
    "        #     test_groundtruth = self.individual_stock_id_analysis(int(picked_stock_id),unique_stock_ids,all_stock_y_test_df,all_stock_test_pred_df,test_residuals,test_avg_target_rvol,train_flag=False)\n",
    "        print('\\n############################## INDIVIDUAL STOCK ANALYSIS END #################################')\n",
    "        ############################## INDIVIDUAL STOCK ANALYSIS END #################################\n",
    "        ################################################################################################\n",
    "\n",
    "\n",
    "        ################################################################################################\n",
    "        ############################## OVERALL TIME ID ANALYSIS START ##################################\n",
    "        ################################################################################################\n",
    "        print('\\n############################## OVERALL TIME ANALYSIS START #################################')\n",
    "        #test_gt_time_id_df, test_pred_time_id_df = self.overall_time_id_analysis(all_stock_y_test_df,all_stock_test_pred_df,test_avg_target_rvol, train_flag=False)\n",
    "        print('\\n############################## OVERALL TIME ANALYSIS END #################################')\n",
    "        ################################################################################################\n",
    "        ############################## OVERALL TIME ID ANALYSIS END #################################\n",
    "        ################################################################################################\n",
    "\n",
    "\n",
    "\n",
    "        ###################################################################################################################\n",
    "        ###################################### TEST Feature importance & SHAPLEY START #########################################\n",
    "        ###################################################################################################################\n",
    "\n",
    "        print('\\n###################################### TEST Feature importance & SHAPLEY START #########################################')\n",
    "        print('\\n#---------------------------------------------compute_global_SHAP_values----------------------------------------------------------------#')\n",
    "        # test_shap_values_all = self.compute_global_SHAP_values(final_reg,X_test,y_test,test_pred,v1ts,set_name='test')\n",
    "        # os.chdir('/home/optimusprime/Desktop/peeterson/optiver/Optiver-Realized-Volatility-Prediction/data/Final_submission_data/Final_submission_data/shapley_values')\n",
    "        # #os.chdir('/content/drive/MyDrive/optiver_real_vol/Final Submission/kaggle_submission_versions')\n",
    "        # with open('test_shap_values_all_log_target_after_jager_transform_improv_shap_interact.pkl', 'wb') as file:\n",
    "        #     pickle.dump(test_shap_values_all, file)\n",
    "        print('\\n#-----------------------------------------------------------------------------------------------------------------#')\n",
    "\n",
    "        print('\\n#---------------------------------------------analyze_global_SHAP_values----------------------------------------------------------------#')\n",
    "        #os.chdir('/home/optimusprime/Desktop/peeterson/optiver/Optiver-Realized-Volatility-Prediction/data/Final_submission_data/Final_submission_data/shapley_values')\n",
    "        # os.chdir('/content/drive/MyDrive/optiver_real_vol/Final Submission/kaggle_submission_versions')\n",
    "        # with open('test_shap_values_all_log_target_after_jager_transform_improv.pkl', 'rb') as file:\n",
    "        #     test_shap_values_all = pickle.load( file)\n",
    "        #self.analyze_global_SHAP_values(test_shap_values_all,all_stock_y_test_df,all_stock_test_pred_df,set_name='test')\n",
    "        #self.compute_shapley_barplot(test_shap_values_all,top_n_feats,X_test,y_test['target'],stock_id=None,view_time_ids_start=None,view_time_ids_end=None,set_name='test')\n",
    "        #self.compute_shapley_PDP_n_Scatter(bad_op_pdp_feature_name,test_shap_values_all,all_stock_y_test_df,all_stock_test_pred_df,stock_id=None,view_time_ids_start=None,view_time_ids_end=None,set_name='test')\n",
    "        #self.compute_shapley_decision(test_shap_values_all.base_values,test_shap_values_all,decision_plot_feature_names,stock_id=None,view_time_ids_start=None,view_time_ids_end=None,set_name='test')\n",
    "        print('\\n#-----------------------------------------------------------------------------------------------------------------#')\n",
    "\n",
    "        print('\\n#---------------------------------------------compute_individual_stock_SHAP_values-------------------------------------------------------#')\n",
    "        feature_name = \"log_first_10_min_vol_stnd\" ## see impact of a feature in more detail\n",
    "        stock_id = 0\n",
    "        view_time_ids_start = 0\n",
    "        view_time_ids_end = 500\n",
    "        #self.compute_individual_stock_SHAP_values(final_reg,X_test,all_stock_test_pred_df,all_stock_v1tr_df,all_stock_y_test_df,feature_name,stock_id,view_time_ids_start,view_time_ids_end)\n",
    "        print('\\n#-----------------------------------------------------------------------------------------------------------------#')\n",
    "\n",
    "\n",
    "        print('\\n#---------------------------------------------compute_individual_instance_SHAP_values-------------------------------------------------------#')\n",
    "        #ovearll_error_idxs, up_error_idxs, op_error_idxs = self.identiy_largest_overall_n_under_n_over_prediction_errors(all_stock_y_test_df,all_stock_test_pred_df,set_name='test')\n",
    "        #self.shapley_analysis_of_large_error_instances(ovearll_error_idxs, up_error_idxs, op_error_idxs,test_shap_values_all,set_name='test')\n",
    "        print('\\n#-----------------------------------------------------------------------------------------------------------------#')\n",
    "        print('\\n###################################### TEST Feature importance & SHAPLEY END #########################################')\n",
    "        ###################################################################################################################\n",
    "        ###################################### Feature importance & SHAPLEY END #########################################\n",
    "        ###################################################################################################################\n",
    "\n",
    "\n",
    "        ###################################################################################################################\n",
    "        ############################################ TESTING SET PREDICTIONS END ##########################################\n",
    "        ###################################################################################################################\n",
    "        print('##################################################################################################')\n",
    "        print('\\n####################################### TESTING SET predictions END #################################################\\n')\n",
    "\n",
    "\n",
    "\n",
    "\n",
    "        \"\"\" TRAINING AND TESTING SET PERFORMANCE COMPARISON START \"\"\"\n",
    "\n",
    "        ###################################################################################################################\n",
    "        ############################################ TRAINING AND TESTING SET PERFORMANCE COMPARISON START ##########################################\n",
    "        ###################################################################################################################\n",
    "        print('\\n####################################### TRAINING AND TESTING SET stocks RMSPE COMPARISON START #################################################')\n",
    "        #self.train_n_test_set_st_RMSPE_comparison(train_rmspe_per_stock,test_rmspe_per_stock)\n",
    "        print('##################################################################################################')\n",
    "        print('\\n####################################### TRAINING AND TESTING SET stocks RMSPE COMPARISON END #################################################\\n')\n",
    "\n",
    "        ###################################################################################################################\n",
    "        print('\\n####################################### TRAINING AND TESTING SET stocks DISTRIBUTION COMPARISON START #################################################')\n",
    "        #self.train_n_test_set_picked_st_distribution_comparison(train_groundtruth, test_groundtruth,high_rmspe_stocks[start_index:end_index])\n",
    "        print('##################################################################################################')\n",
    "        print('\\n####################################### TRAINING AND TESTING SET stocks DISTRIBUTION COMPARISON END #################################################\\n')\n",
    "        ###################################################################################################################\n",
    "\n",
    "\n",
    "        ###################################################################################################################\n",
    "        print('##################################################################################################')\n",
    "        print('\\n################## time_id RMSPE COMPARISON between groundtruth and prediction on train set START ########################')\n",
    "        #self.each_time_id_RMSPE_across_stocks_comparison(train_gt_time_id_df, train_pred_time_id_df,set_name='train',y_train_df = all_stock_y_train_df)\n",
    "        print('\\n################## time_id RMSPE COMPARISON between groundtruth and prediction on train set END ########################')\n",
    "        print('\\n################## time_id RMSPE COMPARISON between groundtruth and prediction on test set START ##########################\\n')\n",
    "        #self.each_time_id_RMSPE_across_stocks_comparison(test_gt_time_id_df, test_pred_time_id_df,set_name='test',y_train_df = all_stock_y_train_df)\n",
    "        print('\\n################## time_id RMSPE COMPARISON between groundtruth and prediction on test set END ##########################\\n')\n",
    "        print('##################################################################################################')\n",
    "        ###################################################################################################################\n",
    "\n",
    "\n",
    "        ###################################################################################################################\n",
    "        print('\\n####################################### Representativeness of validation set in test set START #################################################')\n",
    "        ###################################################################################################################\n",
    "        self.val_set_n_test_set_representation_plot(mean_val_set_rmspe_error, test_set_rmspe_error, train_set_rmspe_error)\n",
    "        ###################################################################################################################\n",
    "        print('\\n####################################### Representativeness of validation set in test set END #################################################')\n",
    "        ###################################################################################################################\n",
    "\n",
    "\n",
    "        ###################################################################################################################\n",
    "        ############################################ TRAINING AND TESTING SET COMPARISON END ##########################################\n",
    "        ###################################################################################################################\n",
    "\n",
    "\n",
    "        del X_train,y_train, all_stock_train_pred_df, all_stock_v1tr_df ,  all_stock_test_pred_df, all_stock_y_train_df,  all_stock_y_test_df\n",
    "        del y_true, y_pred, test_residuals, train_residuals, unique_stock_ids, all_stock_v1ts_df, train_avg_target_rvol, test_avg_target_rvol\n",
    "        gc.collect()\n",
    "        return\n",
    "\n",
    "\n",
    "\n",
    "    def visualize_tree(self,):\n",
    "        # feature_importances['average'] = feature_importances[[f'fold_{fold_n + 1}' for fold_n in range(folds.n_splits)]].mean(axis=1)\n",
    "        # feature_importances.to_csv('feature_importances.csv')\n",
    "        # plt.figure(figsize=(16, 12))\n",
    "        # sns.barplot(data=feature_importances.sort_values(by='average', ascending=False).head(20), x='average', y='feature')\n",
    "        # plt.title('20 TOP feature importance over {} folds average'.format(folds.n_splits));\n",
    "\n",
    "        # importances = pd.DataFrame({'Feature': model.feature_name(),\n",
    "        #                             'Importance': sum( [model.feature_importance(importance_type='gain') for model in models] )})\n",
    "        # importances2 = importances.nlargest(40,'Importance', keep='first').sort_values(by='Importance', ascending=True)\n",
    "        # importances2[['Importance', 'Feature']].plot(kind = 'barh', x = 'Feature', figsize = (8,6), color = 'blue', fontsize=11);plt.ylabel('Feature', fontsize=12)\n",
    "\n",
    "        #TODO: #plot decision tree for interpretability\n",
    "\n",
    "        return\n",
    "\n",
    "\n"
   ]
  },
  {
   "cell_type": "code",
   "execution_count": 16,
   "metadata": {},
   "outputs": [],
   "source": [
    "\n",
    "def objective(trial):\n",
    "\n",
    "    t_v_t = train_validate_n_test(df_train_reordered, df_test)\n",
    "\n",
    "    ######  SET Hyperparameter's range for tuning ######\n",
    "    # Hyperparameters and algorithm parameters are described here\n",
    "    seed1=11\n",
    "    missing_value = -np.inf   # Replace with a suitable value\n",
    "    early_stopping_rounds = 50\n",
    "    num_round= 6000 # num_trees\n",
    "    params = {'disable_default_eval_metric': 1,\n",
    "              \"max_depth\": trial.suggest_int('max_depth', 15, 50),\n",
    "            \"eta\": trial.suggest_float(name='eta', low=0.00001, high=0.2,log=True),\n",
    "            \"subsample\" : round(trial.suggest_float(name='subsample', low=0.6, high=1.0,step=0.05),1),\n",
    "            \"colsample_bytree\": round(trial.suggest_float(name='colsample_bytree', low=0.5, high=1,step=0.05),1),\n",
    "            'gamma': trial.suggest_int('gamma', 1, 10),\n",
    "            'reg_alpha': trial.suggest_int('reg_alpha', 1, 14),\n",
    "            'reg_lambda': trial.suggest_int('reg_lambda', 1, 14),\n",
    "            'min_child_weight': trial.suggest_int('min_child_weight', 1, 10),\n",
    "            \"tree_method\": 'hist',\n",
    "            \"device\": \"cuda\",\n",
    "            \"seed\":seed1,\n",
    "            #'missing': missing_value\n",
    "            }\n",
    "    \n",
    "    # params = {'disable_default_eval_metric': 1,\n",
    "    #           \"max_depth\": trial.suggest_int('max_depth', 25, 35),\n",
    "    #         \"eta\": trial.suggest_float(name='eta', low=0.0001, high=0.01,log=True),\n",
    "    #         \"subsample\" : round(trial.suggest_float(name='subsample', low=0.8, high=1.0,step=0.05),1),\n",
    "    #         \"colsample_bytree\": round(trial.suggest_float(name='colsample_bytree', low=0.5, high=0.8,step=0.05),1),\n",
    "    #         'gamma': trial.suggest_int('gamma', 0, 5),\n",
    "    #         'reg_alpha': trial.suggest_int('reg_alpha', 0, 5),\n",
    "    #         'reg_lambda': trial.suggest_int('reg_lambda', 0, 5),\n",
    "    #         'min_child_weight': trial.suggest_int('min_child_weight', 2, 6),\n",
    "    #         \"tree_method\": 'hist',\n",
    "    #         \"device\": \"cuda\",\n",
    "    #         \"seed\":seed1,\n",
    "    #         #'missing': missing_value\n",
    "    #         }\n",
    "\n",
    "    ######  SET Hyperparameter's range for tuning ######\n",
    "\n",
    "    val_avg_error,best_iteration = t_v_t.xgb_train_validate(params,num_round,early_stopping_rounds,trial)\n",
    "    print(f\"val_avg_error: {val_avg_error}, best_iteration: {best_iteration}\")\n",
    "    trial.set_user_attr(\"best_iteration\", best_iteration)\n",
    "\n",
    "    del t_v_t\n",
    "    gc.collect()\n",
    "    return val_avg_error\n",
    "\n"
   ]
  },
  {
   "cell_type": "code",
   "execution_count": 17,
   "metadata": {},
   "outputs": [
    {
     "name": "stderr",
     "output_type": "stream",
     "text": [
      "[I 2024-10-16 15:32:21,300] A new study created in memory with name: reduce gaps (variance reduction) in-between target data points, log of jager transform\n"
     ]
    },
    {
     "name": "stdout",
     "output_type": "stream",
     "text": [
      "Fold: 1\n",
      "Training....\n",
      "fold: 1, val rmspe score is 0.3861941491374053\n",
      "corr(p/v1v, y_val/v1v) 0.3140851779821305\n",
      "log(corr( )) 0.40935569366524366\n",
      "corr(p, y_val) 0.8852289557646782\n",
      "log(corr( )) 0.9136496337494558\n",
      "Fold: 2\n",
      "Training....\n",
      "fold: 2, val rmspe score is 0.3727216106618067\n",
      "corr(p/v1v, y_val/v1v) 0.294362211652586\n",
      "log(corr( )) 0.3833955240215337\n",
      "corr(p, y_val) 0.8207955877042904\n",
      "log(corr( )) 0.8576446805883827\n",
      "Fold: 3\n",
      "Training....\n",
      "fold: 3, val rmspe score is 0.345459914072517\n",
      "corr(p/v1v, y_val/v1v) 0.4726529082784255\n",
      "log(corr( )) 0.5650207797942781\n",
      "corr(p, y_val) 0.8712049397908112\n",
      "log(corr( )) 0.897873629827644\n",
      "Fold: 4\n",
      "Training....\n",
      "fold: 4, val rmspe score is 0.32880806327273504\n",
      "corr(p/v1v, y_val/v1v) 0.4647067853263226\n",
      "log(corr( )) 0.5206408133082786\n",
      "corr(p, y_val) 0.8718565333365965\n",
      "log(corr( )) 0.8863615738467638\n",
      "Fold: 5\n",
      "Training....\n",
      "fold: 5, val rmspe score is 0.3312718801327266\n",
      "corr(p/v1v, y_val/v1v) 0.49242566929096243\n",
      "log(corr( )) 0.5521456239006303\n",
      "corr(p, y_val) 0.8523798370631852\n",
      "log(corr( )) 0.8886645544241376\n",
      "Fold: 6\n",
      "Training....\n",
      "fold: 6, val rmspe score is 0.32720768503627023\n",
      "corr(p/v1v, y_val/v1v) 0.4178115004923691\n",
      "log(corr( )) 0.4591261987979656\n",
      "corr(p, y_val) 0.876011411380425\n",
      "log(corr( )) 0.8944787136545509\n",
      "Fold: 7\n",
      "Training....\n",
      "fold: 7, val rmspe score is 0.36664022132876767\n",
      "corr(p/v1v, y_val/v1v) 0.3898578491507366\n",
      "log(corr( )) 0.4958705107297223\n",
      "corr(p, y_val) 0.8908055555570822\n",
      "log(corr( )) 0.9046621118260765\n",
      "Fold: 8\n",
      "Training....\n",
      "fold: 8, val rmspe score is 0.34217918495282335\n",
      "corr(p/v1v, y_val/v1v) 0.3882184922452076\n",
      "log(corr( )) 0.4685144699561538\n",
      "corr(p, y_val) 0.9084685318816905\n",
      "log(corr( )) 0.9214078517723326\n",
      "Fold: 9\n",
      "Training....\n",
      "fold: 9, val rmspe score is 0.3399388620970287\n",
      "corr(p/v1v, y_val/v1v) 0.3235797090375593\n",
      "log(corr( )) 0.46644950488247144\n",
      "corr(p, y_val) 0.8582710023499782\n",
      "log(corr( )) 0.8802627200641306\n",
      "Fold: 10\n",
      "Training....\n"
     ]
    },
    {
     "name": "stderr",
     "output_type": "stream",
     "text": [
      "/tmp/ipykernel_84748/2666323187.py:167: UserWarning: Matplotlib is currently using module://matplotlib_inline.backend_inline, which is a non-GUI backend, so cannot show the figure.\n",
      "  fig.show()\n",
      "[I 2024-10-16 15:32:27,325] Trial 0 finished with value: 0.3487144357188468 and parameters: {'max_depth': 2, 'eta': 0.0226401834034349, 'subsample': 0.95, 'colsample_bytree': 0.5, 'gamma': 6, 'reg_alpha': 4, 'reg_lambda': 8, 'min_child_weight': 4}. Best is trial 0 with value: 0.3487144357188468.\n"
     ]
    },
    {
     "name": "stdout",
     "output_type": "stream",
     "text": [
      "fold: 10, val rmspe score is 0.346722786496388\n",
      "corr(p/v1v, y_val/v1v) 0.4520199233869334\n",
      "log(corr( )) 0.5105253898594118\n",
      "corr(p, y_val) 0.8831614078463031\n",
      "log(corr( )) 0.8990122661815941\n",
      "mean rmspe val score over 10 splits is 0.3487144357188468\n",
      "val_avg_error: 0.3487144357188468, best_iteration: 59\n",
      "Fold: 1\n",
      "Training....\n",
      "fold: 1, val rmspe score is 0.9565268402191448\n",
      "corr(p/v1v, y_val/v1v) 0.24534156141082153\n",
      "log(corr( )) 0.37105771200903714\n",
      "corr(p, y_val) 0.8938433315768245\n",
      "log(corr( )) 0.9202564588743131\n",
      "Fold: 2\n",
      "Training....\n",
      "fold: 2, val rmspe score is 0.9579853234179665\n",
      "corr(p/v1v, y_val/v1v) 0.3093109572263855\n",
      "log(corr( )) 0.40926074005673335\n",
      "corr(p, y_val) 0.8171773649029987\n",
      "log(corr( )) 0.8726305944437818\n",
      "Fold: 3\n",
      "Training....\n",
      "fold: 3, val rmspe score is 0.9568526087283792\n",
      "corr(p/v1v, y_val/v1v) 0.3551828443738016\n",
      "log(corr( )) 0.4696487348044081\n",
      "corr(p, y_val) 0.8437297298403756\n",
      "log(corr( )) 0.8830585351729338\n",
      "Fold: 4\n",
      "Training....\n",
      "fold: 4, val rmspe score is 0.955988981628061\n",
      "corr(p/v1v, y_val/v1v) 0.34206406829311836\n",
      "log(corr( )) 0.4222927308255782\n",
      "corr(p, y_val) 0.8618854250209895\n",
      "log(corr( )) 0.8757230133558831\n",
      "Fold: 5\n",
      "Training....\n",
      "fold: 5, val rmspe score is 0.9566315741083857\n",
      "corr(p/v1v, y_val/v1v) 0.3529439267677372\n",
      "log(corr( )) 0.4515346131948983\n",
      "corr(p, y_val) 0.8285588493746159\n",
      "log(corr( )) 0.8714198168931012\n",
      "Fold: 6\n",
      "Training....\n",
      "fold: 6, val rmspe score is 0.9562119750473672\n",
      "corr(p/v1v, y_val/v1v) 0.32126397758127534\n",
      "log(corr( )) 0.38977571294045754\n",
      "corr(p, y_val) 0.8807880880439852\n",
      "log(corr( )) 0.8914820747744814\n",
      "Fold: 7\n",
      "Training....\n",
      "fold: 7, val rmspe score is 0.9556362487289067\n",
      "corr(p/v1v, y_val/v1v) 0.28994240040608554\n",
      "log(corr( )) 0.4107486647976064\n",
      "corr(p, y_val) 0.8914854587581624\n",
      "log(corr( )) 0.8986059322373693\n",
      "Fold: 8\n",
      "Training....\n",
      "fold: 8, val rmspe score is 0.9557274161883621\n",
      "corr(p/v1v, y_val/v1v) 0.2876557934284761\n",
      "log(corr( )) 0.3857838903202714\n",
      "corr(p, y_val) 0.9062645671939061\n",
      "log(corr( )) 0.9172821682891139\n",
      "Fold: 9\n",
      "Training....\n",
      "fold: 9, val rmspe score is 0.9562854745670485\n",
      "corr(p/v1v, y_val/v1v) 0.26942177041985826\n",
      "log(corr( )) 0.4096909469911829\n",
      "corr(p, y_val) 0.8573521574307732\n",
      "log(corr( )) 0.8773616457237667\n",
      "Fold: 10\n",
      "Training....\n"
     ]
    },
    {
     "name": "stderr",
     "output_type": "stream",
     "text": [
      "/tmp/ipykernel_84748/2666323187.py:167: UserWarning: Matplotlib is currently using module://matplotlib_inline.backend_inline, which is a non-GUI backend, so cannot show the figure.\n",
      "  fig.show()\n",
      "[I 2024-10-16 15:32:33,265] Trial 1 finished with value: 0.9564130936780153 and parameters: {'max_depth': 5, 'eta': 0.0004202457453394352, 'subsample': 0.75, 'colsample_bytree': 0.6, 'gamma': 5, 'reg_alpha': 14, 'reg_lambda': 14, 'min_child_weight': 10}. Best is trial 0 with value: 0.3487144357188468.\n"
     ]
    },
    {
     "name": "stdout",
     "output_type": "stream",
     "text": [
      "fold: 10, val rmspe score is 0.95628449414653\n",
      "corr(p/v1v, y_val/v1v) 0.39614743977425554\n",
      "log(corr( )) 0.45940700049098965\n",
      "corr(p, y_val) 0.8700396354620931\n",
      "log(corr( )) 0.8929651922066579\n",
      "mean rmspe val score over 10 splits is 0.9564130936780153\n",
      "val_avg_error: 0.9564130936780153, best_iteration: 59\n",
      "Study statistics: \n",
      "  Number of finished trials:  2\n",
      "  Number of pruned trials:  0\n",
      "  Number of complete trials:  2\n",
      "Best trial:\n",
      "Best number of iteration/boosting rounds:  59\n",
      "Trial no.:  0\n",
      "  Value:  0.3487144357188468\n",
      "  Params: \n",
      "    max_depth: 2\n",
      "    eta: 0.0226401834034349\n",
      "    subsample: 0.95\n",
      "    colsample_bytree: 0.5\n",
      "    gamma: 6\n",
      "    reg_alpha: 4\n",
      "    reg_lambda: 8\n",
      "    min_child_weight: 4\n"
     ]
    },
    {
     "data": {
      "application/vnd.plotly.v1+json": {
       "config": {
        "plotlyServerURL": "https://plot.ly"
       },
       "data": [
        {
         "dimensions": [
          {
           "label": "Objective Value",
           "range": [
            0.3487144357188468,
            0.9564130936780153
           ],
           "values": [
            0.3487144357188468,
            0.9564130936780153
           ]
          },
          {
           "label": "colsample_bytree",
           "range": [
            0.5,
            0.6
           ],
           "values": [
            0.5,
            0.6
           ]
          },
          {
           "label": "eta",
           "range": [
            -3.376496674759305,
            -1.6451200593399005
           ],
           "ticktext": [
            "0.00042",
            "0.001",
            "0.01",
            "0.0226"
           ],
           "tickvals": [
            -3.376496674759305,
            -3,
            -2,
            -1.6451200593399005
           ],
           "values": [
            -1.6451200593399005,
            -3.376496674759305
           ]
          },
          {
           "label": "gamma",
           "range": [
            5,
            6
           ],
           "values": [
            6,
            5
           ]
          },
          {
           "label": "max_depth",
           "range": [
            2,
            5
           ],
           "values": [
            2,
            5
           ]
          },
          {
           "label": "min_child_weight",
           "range": [
            4,
            10
           ],
           "values": [
            4,
            10
           ]
          },
          {
           "label": "reg_alpha",
           "range": [
            4,
            14
           ],
           "values": [
            4,
            14
           ]
          },
          {
           "label": "reg_lambda",
           "range": [
            8,
            14
           ],
           "values": [
            8,
            14
           ]
          },
          {
           "label": "subsample",
           "range": [
            0.75,
            0.95
           ],
           "values": [
            0.95,
            0.75
           ]
          }
         ],
         "labelangle": 30,
         "labelside": "bottom",
         "line": {
          "color": [
           0.3487144357188468,
           0.9564130936780153
          ],
          "colorbar": {
           "title": {
            "text": "Objective Value"
           }
          },
          "colorscale": [
           [
            0,
            "rgb(247,251,255)"
           ],
           [
            0.125,
            "rgb(222,235,247)"
           ],
           [
            0.25,
            "rgb(198,219,239)"
           ],
           [
            0.375,
            "rgb(158,202,225)"
           ],
           [
            0.5,
            "rgb(107,174,214)"
           ],
           [
            0.625,
            "rgb(66,146,198)"
           ],
           [
            0.75,
            "rgb(33,113,181)"
           ],
           [
            0.875,
            "rgb(8,81,156)"
           ],
           [
            1,
            "rgb(8,48,107)"
           ]
          ],
          "reversescale": true,
          "showscale": true
         },
         "type": "parcoords"
        }
       ],
       "layout": {
        "template": {
         "data": {
          "bar": [
           {
            "error_x": {
             "color": "#2a3f5f"
            },
            "error_y": {
             "color": "#2a3f5f"
            },
            "marker": {
             "line": {
              "color": "#E5ECF6",
              "width": 0.5
             },
             "pattern": {
              "fillmode": "overlay",
              "size": 10,
              "solidity": 0.2
             }
            },
            "type": "bar"
           }
          ],
          "barpolar": [
           {
            "marker": {
             "line": {
              "color": "#E5ECF6",
              "width": 0.5
             },
             "pattern": {
              "fillmode": "overlay",
              "size": 10,
              "solidity": 0.2
             }
            },
            "type": "barpolar"
           }
          ],
          "carpet": [
           {
            "aaxis": {
             "endlinecolor": "#2a3f5f",
             "gridcolor": "white",
             "linecolor": "white",
             "minorgridcolor": "white",
             "startlinecolor": "#2a3f5f"
            },
            "baxis": {
             "endlinecolor": "#2a3f5f",
             "gridcolor": "white",
             "linecolor": "white",
             "minorgridcolor": "white",
             "startlinecolor": "#2a3f5f"
            },
            "type": "carpet"
           }
          ],
          "choropleth": [
           {
            "colorbar": {
             "outlinewidth": 0,
             "ticks": ""
            },
            "type": "choropleth"
           }
          ],
          "contour": [
           {
            "colorbar": {
             "outlinewidth": 0,
             "ticks": ""
            },
            "colorscale": [
             [
              0,
              "#0d0887"
             ],
             [
              0.1111111111111111,
              "#46039f"
             ],
             [
              0.2222222222222222,
              "#7201a8"
             ],
             [
              0.3333333333333333,
              "#9c179e"
             ],
             [
              0.4444444444444444,
              "#bd3786"
             ],
             [
              0.5555555555555556,
              "#d8576b"
             ],
             [
              0.6666666666666666,
              "#ed7953"
             ],
             [
              0.7777777777777778,
              "#fb9f3a"
             ],
             [
              0.8888888888888888,
              "#fdca26"
             ],
             [
              1,
              "#f0f921"
             ]
            ],
            "type": "contour"
           }
          ],
          "contourcarpet": [
           {
            "colorbar": {
             "outlinewidth": 0,
             "ticks": ""
            },
            "type": "contourcarpet"
           }
          ],
          "heatmap": [
           {
            "colorbar": {
             "outlinewidth": 0,
             "ticks": ""
            },
            "colorscale": [
             [
              0,
              "#0d0887"
             ],
             [
              0.1111111111111111,
              "#46039f"
             ],
             [
              0.2222222222222222,
              "#7201a8"
             ],
             [
              0.3333333333333333,
              "#9c179e"
             ],
             [
              0.4444444444444444,
              "#bd3786"
             ],
             [
              0.5555555555555556,
              "#d8576b"
             ],
             [
              0.6666666666666666,
              "#ed7953"
             ],
             [
              0.7777777777777778,
              "#fb9f3a"
             ],
             [
              0.8888888888888888,
              "#fdca26"
             ],
             [
              1,
              "#f0f921"
             ]
            ],
            "type": "heatmap"
           }
          ],
          "heatmapgl": [
           {
            "colorbar": {
             "outlinewidth": 0,
             "ticks": ""
            },
            "colorscale": [
             [
              0,
              "#0d0887"
             ],
             [
              0.1111111111111111,
              "#46039f"
             ],
             [
              0.2222222222222222,
              "#7201a8"
             ],
             [
              0.3333333333333333,
              "#9c179e"
             ],
             [
              0.4444444444444444,
              "#bd3786"
             ],
             [
              0.5555555555555556,
              "#d8576b"
             ],
             [
              0.6666666666666666,
              "#ed7953"
             ],
             [
              0.7777777777777778,
              "#fb9f3a"
             ],
             [
              0.8888888888888888,
              "#fdca26"
             ],
             [
              1,
              "#f0f921"
             ]
            ],
            "type": "heatmapgl"
           }
          ],
          "histogram": [
           {
            "marker": {
             "pattern": {
              "fillmode": "overlay",
              "size": 10,
              "solidity": 0.2
             }
            },
            "type": "histogram"
           }
          ],
          "histogram2d": [
           {
            "colorbar": {
             "outlinewidth": 0,
             "ticks": ""
            },
            "colorscale": [
             [
              0,
              "#0d0887"
             ],
             [
              0.1111111111111111,
              "#46039f"
             ],
             [
              0.2222222222222222,
              "#7201a8"
             ],
             [
              0.3333333333333333,
              "#9c179e"
             ],
             [
              0.4444444444444444,
              "#bd3786"
             ],
             [
              0.5555555555555556,
              "#d8576b"
             ],
             [
              0.6666666666666666,
              "#ed7953"
             ],
             [
              0.7777777777777778,
              "#fb9f3a"
             ],
             [
              0.8888888888888888,
              "#fdca26"
             ],
             [
              1,
              "#f0f921"
             ]
            ],
            "type": "histogram2d"
           }
          ],
          "histogram2dcontour": [
           {
            "colorbar": {
             "outlinewidth": 0,
             "ticks": ""
            },
            "colorscale": [
             [
              0,
              "#0d0887"
             ],
             [
              0.1111111111111111,
              "#46039f"
             ],
             [
              0.2222222222222222,
              "#7201a8"
             ],
             [
              0.3333333333333333,
              "#9c179e"
             ],
             [
              0.4444444444444444,
              "#bd3786"
             ],
             [
              0.5555555555555556,
              "#d8576b"
             ],
             [
              0.6666666666666666,
              "#ed7953"
             ],
             [
              0.7777777777777778,
              "#fb9f3a"
             ],
             [
              0.8888888888888888,
              "#fdca26"
             ],
             [
              1,
              "#f0f921"
             ]
            ],
            "type": "histogram2dcontour"
           }
          ],
          "mesh3d": [
           {
            "colorbar": {
             "outlinewidth": 0,
             "ticks": ""
            },
            "type": "mesh3d"
           }
          ],
          "parcoords": [
           {
            "line": {
             "colorbar": {
              "outlinewidth": 0,
              "ticks": ""
             }
            },
            "type": "parcoords"
           }
          ],
          "pie": [
           {
            "automargin": true,
            "type": "pie"
           }
          ],
          "scatter": [
           {
            "fillpattern": {
             "fillmode": "overlay",
             "size": 10,
             "solidity": 0.2
            },
            "type": "scatter"
           }
          ],
          "scatter3d": [
           {
            "line": {
             "colorbar": {
              "outlinewidth": 0,
              "ticks": ""
             }
            },
            "marker": {
             "colorbar": {
              "outlinewidth": 0,
              "ticks": ""
             }
            },
            "type": "scatter3d"
           }
          ],
          "scattercarpet": [
           {
            "marker": {
             "colorbar": {
              "outlinewidth": 0,
              "ticks": ""
             }
            },
            "type": "scattercarpet"
           }
          ],
          "scattergeo": [
           {
            "marker": {
             "colorbar": {
              "outlinewidth": 0,
              "ticks": ""
             }
            },
            "type": "scattergeo"
           }
          ],
          "scattergl": [
           {
            "marker": {
             "colorbar": {
              "outlinewidth": 0,
              "ticks": ""
             }
            },
            "type": "scattergl"
           }
          ],
          "scattermapbox": [
           {
            "marker": {
             "colorbar": {
              "outlinewidth": 0,
              "ticks": ""
             }
            },
            "type": "scattermapbox"
           }
          ],
          "scatterpolar": [
           {
            "marker": {
             "colorbar": {
              "outlinewidth": 0,
              "ticks": ""
             }
            },
            "type": "scatterpolar"
           }
          ],
          "scatterpolargl": [
           {
            "marker": {
             "colorbar": {
              "outlinewidth": 0,
              "ticks": ""
             }
            },
            "type": "scatterpolargl"
           }
          ],
          "scatterternary": [
           {
            "marker": {
             "colorbar": {
              "outlinewidth": 0,
              "ticks": ""
             }
            },
            "type": "scatterternary"
           }
          ],
          "surface": [
           {
            "colorbar": {
             "outlinewidth": 0,
             "ticks": ""
            },
            "colorscale": [
             [
              0,
              "#0d0887"
             ],
             [
              0.1111111111111111,
              "#46039f"
             ],
             [
              0.2222222222222222,
              "#7201a8"
             ],
             [
              0.3333333333333333,
              "#9c179e"
             ],
             [
              0.4444444444444444,
              "#bd3786"
             ],
             [
              0.5555555555555556,
              "#d8576b"
             ],
             [
              0.6666666666666666,
              "#ed7953"
             ],
             [
              0.7777777777777778,
              "#fb9f3a"
             ],
             [
              0.8888888888888888,
              "#fdca26"
             ],
             [
              1,
              "#f0f921"
             ]
            ],
            "type": "surface"
           }
          ],
          "table": [
           {
            "cells": {
             "fill": {
              "color": "#EBF0F8"
             },
             "line": {
              "color": "white"
             }
            },
            "header": {
             "fill": {
              "color": "#C8D4E3"
             },
             "line": {
              "color": "white"
             }
            },
            "type": "table"
           }
          ]
         },
         "layout": {
          "annotationdefaults": {
           "arrowcolor": "#2a3f5f",
           "arrowhead": 0,
           "arrowwidth": 1
          },
          "autotypenumbers": "strict",
          "coloraxis": {
           "colorbar": {
            "outlinewidth": 0,
            "ticks": ""
           }
          },
          "colorscale": {
           "diverging": [
            [
             0,
             "#8e0152"
            ],
            [
             0.1,
             "#c51b7d"
            ],
            [
             0.2,
             "#de77ae"
            ],
            [
             0.3,
             "#f1b6da"
            ],
            [
             0.4,
             "#fde0ef"
            ],
            [
             0.5,
             "#f7f7f7"
            ],
            [
             0.6,
             "#e6f5d0"
            ],
            [
             0.7,
             "#b8e186"
            ],
            [
             0.8,
             "#7fbc41"
            ],
            [
             0.9,
             "#4d9221"
            ],
            [
             1,
             "#276419"
            ]
           ],
           "sequential": [
            [
             0,
             "#0d0887"
            ],
            [
             0.1111111111111111,
             "#46039f"
            ],
            [
             0.2222222222222222,
             "#7201a8"
            ],
            [
             0.3333333333333333,
             "#9c179e"
            ],
            [
             0.4444444444444444,
             "#bd3786"
            ],
            [
             0.5555555555555556,
             "#d8576b"
            ],
            [
             0.6666666666666666,
             "#ed7953"
            ],
            [
             0.7777777777777778,
             "#fb9f3a"
            ],
            [
             0.8888888888888888,
             "#fdca26"
            ],
            [
             1,
             "#f0f921"
            ]
           ],
           "sequentialminus": [
            [
             0,
             "#0d0887"
            ],
            [
             0.1111111111111111,
             "#46039f"
            ],
            [
             0.2222222222222222,
             "#7201a8"
            ],
            [
             0.3333333333333333,
             "#9c179e"
            ],
            [
             0.4444444444444444,
             "#bd3786"
            ],
            [
             0.5555555555555556,
             "#d8576b"
            ],
            [
             0.6666666666666666,
             "#ed7953"
            ],
            [
             0.7777777777777778,
             "#fb9f3a"
            ],
            [
             0.8888888888888888,
             "#fdca26"
            ],
            [
             1,
             "#f0f921"
            ]
           ]
          },
          "colorway": [
           "#636efa",
           "#EF553B",
           "#00cc96",
           "#ab63fa",
           "#FFA15A",
           "#19d3f3",
           "#FF6692",
           "#B6E880",
           "#FF97FF",
           "#FECB52"
          ],
          "font": {
           "color": "#2a3f5f"
          },
          "geo": {
           "bgcolor": "white",
           "lakecolor": "white",
           "landcolor": "#E5ECF6",
           "showlakes": true,
           "showland": true,
           "subunitcolor": "white"
          },
          "hoverlabel": {
           "align": "left"
          },
          "hovermode": "closest",
          "mapbox": {
           "style": "light"
          },
          "paper_bgcolor": "white",
          "plot_bgcolor": "#E5ECF6",
          "polar": {
           "angularaxis": {
            "gridcolor": "white",
            "linecolor": "white",
            "ticks": ""
           },
           "bgcolor": "#E5ECF6",
           "radialaxis": {
            "gridcolor": "white",
            "linecolor": "white",
            "ticks": ""
           }
          },
          "scene": {
           "xaxis": {
            "backgroundcolor": "#E5ECF6",
            "gridcolor": "white",
            "gridwidth": 2,
            "linecolor": "white",
            "showbackground": true,
            "ticks": "",
            "zerolinecolor": "white"
           },
           "yaxis": {
            "backgroundcolor": "#E5ECF6",
            "gridcolor": "white",
            "gridwidth": 2,
            "linecolor": "white",
            "showbackground": true,
            "ticks": "",
            "zerolinecolor": "white"
           },
           "zaxis": {
            "backgroundcolor": "#E5ECF6",
            "gridcolor": "white",
            "gridwidth": 2,
            "linecolor": "white",
            "showbackground": true,
            "ticks": "",
            "zerolinecolor": "white"
           }
          },
          "shapedefaults": {
           "line": {
            "color": "#2a3f5f"
           }
          },
          "ternary": {
           "aaxis": {
            "gridcolor": "white",
            "linecolor": "white",
            "ticks": ""
           },
           "baxis": {
            "gridcolor": "white",
            "linecolor": "white",
            "ticks": ""
           },
           "bgcolor": "#E5ECF6",
           "caxis": {
            "gridcolor": "white",
            "linecolor": "white",
            "ticks": ""
           }
          },
          "title": {
           "x": 0.05
          },
          "xaxis": {
           "automargin": true,
           "gridcolor": "white",
           "linecolor": "white",
           "ticks": "",
           "title": {
            "standoff": 15
           },
           "zerolinecolor": "white",
           "zerolinewidth": 2
          },
          "yaxis": {
           "automargin": true,
           "gridcolor": "white",
           "linecolor": "white",
           "ticks": "",
           "title": {
            "standoff": 15
           },
           "zerolinecolor": "white",
           "zerolinewidth": 2
          }
         }
        },
        "title": {
         "text": "Parallel Coordinate Plot"
        }
       }
      }
     },
     "metadata": {},
     "output_type": "display_data"
    },
    {
     "data": {
      "application/vnd.plotly.v1+json": {
       "config": {
        "plotlyServerURL": "https://plot.ly"
       },
       "data": [
        {
         "mode": "markers",
         "name": "Objective Value",
         "type": "scatter",
         "x": [
          0,
          1
         ],
         "y": [
          0.3487144357188468,
          0.9564130936780153
         ]
        },
        {
         "mode": "lines",
         "name": "Best Value",
         "type": "scatter",
         "x": [
          0,
          1
         ],
         "y": [
          0.3487144357188468,
          0.3487144357188468
         ]
        },
        {
         "marker": {
          "color": "#cccccc"
         },
         "mode": "markers",
         "name": "Infeasible Trial",
         "showlegend": false,
         "type": "scatter",
         "x": [],
         "y": []
        }
       ],
       "layout": {
        "template": {
         "data": {
          "bar": [
           {
            "error_x": {
             "color": "#2a3f5f"
            },
            "error_y": {
             "color": "#2a3f5f"
            },
            "marker": {
             "line": {
              "color": "#E5ECF6",
              "width": 0.5
             },
             "pattern": {
              "fillmode": "overlay",
              "size": 10,
              "solidity": 0.2
             }
            },
            "type": "bar"
           }
          ],
          "barpolar": [
           {
            "marker": {
             "line": {
              "color": "#E5ECF6",
              "width": 0.5
             },
             "pattern": {
              "fillmode": "overlay",
              "size": 10,
              "solidity": 0.2
             }
            },
            "type": "barpolar"
           }
          ],
          "carpet": [
           {
            "aaxis": {
             "endlinecolor": "#2a3f5f",
             "gridcolor": "white",
             "linecolor": "white",
             "minorgridcolor": "white",
             "startlinecolor": "#2a3f5f"
            },
            "baxis": {
             "endlinecolor": "#2a3f5f",
             "gridcolor": "white",
             "linecolor": "white",
             "minorgridcolor": "white",
             "startlinecolor": "#2a3f5f"
            },
            "type": "carpet"
           }
          ],
          "choropleth": [
           {
            "colorbar": {
             "outlinewidth": 0,
             "ticks": ""
            },
            "type": "choropleth"
           }
          ],
          "contour": [
           {
            "colorbar": {
             "outlinewidth": 0,
             "ticks": ""
            },
            "colorscale": [
             [
              0,
              "#0d0887"
             ],
             [
              0.1111111111111111,
              "#46039f"
             ],
             [
              0.2222222222222222,
              "#7201a8"
             ],
             [
              0.3333333333333333,
              "#9c179e"
             ],
             [
              0.4444444444444444,
              "#bd3786"
             ],
             [
              0.5555555555555556,
              "#d8576b"
             ],
             [
              0.6666666666666666,
              "#ed7953"
             ],
             [
              0.7777777777777778,
              "#fb9f3a"
             ],
             [
              0.8888888888888888,
              "#fdca26"
             ],
             [
              1,
              "#f0f921"
             ]
            ],
            "type": "contour"
           }
          ],
          "contourcarpet": [
           {
            "colorbar": {
             "outlinewidth": 0,
             "ticks": ""
            },
            "type": "contourcarpet"
           }
          ],
          "heatmap": [
           {
            "colorbar": {
             "outlinewidth": 0,
             "ticks": ""
            },
            "colorscale": [
             [
              0,
              "#0d0887"
             ],
             [
              0.1111111111111111,
              "#46039f"
             ],
             [
              0.2222222222222222,
              "#7201a8"
             ],
             [
              0.3333333333333333,
              "#9c179e"
             ],
             [
              0.4444444444444444,
              "#bd3786"
             ],
             [
              0.5555555555555556,
              "#d8576b"
             ],
             [
              0.6666666666666666,
              "#ed7953"
             ],
             [
              0.7777777777777778,
              "#fb9f3a"
             ],
             [
              0.8888888888888888,
              "#fdca26"
             ],
             [
              1,
              "#f0f921"
             ]
            ],
            "type": "heatmap"
           }
          ],
          "heatmapgl": [
           {
            "colorbar": {
             "outlinewidth": 0,
             "ticks": ""
            },
            "colorscale": [
             [
              0,
              "#0d0887"
             ],
             [
              0.1111111111111111,
              "#46039f"
             ],
             [
              0.2222222222222222,
              "#7201a8"
             ],
             [
              0.3333333333333333,
              "#9c179e"
             ],
             [
              0.4444444444444444,
              "#bd3786"
             ],
             [
              0.5555555555555556,
              "#d8576b"
             ],
             [
              0.6666666666666666,
              "#ed7953"
             ],
             [
              0.7777777777777778,
              "#fb9f3a"
             ],
             [
              0.8888888888888888,
              "#fdca26"
             ],
             [
              1,
              "#f0f921"
             ]
            ],
            "type": "heatmapgl"
           }
          ],
          "histogram": [
           {
            "marker": {
             "pattern": {
              "fillmode": "overlay",
              "size": 10,
              "solidity": 0.2
             }
            },
            "type": "histogram"
           }
          ],
          "histogram2d": [
           {
            "colorbar": {
             "outlinewidth": 0,
             "ticks": ""
            },
            "colorscale": [
             [
              0,
              "#0d0887"
             ],
             [
              0.1111111111111111,
              "#46039f"
             ],
             [
              0.2222222222222222,
              "#7201a8"
             ],
             [
              0.3333333333333333,
              "#9c179e"
             ],
             [
              0.4444444444444444,
              "#bd3786"
             ],
             [
              0.5555555555555556,
              "#d8576b"
             ],
             [
              0.6666666666666666,
              "#ed7953"
             ],
             [
              0.7777777777777778,
              "#fb9f3a"
             ],
             [
              0.8888888888888888,
              "#fdca26"
             ],
             [
              1,
              "#f0f921"
             ]
            ],
            "type": "histogram2d"
           }
          ],
          "histogram2dcontour": [
           {
            "colorbar": {
             "outlinewidth": 0,
             "ticks": ""
            },
            "colorscale": [
             [
              0,
              "#0d0887"
             ],
             [
              0.1111111111111111,
              "#46039f"
             ],
             [
              0.2222222222222222,
              "#7201a8"
             ],
             [
              0.3333333333333333,
              "#9c179e"
             ],
             [
              0.4444444444444444,
              "#bd3786"
             ],
             [
              0.5555555555555556,
              "#d8576b"
             ],
             [
              0.6666666666666666,
              "#ed7953"
             ],
             [
              0.7777777777777778,
              "#fb9f3a"
             ],
             [
              0.8888888888888888,
              "#fdca26"
             ],
             [
              1,
              "#f0f921"
             ]
            ],
            "type": "histogram2dcontour"
           }
          ],
          "mesh3d": [
           {
            "colorbar": {
             "outlinewidth": 0,
             "ticks": ""
            },
            "type": "mesh3d"
           }
          ],
          "parcoords": [
           {
            "line": {
             "colorbar": {
              "outlinewidth": 0,
              "ticks": ""
             }
            },
            "type": "parcoords"
           }
          ],
          "pie": [
           {
            "automargin": true,
            "type": "pie"
           }
          ],
          "scatter": [
           {
            "fillpattern": {
             "fillmode": "overlay",
             "size": 10,
             "solidity": 0.2
            },
            "type": "scatter"
           }
          ],
          "scatter3d": [
           {
            "line": {
             "colorbar": {
              "outlinewidth": 0,
              "ticks": ""
             }
            },
            "marker": {
             "colorbar": {
              "outlinewidth": 0,
              "ticks": ""
             }
            },
            "type": "scatter3d"
           }
          ],
          "scattercarpet": [
           {
            "marker": {
             "colorbar": {
              "outlinewidth": 0,
              "ticks": ""
             }
            },
            "type": "scattercarpet"
           }
          ],
          "scattergeo": [
           {
            "marker": {
             "colorbar": {
              "outlinewidth": 0,
              "ticks": ""
             }
            },
            "type": "scattergeo"
           }
          ],
          "scattergl": [
           {
            "marker": {
             "colorbar": {
              "outlinewidth": 0,
              "ticks": ""
             }
            },
            "type": "scattergl"
           }
          ],
          "scattermapbox": [
           {
            "marker": {
             "colorbar": {
              "outlinewidth": 0,
              "ticks": ""
             }
            },
            "type": "scattermapbox"
           }
          ],
          "scatterpolar": [
           {
            "marker": {
             "colorbar": {
              "outlinewidth": 0,
              "ticks": ""
             }
            },
            "type": "scatterpolar"
           }
          ],
          "scatterpolargl": [
           {
            "marker": {
             "colorbar": {
              "outlinewidth": 0,
              "ticks": ""
             }
            },
            "type": "scatterpolargl"
           }
          ],
          "scatterternary": [
           {
            "marker": {
             "colorbar": {
              "outlinewidth": 0,
              "ticks": ""
             }
            },
            "type": "scatterternary"
           }
          ],
          "surface": [
           {
            "colorbar": {
             "outlinewidth": 0,
             "ticks": ""
            },
            "colorscale": [
             [
              0,
              "#0d0887"
             ],
             [
              0.1111111111111111,
              "#46039f"
             ],
             [
              0.2222222222222222,
              "#7201a8"
             ],
             [
              0.3333333333333333,
              "#9c179e"
             ],
             [
              0.4444444444444444,
              "#bd3786"
             ],
             [
              0.5555555555555556,
              "#d8576b"
             ],
             [
              0.6666666666666666,
              "#ed7953"
             ],
             [
              0.7777777777777778,
              "#fb9f3a"
             ],
             [
              0.8888888888888888,
              "#fdca26"
             ],
             [
              1,
              "#f0f921"
             ]
            ],
            "type": "surface"
           }
          ],
          "table": [
           {
            "cells": {
             "fill": {
              "color": "#EBF0F8"
             },
             "line": {
              "color": "white"
             }
            },
            "header": {
             "fill": {
              "color": "#C8D4E3"
             },
             "line": {
              "color": "white"
             }
            },
            "type": "table"
           }
          ]
         },
         "layout": {
          "annotationdefaults": {
           "arrowcolor": "#2a3f5f",
           "arrowhead": 0,
           "arrowwidth": 1
          },
          "autotypenumbers": "strict",
          "coloraxis": {
           "colorbar": {
            "outlinewidth": 0,
            "ticks": ""
           }
          },
          "colorscale": {
           "diverging": [
            [
             0,
             "#8e0152"
            ],
            [
             0.1,
             "#c51b7d"
            ],
            [
             0.2,
             "#de77ae"
            ],
            [
             0.3,
             "#f1b6da"
            ],
            [
             0.4,
             "#fde0ef"
            ],
            [
             0.5,
             "#f7f7f7"
            ],
            [
             0.6,
             "#e6f5d0"
            ],
            [
             0.7,
             "#b8e186"
            ],
            [
             0.8,
             "#7fbc41"
            ],
            [
             0.9,
             "#4d9221"
            ],
            [
             1,
             "#276419"
            ]
           ],
           "sequential": [
            [
             0,
             "#0d0887"
            ],
            [
             0.1111111111111111,
             "#46039f"
            ],
            [
             0.2222222222222222,
             "#7201a8"
            ],
            [
             0.3333333333333333,
             "#9c179e"
            ],
            [
             0.4444444444444444,
             "#bd3786"
            ],
            [
             0.5555555555555556,
             "#d8576b"
            ],
            [
             0.6666666666666666,
             "#ed7953"
            ],
            [
             0.7777777777777778,
             "#fb9f3a"
            ],
            [
             0.8888888888888888,
             "#fdca26"
            ],
            [
             1,
             "#f0f921"
            ]
           ],
           "sequentialminus": [
            [
             0,
             "#0d0887"
            ],
            [
             0.1111111111111111,
             "#46039f"
            ],
            [
             0.2222222222222222,
             "#7201a8"
            ],
            [
             0.3333333333333333,
             "#9c179e"
            ],
            [
             0.4444444444444444,
             "#bd3786"
            ],
            [
             0.5555555555555556,
             "#d8576b"
            ],
            [
             0.6666666666666666,
             "#ed7953"
            ],
            [
             0.7777777777777778,
             "#fb9f3a"
            ],
            [
             0.8888888888888888,
             "#fdca26"
            ],
            [
             1,
             "#f0f921"
            ]
           ]
          },
          "colorway": [
           "#636efa",
           "#EF553B",
           "#00cc96",
           "#ab63fa",
           "#FFA15A",
           "#19d3f3",
           "#FF6692",
           "#B6E880",
           "#FF97FF",
           "#FECB52"
          ],
          "font": {
           "color": "#2a3f5f"
          },
          "geo": {
           "bgcolor": "white",
           "lakecolor": "white",
           "landcolor": "#E5ECF6",
           "showlakes": true,
           "showland": true,
           "subunitcolor": "white"
          },
          "hoverlabel": {
           "align": "left"
          },
          "hovermode": "closest",
          "mapbox": {
           "style": "light"
          },
          "paper_bgcolor": "white",
          "plot_bgcolor": "#E5ECF6",
          "polar": {
           "angularaxis": {
            "gridcolor": "white",
            "linecolor": "white",
            "ticks": ""
           },
           "bgcolor": "#E5ECF6",
           "radialaxis": {
            "gridcolor": "white",
            "linecolor": "white",
            "ticks": ""
           }
          },
          "scene": {
           "xaxis": {
            "backgroundcolor": "#E5ECF6",
            "gridcolor": "white",
            "gridwidth": 2,
            "linecolor": "white",
            "showbackground": true,
            "ticks": "",
            "zerolinecolor": "white"
           },
           "yaxis": {
            "backgroundcolor": "#E5ECF6",
            "gridcolor": "white",
            "gridwidth": 2,
            "linecolor": "white",
            "showbackground": true,
            "ticks": "",
            "zerolinecolor": "white"
           },
           "zaxis": {
            "backgroundcolor": "#E5ECF6",
            "gridcolor": "white",
            "gridwidth": 2,
            "linecolor": "white",
            "showbackground": true,
            "ticks": "",
            "zerolinecolor": "white"
           }
          },
          "shapedefaults": {
           "line": {
            "color": "#2a3f5f"
           }
          },
          "ternary": {
           "aaxis": {
            "gridcolor": "white",
            "linecolor": "white",
            "ticks": ""
           },
           "baxis": {
            "gridcolor": "white",
            "linecolor": "white",
            "ticks": ""
           },
           "bgcolor": "#E5ECF6",
           "caxis": {
            "gridcolor": "white",
            "linecolor": "white",
            "ticks": ""
           }
          },
          "title": {
           "x": 0.05
          },
          "xaxis": {
           "automargin": true,
           "gridcolor": "white",
           "linecolor": "white",
           "ticks": "",
           "title": {
            "standoff": 15
           },
           "zerolinecolor": "white",
           "zerolinewidth": 2
          },
          "yaxis": {
           "automargin": true,
           "gridcolor": "white",
           "linecolor": "white",
           "ticks": "",
           "title": {
            "standoff": 15
           },
           "zerolinecolor": "white",
           "zerolinewidth": 2
          }
         }
        },
        "title": {
         "text": "Optimization History Plot"
        },
        "xaxis": {
         "title": {
          "text": "Trial"
         }
        },
        "yaxis": {
         "title": {
          "text": "Objective Value"
         }
        }
       }
      }
     },
     "metadata": {},
     "output_type": "display_data"
    },
    {
     "data": {
      "application/vnd.plotly.v1+json": {
       "config": {
        "plotlyServerURL": "https://plot.ly"
       },
       "data": [
        {
         "marker": {
          "color": [
           0,
           1
          ],
          "colorbar": {
           "title": {
            "text": "Trial"
           },
           "x": 1,
           "xpad": 40
          },
          "colorscale": [
           [
            0,
            "rgb(247,251,255)"
           ],
           [
            0.125,
            "rgb(222,235,247)"
           ],
           [
            0.25,
            "rgb(198,219,239)"
           ],
           [
            0.375,
            "rgb(158,202,225)"
           ],
           [
            0.5,
            "rgb(107,174,214)"
           ],
           [
            0.625,
            "rgb(66,146,198)"
           ],
           [
            0.75,
            "rgb(33,113,181)"
           ],
           [
            0.875,
            "rgb(8,81,156)"
           ],
           [
            1,
            "rgb(8,48,107)"
           ]
          ],
          "line": {
           "color": "Grey",
           "width": 0.5
          },
          "showscale": true
         },
         "mode": "markers",
         "name": "Feasible Trial",
         "showlegend": false,
         "type": "scatter",
         "x": [
          0.5,
          0.6
         ],
         "xaxis": "x",
         "y": [
          0.3487144357188468,
          0.9564130936780153
         ],
         "yaxis": "y"
        },
        {
         "marker": {
          "color": [
           0,
           1
          ],
          "colorbar": {
           "title": {
            "text": "Trial"
           },
           "x": 1,
           "xpad": 40
          },
          "colorscale": [
           [
            0,
            "rgb(247,251,255)"
           ],
           [
            0.125,
            "rgb(222,235,247)"
           ],
           [
            0.25,
            "rgb(198,219,239)"
           ],
           [
            0.375,
            "rgb(158,202,225)"
           ],
           [
            0.5,
            "rgb(107,174,214)"
           ],
           [
            0.625,
            "rgb(66,146,198)"
           ],
           [
            0.75,
            "rgb(33,113,181)"
           ],
           [
            0.875,
            "rgb(8,81,156)"
           ],
           [
            1,
            "rgb(8,48,107)"
           ]
          ],
          "line": {
           "color": "Grey",
           "width": 0.5
          },
          "showscale": false
         },
         "mode": "markers",
         "name": "Feasible Trial",
         "showlegend": false,
         "type": "scatter",
         "x": [
          0.0226401834034349,
          0.0004202457453394352
         ],
         "xaxis": "x2",
         "y": [
          0.3487144357188468,
          0.9564130936780153
         ],
         "yaxis": "y2"
        },
        {
         "marker": {
          "color": [
           0,
           1
          ],
          "colorbar": {
           "title": {
            "text": "Trial"
           },
           "x": 1,
           "xpad": 40
          },
          "colorscale": [
           [
            0,
            "rgb(247,251,255)"
           ],
           [
            0.125,
            "rgb(222,235,247)"
           ],
           [
            0.25,
            "rgb(198,219,239)"
           ],
           [
            0.375,
            "rgb(158,202,225)"
           ],
           [
            0.5,
            "rgb(107,174,214)"
           ],
           [
            0.625,
            "rgb(66,146,198)"
           ],
           [
            0.75,
            "rgb(33,113,181)"
           ],
           [
            0.875,
            "rgb(8,81,156)"
           ],
           [
            1,
            "rgb(8,48,107)"
           ]
          ],
          "line": {
           "color": "Grey",
           "width": 0.5
          },
          "showscale": false
         },
         "mode": "markers",
         "name": "Feasible Trial",
         "showlegend": false,
         "type": "scatter",
         "x": [
          6,
          5
         ],
         "xaxis": "x3",
         "y": [
          0.3487144357188468,
          0.9564130936780153
         ],
         "yaxis": "y3"
        },
        {
         "marker": {
          "color": [
           0,
           1
          ],
          "colorbar": {
           "title": {
            "text": "Trial"
           },
           "x": 1,
           "xpad": 40
          },
          "colorscale": [
           [
            0,
            "rgb(247,251,255)"
           ],
           [
            0.125,
            "rgb(222,235,247)"
           ],
           [
            0.25,
            "rgb(198,219,239)"
           ],
           [
            0.375,
            "rgb(158,202,225)"
           ],
           [
            0.5,
            "rgb(107,174,214)"
           ],
           [
            0.625,
            "rgb(66,146,198)"
           ],
           [
            0.75,
            "rgb(33,113,181)"
           ],
           [
            0.875,
            "rgb(8,81,156)"
           ],
           [
            1,
            "rgb(8,48,107)"
           ]
          ],
          "line": {
           "color": "Grey",
           "width": 0.5
          },
          "showscale": false
         },
         "mode": "markers",
         "name": "Feasible Trial",
         "showlegend": false,
         "type": "scatter",
         "x": [
          2,
          5
         ],
         "xaxis": "x4",
         "y": [
          0.3487144357188468,
          0.9564130936780153
         ],
         "yaxis": "y4"
        },
        {
         "marker": {
          "color": [
           0,
           1
          ],
          "colorbar": {
           "title": {
            "text": "Trial"
           },
           "x": 1,
           "xpad": 40
          },
          "colorscale": [
           [
            0,
            "rgb(247,251,255)"
           ],
           [
            0.125,
            "rgb(222,235,247)"
           ],
           [
            0.25,
            "rgb(198,219,239)"
           ],
           [
            0.375,
            "rgb(158,202,225)"
           ],
           [
            0.5,
            "rgb(107,174,214)"
           ],
           [
            0.625,
            "rgb(66,146,198)"
           ],
           [
            0.75,
            "rgb(33,113,181)"
           ],
           [
            0.875,
            "rgb(8,81,156)"
           ],
           [
            1,
            "rgb(8,48,107)"
           ]
          ],
          "line": {
           "color": "Grey",
           "width": 0.5
          },
          "showscale": false
         },
         "mode": "markers",
         "name": "Feasible Trial",
         "showlegend": false,
         "type": "scatter",
         "x": [
          4,
          10
         ],
         "xaxis": "x5",
         "y": [
          0.3487144357188468,
          0.9564130936780153
         ],
         "yaxis": "y5"
        },
        {
         "marker": {
          "color": [
           0,
           1
          ],
          "colorbar": {
           "title": {
            "text": "Trial"
           },
           "x": 1,
           "xpad": 40
          },
          "colorscale": [
           [
            0,
            "rgb(247,251,255)"
           ],
           [
            0.125,
            "rgb(222,235,247)"
           ],
           [
            0.25,
            "rgb(198,219,239)"
           ],
           [
            0.375,
            "rgb(158,202,225)"
           ],
           [
            0.5,
            "rgb(107,174,214)"
           ],
           [
            0.625,
            "rgb(66,146,198)"
           ],
           [
            0.75,
            "rgb(33,113,181)"
           ],
           [
            0.875,
            "rgb(8,81,156)"
           ],
           [
            1,
            "rgb(8,48,107)"
           ]
          ],
          "line": {
           "color": "Grey",
           "width": 0.5
          },
          "showscale": false
         },
         "mode": "markers",
         "name": "Feasible Trial",
         "showlegend": false,
         "type": "scatter",
         "x": [
          4,
          14
         ],
         "xaxis": "x6",
         "y": [
          0.3487144357188468,
          0.9564130936780153
         ],
         "yaxis": "y6"
        },
        {
         "marker": {
          "color": [
           0,
           1
          ],
          "colorbar": {
           "title": {
            "text": "Trial"
           },
           "x": 1,
           "xpad": 40
          },
          "colorscale": [
           [
            0,
            "rgb(247,251,255)"
           ],
           [
            0.125,
            "rgb(222,235,247)"
           ],
           [
            0.25,
            "rgb(198,219,239)"
           ],
           [
            0.375,
            "rgb(158,202,225)"
           ],
           [
            0.5,
            "rgb(107,174,214)"
           ],
           [
            0.625,
            "rgb(66,146,198)"
           ],
           [
            0.75,
            "rgb(33,113,181)"
           ],
           [
            0.875,
            "rgb(8,81,156)"
           ],
           [
            1,
            "rgb(8,48,107)"
           ]
          ],
          "line": {
           "color": "Grey",
           "width": 0.5
          },
          "showscale": false
         },
         "mode": "markers",
         "name": "Feasible Trial",
         "showlegend": false,
         "type": "scatter",
         "x": [
          8,
          14
         ],
         "xaxis": "x7",
         "y": [
          0.3487144357188468,
          0.9564130936780153
         ],
         "yaxis": "y7"
        },
        {
         "marker": {
          "color": [
           0,
           1
          ],
          "colorbar": {
           "title": {
            "text": "Trial"
           },
           "x": 1,
           "xpad": 40
          },
          "colorscale": [
           [
            0,
            "rgb(247,251,255)"
           ],
           [
            0.125,
            "rgb(222,235,247)"
           ],
           [
            0.25,
            "rgb(198,219,239)"
           ],
           [
            0.375,
            "rgb(158,202,225)"
           ],
           [
            0.5,
            "rgb(107,174,214)"
           ],
           [
            0.625,
            "rgb(66,146,198)"
           ],
           [
            0.75,
            "rgb(33,113,181)"
           ],
           [
            0.875,
            "rgb(8,81,156)"
           ],
           [
            1,
            "rgb(8,48,107)"
           ]
          ],
          "line": {
           "color": "Grey",
           "width": 0.5
          },
          "showscale": false
         },
         "mode": "markers",
         "name": "Feasible Trial",
         "showlegend": false,
         "type": "scatter",
         "x": [
          0.95,
          0.75
         ],
         "xaxis": "x8",
         "y": [
          0.3487144357188468,
          0.9564130936780153
         ],
         "yaxis": "y8"
        }
       ],
       "layout": {
        "template": {
         "data": {
          "bar": [
           {
            "error_x": {
             "color": "#2a3f5f"
            },
            "error_y": {
             "color": "#2a3f5f"
            },
            "marker": {
             "line": {
              "color": "#E5ECF6",
              "width": 0.5
             },
             "pattern": {
              "fillmode": "overlay",
              "size": 10,
              "solidity": 0.2
             }
            },
            "type": "bar"
           }
          ],
          "barpolar": [
           {
            "marker": {
             "line": {
              "color": "#E5ECF6",
              "width": 0.5
             },
             "pattern": {
              "fillmode": "overlay",
              "size": 10,
              "solidity": 0.2
             }
            },
            "type": "barpolar"
           }
          ],
          "carpet": [
           {
            "aaxis": {
             "endlinecolor": "#2a3f5f",
             "gridcolor": "white",
             "linecolor": "white",
             "minorgridcolor": "white",
             "startlinecolor": "#2a3f5f"
            },
            "baxis": {
             "endlinecolor": "#2a3f5f",
             "gridcolor": "white",
             "linecolor": "white",
             "minorgridcolor": "white",
             "startlinecolor": "#2a3f5f"
            },
            "type": "carpet"
           }
          ],
          "choropleth": [
           {
            "colorbar": {
             "outlinewidth": 0,
             "ticks": ""
            },
            "type": "choropleth"
           }
          ],
          "contour": [
           {
            "colorbar": {
             "outlinewidth": 0,
             "ticks": ""
            },
            "colorscale": [
             [
              0,
              "#0d0887"
             ],
             [
              0.1111111111111111,
              "#46039f"
             ],
             [
              0.2222222222222222,
              "#7201a8"
             ],
             [
              0.3333333333333333,
              "#9c179e"
             ],
             [
              0.4444444444444444,
              "#bd3786"
             ],
             [
              0.5555555555555556,
              "#d8576b"
             ],
             [
              0.6666666666666666,
              "#ed7953"
             ],
             [
              0.7777777777777778,
              "#fb9f3a"
             ],
             [
              0.8888888888888888,
              "#fdca26"
             ],
             [
              1,
              "#f0f921"
             ]
            ],
            "type": "contour"
           }
          ],
          "contourcarpet": [
           {
            "colorbar": {
             "outlinewidth": 0,
             "ticks": ""
            },
            "type": "contourcarpet"
           }
          ],
          "heatmap": [
           {
            "colorbar": {
             "outlinewidth": 0,
             "ticks": ""
            },
            "colorscale": [
             [
              0,
              "#0d0887"
             ],
             [
              0.1111111111111111,
              "#46039f"
             ],
             [
              0.2222222222222222,
              "#7201a8"
             ],
             [
              0.3333333333333333,
              "#9c179e"
             ],
             [
              0.4444444444444444,
              "#bd3786"
             ],
             [
              0.5555555555555556,
              "#d8576b"
             ],
             [
              0.6666666666666666,
              "#ed7953"
             ],
             [
              0.7777777777777778,
              "#fb9f3a"
             ],
             [
              0.8888888888888888,
              "#fdca26"
             ],
             [
              1,
              "#f0f921"
             ]
            ],
            "type": "heatmap"
           }
          ],
          "heatmapgl": [
           {
            "colorbar": {
             "outlinewidth": 0,
             "ticks": ""
            },
            "colorscale": [
             [
              0,
              "#0d0887"
             ],
             [
              0.1111111111111111,
              "#46039f"
             ],
             [
              0.2222222222222222,
              "#7201a8"
             ],
             [
              0.3333333333333333,
              "#9c179e"
             ],
             [
              0.4444444444444444,
              "#bd3786"
             ],
             [
              0.5555555555555556,
              "#d8576b"
             ],
             [
              0.6666666666666666,
              "#ed7953"
             ],
             [
              0.7777777777777778,
              "#fb9f3a"
             ],
             [
              0.8888888888888888,
              "#fdca26"
             ],
             [
              1,
              "#f0f921"
             ]
            ],
            "type": "heatmapgl"
           }
          ],
          "histogram": [
           {
            "marker": {
             "pattern": {
              "fillmode": "overlay",
              "size": 10,
              "solidity": 0.2
             }
            },
            "type": "histogram"
           }
          ],
          "histogram2d": [
           {
            "colorbar": {
             "outlinewidth": 0,
             "ticks": ""
            },
            "colorscale": [
             [
              0,
              "#0d0887"
             ],
             [
              0.1111111111111111,
              "#46039f"
             ],
             [
              0.2222222222222222,
              "#7201a8"
             ],
             [
              0.3333333333333333,
              "#9c179e"
             ],
             [
              0.4444444444444444,
              "#bd3786"
             ],
             [
              0.5555555555555556,
              "#d8576b"
             ],
             [
              0.6666666666666666,
              "#ed7953"
             ],
             [
              0.7777777777777778,
              "#fb9f3a"
             ],
             [
              0.8888888888888888,
              "#fdca26"
             ],
             [
              1,
              "#f0f921"
             ]
            ],
            "type": "histogram2d"
           }
          ],
          "histogram2dcontour": [
           {
            "colorbar": {
             "outlinewidth": 0,
             "ticks": ""
            },
            "colorscale": [
             [
              0,
              "#0d0887"
             ],
             [
              0.1111111111111111,
              "#46039f"
             ],
             [
              0.2222222222222222,
              "#7201a8"
             ],
             [
              0.3333333333333333,
              "#9c179e"
             ],
             [
              0.4444444444444444,
              "#bd3786"
             ],
             [
              0.5555555555555556,
              "#d8576b"
             ],
             [
              0.6666666666666666,
              "#ed7953"
             ],
             [
              0.7777777777777778,
              "#fb9f3a"
             ],
             [
              0.8888888888888888,
              "#fdca26"
             ],
             [
              1,
              "#f0f921"
             ]
            ],
            "type": "histogram2dcontour"
           }
          ],
          "mesh3d": [
           {
            "colorbar": {
             "outlinewidth": 0,
             "ticks": ""
            },
            "type": "mesh3d"
           }
          ],
          "parcoords": [
           {
            "line": {
             "colorbar": {
              "outlinewidth": 0,
              "ticks": ""
             }
            },
            "type": "parcoords"
           }
          ],
          "pie": [
           {
            "automargin": true,
            "type": "pie"
           }
          ],
          "scatter": [
           {
            "fillpattern": {
             "fillmode": "overlay",
             "size": 10,
             "solidity": 0.2
            },
            "type": "scatter"
           }
          ],
          "scatter3d": [
           {
            "line": {
             "colorbar": {
              "outlinewidth": 0,
              "ticks": ""
             }
            },
            "marker": {
             "colorbar": {
              "outlinewidth": 0,
              "ticks": ""
             }
            },
            "type": "scatter3d"
           }
          ],
          "scattercarpet": [
           {
            "marker": {
             "colorbar": {
              "outlinewidth": 0,
              "ticks": ""
             }
            },
            "type": "scattercarpet"
           }
          ],
          "scattergeo": [
           {
            "marker": {
             "colorbar": {
              "outlinewidth": 0,
              "ticks": ""
             }
            },
            "type": "scattergeo"
           }
          ],
          "scattergl": [
           {
            "marker": {
             "colorbar": {
              "outlinewidth": 0,
              "ticks": ""
             }
            },
            "type": "scattergl"
           }
          ],
          "scattermapbox": [
           {
            "marker": {
             "colorbar": {
              "outlinewidth": 0,
              "ticks": ""
             }
            },
            "type": "scattermapbox"
           }
          ],
          "scatterpolar": [
           {
            "marker": {
             "colorbar": {
              "outlinewidth": 0,
              "ticks": ""
             }
            },
            "type": "scatterpolar"
           }
          ],
          "scatterpolargl": [
           {
            "marker": {
             "colorbar": {
              "outlinewidth": 0,
              "ticks": ""
             }
            },
            "type": "scatterpolargl"
           }
          ],
          "scatterternary": [
           {
            "marker": {
             "colorbar": {
              "outlinewidth": 0,
              "ticks": ""
             }
            },
            "type": "scatterternary"
           }
          ],
          "surface": [
           {
            "colorbar": {
             "outlinewidth": 0,
             "ticks": ""
            },
            "colorscale": [
             [
              0,
              "#0d0887"
             ],
             [
              0.1111111111111111,
              "#46039f"
             ],
             [
              0.2222222222222222,
              "#7201a8"
             ],
             [
              0.3333333333333333,
              "#9c179e"
             ],
             [
              0.4444444444444444,
              "#bd3786"
             ],
             [
              0.5555555555555556,
              "#d8576b"
             ],
             [
              0.6666666666666666,
              "#ed7953"
             ],
             [
              0.7777777777777778,
              "#fb9f3a"
             ],
             [
              0.8888888888888888,
              "#fdca26"
             ],
             [
              1,
              "#f0f921"
             ]
            ],
            "type": "surface"
           }
          ],
          "table": [
           {
            "cells": {
             "fill": {
              "color": "#EBF0F8"
             },
             "line": {
              "color": "white"
             }
            },
            "header": {
             "fill": {
              "color": "#C8D4E3"
             },
             "line": {
              "color": "white"
             }
            },
            "type": "table"
           }
          ]
         },
         "layout": {
          "annotationdefaults": {
           "arrowcolor": "#2a3f5f",
           "arrowhead": 0,
           "arrowwidth": 1
          },
          "autotypenumbers": "strict",
          "coloraxis": {
           "colorbar": {
            "outlinewidth": 0,
            "ticks": ""
           }
          },
          "colorscale": {
           "diverging": [
            [
             0,
             "#8e0152"
            ],
            [
             0.1,
             "#c51b7d"
            ],
            [
             0.2,
             "#de77ae"
            ],
            [
             0.3,
             "#f1b6da"
            ],
            [
             0.4,
             "#fde0ef"
            ],
            [
             0.5,
             "#f7f7f7"
            ],
            [
             0.6,
             "#e6f5d0"
            ],
            [
             0.7,
             "#b8e186"
            ],
            [
             0.8,
             "#7fbc41"
            ],
            [
             0.9,
             "#4d9221"
            ],
            [
             1,
             "#276419"
            ]
           ],
           "sequential": [
            [
             0,
             "#0d0887"
            ],
            [
             0.1111111111111111,
             "#46039f"
            ],
            [
             0.2222222222222222,
             "#7201a8"
            ],
            [
             0.3333333333333333,
             "#9c179e"
            ],
            [
             0.4444444444444444,
             "#bd3786"
            ],
            [
             0.5555555555555556,
             "#d8576b"
            ],
            [
             0.6666666666666666,
             "#ed7953"
            ],
            [
             0.7777777777777778,
             "#fb9f3a"
            ],
            [
             0.8888888888888888,
             "#fdca26"
            ],
            [
             1,
             "#f0f921"
            ]
           ],
           "sequentialminus": [
            [
             0,
             "#0d0887"
            ],
            [
             0.1111111111111111,
             "#46039f"
            ],
            [
             0.2222222222222222,
             "#7201a8"
            ],
            [
             0.3333333333333333,
             "#9c179e"
            ],
            [
             0.4444444444444444,
             "#bd3786"
            ],
            [
             0.5555555555555556,
             "#d8576b"
            ],
            [
             0.6666666666666666,
             "#ed7953"
            ],
            [
             0.7777777777777778,
             "#fb9f3a"
            ],
            [
             0.8888888888888888,
             "#fdca26"
            ],
            [
             1,
             "#f0f921"
            ]
           ]
          },
          "colorway": [
           "#636efa",
           "#EF553B",
           "#00cc96",
           "#ab63fa",
           "#FFA15A",
           "#19d3f3",
           "#FF6692",
           "#B6E880",
           "#FF97FF",
           "#FECB52"
          ],
          "font": {
           "color": "#2a3f5f"
          },
          "geo": {
           "bgcolor": "white",
           "lakecolor": "white",
           "landcolor": "#E5ECF6",
           "showlakes": true,
           "showland": true,
           "subunitcolor": "white"
          },
          "hoverlabel": {
           "align": "left"
          },
          "hovermode": "closest",
          "mapbox": {
           "style": "light"
          },
          "paper_bgcolor": "white",
          "plot_bgcolor": "#E5ECF6",
          "polar": {
           "angularaxis": {
            "gridcolor": "white",
            "linecolor": "white",
            "ticks": ""
           },
           "bgcolor": "#E5ECF6",
           "radialaxis": {
            "gridcolor": "white",
            "linecolor": "white",
            "ticks": ""
           }
          },
          "scene": {
           "xaxis": {
            "backgroundcolor": "#E5ECF6",
            "gridcolor": "white",
            "gridwidth": 2,
            "linecolor": "white",
            "showbackground": true,
            "ticks": "",
            "zerolinecolor": "white"
           },
           "yaxis": {
            "backgroundcolor": "#E5ECF6",
            "gridcolor": "white",
            "gridwidth": 2,
            "linecolor": "white",
            "showbackground": true,
            "ticks": "",
            "zerolinecolor": "white"
           },
           "zaxis": {
            "backgroundcolor": "#E5ECF6",
            "gridcolor": "white",
            "gridwidth": 2,
            "linecolor": "white",
            "showbackground": true,
            "ticks": "",
            "zerolinecolor": "white"
           }
          },
          "shapedefaults": {
           "line": {
            "color": "#2a3f5f"
           }
          },
          "ternary": {
           "aaxis": {
            "gridcolor": "white",
            "linecolor": "white",
            "ticks": ""
           },
           "baxis": {
            "gridcolor": "white",
            "linecolor": "white",
            "ticks": ""
           },
           "bgcolor": "#E5ECF6",
           "caxis": {
            "gridcolor": "white",
            "linecolor": "white",
            "ticks": ""
           }
          },
          "title": {
           "x": 0.05
          },
          "xaxis": {
           "automargin": true,
           "gridcolor": "white",
           "linecolor": "white",
           "ticks": "",
           "title": {
            "standoff": 15
           },
           "zerolinecolor": "white",
           "zerolinewidth": 2
          },
          "yaxis": {
           "automargin": true,
           "gridcolor": "white",
           "linecolor": "white",
           "ticks": "",
           "title": {
            "standoff": 15
           },
           "zerolinecolor": "white",
           "zerolinewidth": 2
          }
         }
        },
        "title": {
         "text": "Slice Plot"
        },
        "width": 2400,
        "xaxis": {
         "anchor": "y",
         "domain": [
          0,
          0.103125
         ],
         "title": {
          "text": "colsample_bytree"
         }
        },
        "xaxis2": {
         "anchor": "y2",
         "domain": [
          0.128125,
          0.23124999999999998
         ],
         "title": {
          "text": "eta"
         },
         "type": "log"
        },
        "xaxis3": {
         "anchor": "y3",
         "domain": [
          0.25625,
          0.359375
         ],
         "title": {
          "text": "gamma"
         }
        },
        "xaxis4": {
         "anchor": "y4",
         "domain": [
          0.38437499999999997,
          0.48749999999999993
         ],
         "title": {
          "text": "max_depth"
         }
        },
        "xaxis5": {
         "anchor": "y5",
         "domain": [
          0.5125,
          0.615625
         ],
         "title": {
          "text": "min_child_weight"
         }
        },
        "xaxis6": {
         "anchor": "y6",
         "domain": [
          0.640625,
          0.74375
         ],
         "title": {
          "text": "reg_alpha"
         }
        },
        "xaxis7": {
         "anchor": "y7",
         "domain": [
          0.76875,
          0.8718750000000001
         ],
         "title": {
          "text": "reg_lambda"
         }
        },
        "xaxis8": {
         "anchor": "y8",
         "domain": [
          0.8968750000000001,
          1
         ],
         "title": {
          "text": "subsample"
         }
        },
        "yaxis": {
         "anchor": "x",
         "domain": [
          0,
          1
         ],
         "title": {
          "text": "Objective Value"
         }
        },
        "yaxis2": {
         "anchor": "x2",
         "domain": [
          0,
          1
         ],
         "matches": "y",
         "showticklabels": false
        },
        "yaxis3": {
         "anchor": "x3",
         "domain": [
          0,
          1
         ],
         "matches": "y",
         "showticklabels": false
        },
        "yaxis4": {
         "anchor": "x4",
         "domain": [
          0,
          1
         ],
         "matches": "y",
         "showticklabels": false
        },
        "yaxis5": {
         "anchor": "x5",
         "domain": [
          0,
          1
         ],
         "matches": "y",
         "showticklabels": false
        },
        "yaxis6": {
         "anchor": "x6",
         "domain": [
          0,
          1
         ],
         "matches": "y",
         "showticklabels": false
        },
        "yaxis7": {
         "anchor": "x7",
         "domain": [
          0,
          1
         ],
         "matches": "y",
         "showticklabels": false
        },
        "yaxis8": {
         "anchor": "x8",
         "domain": [
          0,
          1
         ],
         "matches": "y",
         "showticklabels": false
        }
       }
      }
     },
     "metadata": {},
     "output_type": "display_data"
    },
    {
     "data": {
      "application/vnd.plotly.v1+json": {
       "config": {
        "plotlyServerURL": "https://plot.ly"
       },
       "data": [
        {
         "cliponaxis": false,
         "hovertemplate": [
          "eta (FloatDistribution): 0.0<extra></extra>",
          "gamma (IntDistribution): 0.0<extra></extra>",
          "subsample (FloatDistribution): 0.0<extra></extra>",
          "reg_lambda (IntDistribution): 0.11764705882352944<extra></extra>",
          "max_depth (IntDistribution): 0.20588235294117646<extra></extra>",
          "colsample_bytree (FloatDistribution): 0.20588235294117652<extra></extra>",
          "min_child_weight (IntDistribution): 0.23529411764705882<extra></extra>",
          "reg_alpha (IntDistribution): 0.23529411764705882<extra></extra>"
         ],
         "name": "Objective Value",
         "orientation": "h",
         "text": [
          "<0.01",
          "<0.01",
          "<0.01",
          "0.12",
          "0.21",
          "0.21",
          "0.24",
          "0.24"
         ],
         "textposition": "outside",
         "type": "bar",
         "x": [
          0,
          0,
          0,
          0.11764705882352944,
          0.20588235294117646,
          0.20588235294117652,
          0.23529411764705882,
          0.23529411764705882
         ],
         "y": [
          "eta",
          "gamma",
          "subsample",
          "reg_lambda",
          "max_depth",
          "colsample_bytree",
          "min_child_weight",
          "reg_alpha"
         ]
        }
       ],
       "layout": {
        "template": {
         "data": {
          "bar": [
           {
            "error_x": {
             "color": "#2a3f5f"
            },
            "error_y": {
             "color": "#2a3f5f"
            },
            "marker": {
             "line": {
              "color": "#E5ECF6",
              "width": 0.5
             },
             "pattern": {
              "fillmode": "overlay",
              "size": 10,
              "solidity": 0.2
             }
            },
            "type": "bar"
           }
          ],
          "barpolar": [
           {
            "marker": {
             "line": {
              "color": "#E5ECF6",
              "width": 0.5
             },
             "pattern": {
              "fillmode": "overlay",
              "size": 10,
              "solidity": 0.2
             }
            },
            "type": "barpolar"
           }
          ],
          "carpet": [
           {
            "aaxis": {
             "endlinecolor": "#2a3f5f",
             "gridcolor": "white",
             "linecolor": "white",
             "minorgridcolor": "white",
             "startlinecolor": "#2a3f5f"
            },
            "baxis": {
             "endlinecolor": "#2a3f5f",
             "gridcolor": "white",
             "linecolor": "white",
             "minorgridcolor": "white",
             "startlinecolor": "#2a3f5f"
            },
            "type": "carpet"
           }
          ],
          "choropleth": [
           {
            "colorbar": {
             "outlinewidth": 0,
             "ticks": ""
            },
            "type": "choropleth"
           }
          ],
          "contour": [
           {
            "colorbar": {
             "outlinewidth": 0,
             "ticks": ""
            },
            "colorscale": [
             [
              0,
              "#0d0887"
             ],
             [
              0.1111111111111111,
              "#46039f"
             ],
             [
              0.2222222222222222,
              "#7201a8"
             ],
             [
              0.3333333333333333,
              "#9c179e"
             ],
             [
              0.4444444444444444,
              "#bd3786"
             ],
             [
              0.5555555555555556,
              "#d8576b"
             ],
             [
              0.6666666666666666,
              "#ed7953"
             ],
             [
              0.7777777777777778,
              "#fb9f3a"
             ],
             [
              0.8888888888888888,
              "#fdca26"
             ],
             [
              1,
              "#f0f921"
             ]
            ],
            "type": "contour"
           }
          ],
          "contourcarpet": [
           {
            "colorbar": {
             "outlinewidth": 0,
             "ticks": ""
            },
            "type": "contourcarpet"
           }
          ],
          "heatmap": [
           {
            "colorbar": {
             "outlinewidth": 0,
             "ticks": ""
            },
            "colorscale": [
             [
              0,
              "#0d0887"
             ],
             [
              0.1111111111111111,
              "#46039f"
             ],
             [
              0.2222222222222222,
              "#7201a8"
             ],
             [
              0.3333333333333333,
              "#9c179e"
             ],
             [
              0.4444444444444444,
              "#bd3786"
             ],
             [
              0.5555555555555556,
              "#d8576b"
             ],
             [
              0.6666666666666666,
              "#ed7953"
             ],
             [
              0.7777777777777778,
              "#fb9f3a"
             ],
             [
              0.8888888888888888,
              "#fdca26"
             ],
             [
              1,
              "#f0f921"
             ]
            ],
            "type": "heatmap"
           }
          ],
          "heatmapgl": [
           {
            "colorbar": {
             "outlinewidth": 0,
             "ticks": ""
            },
            "colorscale": [
             [
              0,
              "#0d0887"
             ],
             [
              0.1111111111111111,
              "#46039f"
             ],
             [
              0.2222222222222222,
              "#7201a8"
             ],
             [
              0.3333333333333333,
              "#9c179e"
             ],
             [
              0.4444444444444444,
              "#bd3786"
             ],
             [
              0.5555555555555556,
              "#d8576b"
             ],
             [
              0.6666666666666666,
              "#ed7953"
             ],
             [
              0.7777777777777778,
              "#fb9f3a"
             ],
             [
              0.8888888888888888,
              "#fdca26"
             ],
             [
              1,
              "#f0f921"
             ]
            ],
            "type": "heatmapgl"
           }
          ],
          "histogram": [
           {
            "marker": {
             "pattern": {
              "fillmode": "overlay",
              "size": 10,
              "solidity": 0.2
             }
            },
            "type": "histogram"
           }
          ],
          "histogram2d": [
           {
            "colorbar": {
             "outlinewidth": 0,
             "ticks": ""
            },
            "colorscale": [
             [
              0,
              "#0d0887"
             ],
             [
              0.1111111111111111,
              "#46039f"
             ],
             [
              0.2222222222222222,
              "#7201a8"
             ],
             [
              0.3333333333333333,
              "#9c179e"
             ],
             [
              0.4444444444444444,
              "#bd3786"
             ],
             [
              0.5555555555555556,
              "#d8576b"
             ],
             [
              0.6666666666666666,
              "#ed7953"
             ],
             [
              0.7777777777777778,
              "#fb9f3a"
             ],
             [
              0.8888888888888888,
              "#fdca26"
             ],
             [
              1,
              "#f0f921"
             ]
            ],
            "type": "histogram2d"
           }
          ],
          "histogram2dcontour": [
           {
            "colorbar": {
             "outlinewidth": 0,
             "ticks": ""
            },
            "colorscale": [
             [
              0,
              "#0d0887"
             ],
             [
              0.1111111111111111,
              "#46039f"
             ],
             [
              0.2222222222222222,
              "#7201a8"
             ],
             [
              0.3333333333333333,
              "#9c179e"
             ],
             [
              0.4444444444444444,
              "#bd3786"
             ],
             [
              0.5555555555555556,
              "#d8576b"
             ],
             [
              0.6666666666666666,
              "#ed7953"
             ],
             [
              0.7777777777777778,
              "#fb9f3a"
             ],
             [
              0.8888888888888888,
              "#fdca26"
             ],
             [
              1,
              "#f0f921"
             ]
            ],
            "type": "histogram2dcontour"
           }
          ],
          "mesh3d": [
           {
            "colorbar": {
             "outlinewidth": 0,
             "ticks": ""
            },
            "type": "mesh3d"
           }
          ],
          "parcoords": [
           {
            "line": {
             "colorbar": {
              "outlinewidth": 0,
              "ticks": ""
             }
            },
            "type": "parcoords"
           }
          ],
          "pie": [
           {
            "automargin": true,
            "type": "pie"
           }
          ],
          "scatter": [
           {
            "fillpattern": {
             "fillmode": "overlay",
             "size": 10,
             "solidity": 0.2
            },
            "type": "scatter"
           }
          ],
          "scatter3d": [
           {
            "line": {
             "colorbar": {
              "outlinewidth": 0,
              "ticks": ""
             }
            },
            "marker": {
             "colorbar": {
              "outlinewidth": 0,
              "ticks": ""
             }
            },
            "type": "scatter3d"
           }
          ],
          "scattercarpet": [
           {
            "marker": {
             "colorbar": {
              "outlinewidth": 0,
              "ticks": ""
             }
            },
            "type": "scattercarpet"
           }
          ],
          "scattergeo": [
           {
            "marker": {
             "colorbar": {
              "outlinewidth": 0,
              "ticks": ""
             }
            },
            "type": "scattergeo"
           }
          ],
          "scattergl": [
           {
            "marker": {
             "colorbar": {
              "outlinewidth": 0,
              "ticks": ""
             }
            },
            "type": "scattergl"
           }
          ],
          "scattermapbox": [
           {
            "marker": {
             "colorbar": {
              "outlinewidth": 0,
              "ticks": ""
             }
            },
            "type": "scattermapbox"
           }
          ],
          "scatterpolar": [
           {
            "marker": {
             "colorbar": {
              "outlinewidth": 0,
              "ticks": ""
             }
            },
            "type": "scatterpolar"
           }
          ],
          "scatterpolargl": [
           {
            "marker": {
             "colorbar": {
              "outlinewidth": 0,
              "ticks": ""
             }
            },
            "type": "scatterpolargl"
           }
          ],
          "scatterternary": [
           {
            "marker": {
             "colorbar": {
              "outlinewidth": 0,
              "ticks": ""
             }
            },
            "type": "scatterternary"
           }
          ],
          "surface": [
           {
            "colorbar": {
             "outlinewidth": 0,
             "ticks": ""
            },
            "colorscale": [
             [
              0,
              "#0d0887"
             ],
             [
              0.1111111111111111,
              "#46039f"
             ],
             [
              0.2222222222222222,
              "#7201a8"
             ],
             [
              0.3333333333333333,
              "#9c179e"
             ],
             [
              0.4444444444444444,
              "#bd3786"
             ],
             [
              0.5555555555555556,
              "#d8576b"
             ],
             [
              0.6666666666666666,
              "#ed7953"
             ],
             [
              0.7777777777777778,
              "#fb9f3a"
             ],
             [
              0.8888888888888888,
              "#fdca26"
             ],
             [
              1,
              "#f0f921"
             ]
            ],
            "type": "surface"
           }
          ],
          "table": [
           {
            "cells": {
             "fill": {
              "color": "#EBF0F8"
             },
             "line": {
              "color": "white"
             }
            },
            "header": {
             "fill": {
              "color": "#C8D4E3"
             },
             "line": {
              "color": "white"
             }
            },
            "type": "table"
           }
          ]
         },
         "layout": {
          "annotationdefaults": {
           "arrowcolor": "#2a3f5f",
           "arrowhead": 0,
           "arrowwidth": 1
          },
          "autotypenumbers": "strict",
          "coloraxis": {
           "colorbar": {
            "outlinewidth": 0,
            "ticks": ""
           }
          },
          "colorscale": {
           "diverging": [
            [
             0,
             "#8e0152"
            ],
            [
             0.1,
             "#c51b7d"
            ],
            [
             0.2,
             "#de77ae"
            ],
            [
             0.3,
             "#f1b6da"
            ],
            [
             0.4,
             "#fde0ef"
            ],
            [
             0.5,
             "#f7f7f7"
            ],
            [
             0.6,
             "#e6f5d0"
            ],
            [
             0.7,
             "#b8e186"
            ],
            [
             0.8,
             "#7fbc41"
            ],
            [
             0.9,
             "#4d9221"
            ],
            [
             1,
             "#276419"
            ]
           ],
           "sequential": [
            [
             0,
             "#0d0887"
            ],
            [
             0.1111111111111111,
             "#46039f"
            ],
            [
             0.2222222222222222,
             "#7201a8"
            ],
            [
             0.3333333333333333,
             "#9c179e"
            ],
            [
             0.4444444444444444,
             "#bd3786"
            ],
            [
             0.5555555555555556,
             "#d8576b"
            ],
            [
             0.6666666666666666,
             "#ed7953"
            ],
            [
             0.7777777777777778,
             "#fb9f3a"
            ],
            [
             0.8888888888888888,
             "#fdca26"
            ],
            [
             1,
             "#f0f921"
            ]
           ],
           "sequentialminus": [
            [
             0,
             "#0d0887"
            ],
            [
             0.1111111111111111,
             "#46039f"
            ],
            [
             0.2222222222222222,
             "#7201a8"
            ],
            [
             0.3333333333333333,
             "#9c179e"
            ],
            [
             0.4444444444444444,
             "#bd3786"
            ],
            [
             0.5555555555555556,
             "#d8576b"
            ],
            [
             0.6666666666666666,
             "#ed7953"
            ],
            [
             0.7777777777777778,
             "#fb9f3a"
            ],
            [
             0.8888888888888888,
             "#fdca26"
            ],
            [
             1,
             "#f0f921"
            ]
           ]
          },
          "colorway": [
           "#636efa",
           "#EF553B",
           "#00cc96",
           "#ab63fa",
           "#FFA15A",
           "#19d3f3",
           "#FF6692",
           "#B6E880",
           "#FF97FF",
           "#FECB52"
          ],
          "font": {
           "color": "#2a3f5f"
          },
          "geo": {
           "bgcolor": "white",
           "lakecolor": "white",
           "landcolor": "#E5ECF6",
           "showlakes": true,
           "showland": true,
           "subunitcolor": "white"
          },
          "hoverlabel": {
           "align": "left"
          },
          "hovermode": "closest",
          "mapbox": {
           "style": "light"
          },
          "paper_bgcolor": "white",
          "plot_bgcolor": "#E5ECF6",
          "polar": {
           "angularaxis": {
            "gridcolor": "white",
            "linecolor": "white",
            "ticks": ""
           },
           "bgcolor": "#E5ECF6",
           "radialaxis": {
            "gridcolor": "white",
            "linecolor": "white",
            "ticks": ""
           }
          },
          "scene": {
           "xaxis": {
            "backgroundcolor": "#E5ECF6",
            "gridcolor": "white",
            "gridwidth": 2,
            "linecolor": "white",
            "showbackground": true,
            "ticks": "",
            "zerolinecolor": "white"
           },
           "yaxis": {
            "backgroundcolor": "#E5ECF6",
            "gridcolor": "white",
            "gridwidth": 2,
            "linecolor": "white",
            "showbackground": true,
            "ticks": "",
            "zerolinecolor": "white"
           },
           "zaxis": {
            "backgroundcolor": "#E5ECF6",
            "gridcolor": "white",
            "gridwidth": 2,
            "linecolor": "white",
            "showbackground": true,
            "ticks": "",
            "zerolinecolor": "white"
           }
          },
          "shapedefaults": {
           "line": {
            "color": "#2a3f5f"
           }
          },
          "ternary": {
           "aaxis": {
            "gridcolor": "white",
            "linecolor": "white",
            "ticks": ""
           },
           "baxis": {
            "gridcolor": "white",
            "linecolor": "white",
            "ticks": ""
           },
           "bgcolor": "#E5ECF6",
           "caxis": {
            "gridcolor": "white",
            "linecolor": "white",
            "ticks": ""
           }
          },
          "title": {
           "x": 0.05
          },
          "xaxis": {
           "automargin": true,
           "gridcolor": "white",
           "linecolor": "white",
           "ticks": "",
           "title": {
            "standoff": 15
           },
           "zerolinecolor": "white",
           "zerolinewidth": 2
          },
          "yaxis": {
           "automargin": true,
           "gridcolor": "white",
           "linecolor": "white",
           "ticks": "",
           "title": {
            "standoff": 15
           },
           "zerolinecolor": "white",
           "zerolinewidth": 2
          }
         }
        },
        "title": {
         "text": "Hyperparameter Importances"
        },
        "xaxis": {
         "title": {
          "text": "Hyperparameter Importance"
         }
        },
        "yaxis": {
         "title": {
          "text": "Hyperparameter"
         }
        }
       }
      }
     },
     "metadata": {},
     "output_type": "display_data"
    },
    {
     "data": {
      "image/png": "[encoded data removed]",
      "text/plain": [
       "<Figure size 1000x600 with 2 Axes>"
      ]
     },
     "metadata": {},
     "output_type": "display_data"
    },
    {
     "data": {
      "image/png": "[encoded data removed]",
      "text/plain": [
       "<Figure size 1000x600 with 2 Axes>"
      ]
     },
     "metadata": {},
     "output_type": "display_data"
    }
   ],
   "source": [
    "\n",
    "#if __name__ == \"__main__\":\n",
    "\n",
    "#optuna.logging.set_verbosity(optuna.logging.WARNING)\n",
    "# study_name= 'Correct_residual_autocorrrelation_HAR_n_target_lag_feat_n_target_pred'\n",
    "\n",
    "mean_val_set_rmspe_error = [ 0.226999,0.226498,0.226883,0.239605]\n",
    "\n",
    "study = optuna.create_study(study_name ='reduce gaps (variance reduction) in-between target data points, log of jager transform' ,direction=\"minimize\")\n",
    "study.optimize(objective, n_trials=75) # 75\n",
    "\n",
    "pruned_trials = study.get_trials(deepcopy=False, states=[TrialState.PRUNED])\n",
    "complete_trials = study.get_trials(deepcopy=False, states=[TrialState.COMPLETE])\n",
    "\n",
    "print(\"Study statistics: \")\n",
    "print(\"  Number of finished trials: \", len(study.trials))\n",
    "print(\"  Number of pruned trials: \", len(pruned_trials))\n",
    "print(\"  Number of complete trials: \", len(complete_trials))\n",
    "\n",
    "print(\"Best trial:\")\n",
    "trial = study.best_trial\n",
    "\n",
    "print(\"Best number of iteration/boosting rounds: \",study.trials[trial.number].user_attrs['best_iteration'])\n",
    "\n",
    "print(\"Trial no.: \",trial.number)\n",
    "print(\"  Value: \", trial.value)\n",
    "mean_val_set_rmspe_error.append(trial.value)\n",
    "\n",
    "print(\"  Params: \")\n",
    "for key, value in trial.params.items():\n",
    "    print(\"    {}: {}\".format(key, value))\n",
    "\n",
    "#print(\"Best hyperparameters:\", study.best_params)\n",
    "\n",
    "fig = optuna.visualization.plot_parallel_coordinate(study)\n",
    "fig.show()\n",
    "\n",
    "fig = optuna.visualization.plot_optimization_history(study)\n",
    "fig.show()\n",
    "\n",
    "fig = optuna.visualization.plot_slice(study)\n",
    "fig.show()\n",
    "\n",
    "fig = optuna.visualization.plot_param_importances(study)\n",
    "fig.show()\n"
   ]
  },
  {
   "cell_type": "code",
   "execution_count": 18,
   "metadata": {},
   "outputs": [
    {
     "name": "stdout",
     "output_type": "stream",
     "text": [
      "final best iteration:  59\n",
      "Final model\n"
     ]
    },
    {
     "name": "stderr",
     "output_type": "stream",
     "text": [
      "/tmp/ipykernel_84748/2117071494.py:83: SettingWithCopyWarning:\n",
      "\n",
      "\n",
      "A value is trying to be set on a copy of a slice from a DataFrame.\n",
      "Try using .loc[row_indexer,col_indexer] = value instead\n",
      "\n",
      "See the caveats in the documentation: https://pandas.pydata.org/pandas-docs/stable/user_guide/indexing.html#returning-a-view-versus-a-copy\n",
      "\n"
     ]
    }
   ],
   "source": [
    "\n",
    "############ Best parameters Manual Start ############\n",
    "# num_rounds = 1135 #838 #study.trials[trial.number].user_attrs['best_iteration']\n",
    "# max_depth = 17\n",
    "# eta =  0.012302593098587278\n",
    "# subsample =  0.75\n",
    "# colsample_bytree =  0.8\n",
    "# gamma = 0\n",
    "# reg_alpha =  11\n",
    "# reg_lambda = 8\n",
    "# min_child_weight =  6\n",
    "############ Best parameters Manual End ############\n",
    "\n",
    "############ Best parameters Automatic Start ############\n",
    "best_trial = study.best_trial\n",
    "num_rounds = study.best_trial.user_attrs['best_iteration']\n",
    "print('final best iteration: ',num_rounds )\n",
    "seed1 = 11\n",
    "missing_value = -np.inf  # Replace with a suitable value\n",
    "max_depth = best_trial.params['max_depth']\n",
    "eta =  best_trial.params['eta']\n",
    "subsample =  best_trial.params['subsample']\n",
    "colsample_bytree =  best_trial.params['colsample_bytree']\n",
    "gamma =  best_trial.params['gamma']\n",
    "reg_alpha =  best_trial.params['reg_alpha']\n",
    "reg_lambda = best_trial.params['reg_lambda']\n",
    "min_child_weight = best_trial.params['min_child_weight']\n",
    "############ Best parameters Automatic End ############\n",
    "\n",
    "\n",
    "\n",
    "\n",
    "\n",
    "best_mlxtend_xgb_params = [max_depth,eta,subsample,colsample_bytree,gamma,reg_alpha,reg_lambda,min_child_weight,num_rounds]\n",
    "\n",
    "best_params = { 'disable_default_eval_metric': 1,\n",
    "              \"max_depth\": max_depth,\n",
    "            \"eta\": eta,\n",
    "            \"subsample\" : subsample,\n",
    "            \"colsample_bytree\":  colsample_bytree,\n",
    "            'gamma':gamma,\n",
    "            'reg_alpha': reg_alpha,\n",
    "            'reg_lambda': reg_lambda,\n",
    "            'min_child_weight': min_child_weight,\n",
    "            \"tree_method\": 'hist',\n",
    "            \"device\": \"cuda\",\n",
    "            \"seed\":seed1,\n",
    "            #'missing': missing_value\n",
    "               }\n",
    "\n",
    "t_v_t = train_validate_n_test(df_train_reordered, df_test)\n",
    "final_reg,train_pred,test_pred,y_train,X_train,X_test,v1tr,v1ts,w_train,target_name = t_v_t.make_predictions(best_params,num_rounds)\n",
    "#target_name = 'target'\n",
    "\n",
    "train_pred = pd.DataFrame(train_pred).rename(columns={'log_wap1_log_price_ret_vol':'target'})\n",
    "train_pred['time_id'] = df_train_reordered['time_id']\n",
    "train_pred['stock_id'] = df_train_reordered['stock_id']\n",
    "\n",
    "y_train = pd.DataFrame(y_train).rename(columns={'log_wap1_log_price_ret_vol':'target'})\n",
    "y_train['time_id'] = df_train_reordered['time_id']\n",
    "y_train['stock_id'] = df_train_reordered['stock_id']\n",
    "\n",
    "v1tr = pd.DataFrame(v1tr)\n",
    "v1tr['time_id'] = df_train_reordered['time_id']\n",
    "v1tr['stock_id'] = df_train_reordered['stock_id']\n",
    "v1tr['wap1_log_price_ret_vol'] = v1tr['log_wap1_log_price_ret_vol']\n",
    "v1tr.drop(columns=['log_wap1_log_price_ret_vol'], inplace=True)\n",
    "\n",
    "test_pred = pd.DataFrame(test_pred).rename(columns={'log_wap1_log_price_ret_vol':'target'})\n",
    "test_pred['time_id'] = df_test['time_id'].astype(int)\n",
    "test_pred['stock_id'] = df_test['stock_id'].astype(int)\n",
    "\n",
    "## # Merge the DataFrames on 'time_id' and 'stock_id' columns\n",
    "os.chdir('/home/optimusprime/Desktop/peeterson/optiver/Optiver-Realized-Volatility-Prediction/data')\n",
    "#os.chdir('/content/drive/MyDrive/optiver_real_vol/Final Submission/kaggle_submission_versions')\n",
    "\n",
    "v1ts = pd.DataFrame(v1ts)\n",
    "v1ts['time_id'] = df_test['time_id'].astype(int)\n",
    "v1ts['stock_id'] = df_test['stock_id'].astype(int)\n",
    "v1ts['wap1_log_price_ret_vol'] = v1ts['log_wap1_log_price_ret_vol']\n",
    "v1ts.drop(columns=['log_wap1_log_price_ret_vol'], inplace=True)\n",
    "\n",
    "train = pd.read_csv('train.csv')\n",
    "X_test['time_id'] = df_test['time_id']\n",
    "X_test['stock_id'] = df_test['stock_id']\n",
    "y_test_df = pd.merge(X_test[['time_id', 'stock_id']], train[['time_id', 'stock_id', 'target']], on=['time_id', 'stock_id'], how='left')\n",
    "y_test_df['time_id'] = df_test['time_id'].astype(int)\n",
    "y_test_df['stock_id'] = df_test['stock_id'].astype(int)\n",
    "w_test = y_test_df['target'] **-2 * v1ts['wap1_log_price_ret_vol']**2\n",
    "X_test.drop(columns=['time_id'], inplace=True)\n"
   ]
  },
  {
   "cell_type": "code",
   "execution_count": 19,
   "metadata": {},
   "outputs": [
    {
     "name": "stdout",
     "output_type": "stream",
     "text": [
      "\n",
      "####################################### PREDICTION #################################################\n",
      "corr(y_pred/v1ts, y_true/v1ts) 0.44120911388969963\n",
      "log(corr( )) 0.5101752455322898\n",
      "corr(y_pred, y_true) 0.900683959891784\n",
      "log(corr( )) 0.9150971332485942\n",
      "RMSPE train score:  0.34513671229672616\n",
      "RMSPE test score:  0.3502458982606526\n",
      "\n",
      "########################################################################################################################\n",
      "\n",
      "####################################### TRAINING SET predictions START #################################################\n",
      "\n",
      "########################################################################################################################\n",
      "\n",
      "####################################### OVERALL STOCK ANALYSIS START ######################################\n",
      "\n",
      "####################################### OVERALL STOCK ANALYSIS END ######################################\n",
      "\n",
      "############################## INDIVIDUAL STOCK ANALYSIS START #################################\n",
      "\n",
      "############################## INDIVIDUAL STOCK ANALYSIS END #################################\n",
      "\n",
      "############################## OVERALL TIME ANALYSIS START #################################\n",
      "\n",
      "############################## OVERALL TIME ANALYSIS END #################################\n",
      "\n",
      "###################################### Feature importance & SHAPLEY START #########################################\n",
      "\n",
      "#---------------------------------------------compute_global_SHAP_values----------------------------------------------------------------#\n",
      "\n",
      "#-----------------------------------------------------------------------------------------------------------------#\n",
      "\n",
      "#---------------------------------------------analyze_global_SHAP_values----------------------------------------------------------------#\n",
      "\n",
      "#-----------------------------------------------------------------------------------------------------------------#\n",
      "\n",
      "#---------------------------------------------compute_individual_stock_SHAP_values----------------------------------------------------------------#\n",
      "\n",
      "#-----------------------------------------------------------------------------------------------------------------#\n",
      "\n",
      "#---------------------------------------------compute_individual_instance_SHAP_values----------------------------------------------------------------#\n",
      "\n",
      "#-----------------------------------------------------------------------------------------------------------------#\n",
      "\n",
      "###################################### Feature importance & SHAPLEY END #########################################\n",
      "\n",
      "####################################### TRAINING SET predictions END #################################################\n",
      "\n",
      "\n",
      "######################################################################################################################\n",
      "\n",
      "\n",
      "#######################################################################################################################\n",
      "\n",
      "####################################### TESTING SET predictions START #################################################\n",
      "\n",
      "#######################################################################################################################\n",
      "\n",
      "####################################### OVERALL STOCK ANALYSIS START ######################################\n",
      "\n",
      "####################################### OVERALL STOCK ANALYSIS END ######################################\n",
      "\n",
      "############################## INDIVIDUAL STOCK ANALYSIS START #################################\n",
      "\n",
      "############################## INDIVIDUAL STOCK ANALYSIS END #################################\n",
      "\n",
      "############################## OVERALL TIME ANALYSIS START #################################\n",
      "\n",
      "############################## OVERALL TIME ANALYSIS END #################################\n",
      "\n",
      "###################################### TEST Feature importance & SHAPLEY START #########################################\n",
      "\n",
      "#---------------------------------------------compute_global_SHAP_values----------------------------------------------------------------#\n",
      "\n",
      "#-----------------------------------------------------------------------------------------------------------------#\n",
      "\n",
      "#---------------------------------------------analyze_global_SHAP_values----------------------------------------------------------------#\n",
      "\n",
      "#-----------------------------------------------------------------------------------------------------------------#\n",
      "\n",
      "#---------------------------------------------compute_individual_stock_SHAP_values-------------------------------------------------------#\n",
      "\n",
      "#-----------------------------------------------------------------------------------------------------------------#\n",
      "\n",
      "#---------------------------------------------compute_individual_instance_SHAP_values-------------------------------------------------------#\n",
      "\n",
      "#-----------------------------------------------------------------------------------------------------------------#\n",
      "\n",
      "###################################### TEST Feature importance & SHAPLEY END #########################################\n",
      "##################################################################################################\n",
      "\n",
      "####################################### TESTING SET predictions END #################################################\n",
      "\n",
      "\n",
      "####################################### TRAINING AND TESTING SET stocks RMSPE COMPARISON START #################################################\n",
      "##################################################################################################\n",
      "\n",
      "####################################### TRAINING AND TESTING SET stocks RMSPE COMPARISON END #################################################\n",
      "\n",
      "\n",
      "####################################### TRAINING AND TESTING SET stocks DISTRIBUTION COMPARISON START #################################################\n",
      "##################################################################################################\n",
      "\n",
      "####################################### TRAINING AND TESTING SET stocks DISTRIBUTION COMPARISON END #################################################\n",
      "\n",
      "##################################################################################################\n",
      "\n",
      "################## time_id RMSPE COMPARISON between groundtruth and prediction on train set START ########################\n",
      "\n",
      "################## time_id RMSPE COMPARISON between groundtruth and prediction on train set END ########################\n",
      "\n",
      "################## time_id RMSPE COMPARISON between groundtruth and prediction on test set START ##########################\n",
      "\n",
      "\n",
      "################## time_id RMSPE COMPARISON between groundtruth and prediction on test set END ##########################\n",
      "\n",
      "##################################################################################################\n",
      "\n",
      "####################################### Representativeness of validation set in test set START #################################################\n"
     ]
    },
    {
     "data": {
      "image/png": "[encoded data removed]",
      "text/plain": [
       "<Figure size 640x480 with 2 Axes>"
      ]
     },
     "metadata": {},
     "output_type": "display_data"
    },
    {
     "name": "stdout",
     "output_type": "stream",
     "text": [
      "\n",
      "####################################### Representativeness of validation set in test set END #################################################\n"
     ]
    }
   ],
   "source": [
    "\n",
    "t_v_t.evaluate_predictions(final_reg,test_pred, y_test_df,train_pred,y_train,X_train,X_test,v1tr,v1ts,w_train,w_test,best_mlxtend_xgb_params,mean_val_set_rmspe_error)\n"
   ]
  }
 ],
 "metadata": {
  "kernelspec": {
   "display_name": "optiver_linux",
   "language": "python",
   "name": "python3"
  },
  "language_info": {
   "codemirror_mode": {
    "name": "ipython",
    "version": 3
   },
   "file_extension": ".py",
   "mimetype": "text/x-python",
   "name": "python",
   "nbconvert_exporter": "python",
   "pygments_lexer": "ipython3",
   "version": "3.10.9"
  }
 },
 "nbformat": 4,
 "nbformat_minor": 2
}
